{
  "nbformat": 4,
  "nbformat_minor": 0,
  "metadata": {
    "colab": {
      "provenance": [],
      "collapsed_sections": [
        "h7t52UWcaGtV",
        "E7HIcuQfGVv7",
        "d92OCAkhf1Qw",
        "4MdFhtegncv2",
        "__n9G2-v2mIq"
      ],
      "include_colab_link": true
    },
    "kernelspec": {
      "name": "python3",
      "display_name": "Python 3"
    },
    "language_info": {
      "name": "python"
    }
  },
  "cells": [
    {
      "cell_type": "markdown",
      "metadata": {
        "id": "view-in-github",
        "colab_type": "text"
      },
      "source": [
        "<a href=\"https://colab.research.google.com/github/felipeS15/c-lculos-proyecto-de-grado/blob/main/calculos_proyecto_de_grado.ipynb\" target=\"_parent\"><img src=\"https://colab.research.google.com/assets/colab-badge.svg\" alt=\"Open In Colab\"/></a>"
      ]
    },
    {
      "cell_type": "markdown",
      "source": [
        "#calculos mezcladora de sales #"
      ],
      "metadata": {
        "id": "h7t52UWcaGtV"
      }
    },
    {
      "cell_type": "markdown",
      "source": [
        "*Relación del Reductor (i_reductor)*"
      ],
      "metadata": {
        "id": "PYSxK9COHl4c"
      }
    },
    {
      "cell_type": "code",
      "source": [
        "# Importación de librerías\n",
        "from sympy import symbols, Eq, latex, init_printing\n",
        "from IPython.display import display, Math\n",
        "\n",
        "# Inicializar impresión de ecuaciones en formato elegante\n",
        "init_printing()\n",
        "\n",
        "# Sección 3: Relación del Reductor\n",
        "\n",
        "def calcular_relacion_reductor(n_motor, n_salida):\n",
        "    i_reductor = symbols('i_{reductor}')\n",
        "    N_motor, N_salida = symbols('N_{motor} N_{salida}')\n",
        "    ecuacion = Eq(i_reductor, N_motor / N_salida)\n",
        "    resultado = Eq(i_reductor, n_motor / n_salida)\n",
        "\n",
        "    display(Math(latex(ecuacion)))  # Muestra la ecuación general en formato LaTeX\n",
        "    display(Math(latex(resultado)))  # Muestra la ecuación con valores sustituidos\n",
        "\n",
        "# Valores editables (modificar según necesidad)\n",
        "N_motor_val = 1760   # Velocidad del motor en RPM\n",
        "N_salida_val = 130    # Velocidad de salida del reductor en RPM\n",
        "\n",
        "# Generar y mostrar fórmula con valores\n",
        "calcular_relacion_reductor(N_motor_val, N_salida_val)\n",
        "\n",
        "# Versión con input de usuario (opcional):\n",
        "# Nm = int(input(\"N motor (RPM): \"))\n",
        "# Ns = int(input(\"N salida (RPM): \"))\n",
        "# calcular_relacion_reductor(Nm, Ns)\n"
      ],
      "metadata": {
        "colab": {
          "base_uri": "https://localhost:8080/",
          "height": 76
        },
        "id": "GSshR7bTvEnk",
        "outputId": "74cdab69-4b24-40e9-a260-a6286b6ee8e0"
      },
      "execution_count": null,
      "outputs": [
        {
          "output_type": "display_data",
          "data": {
            "text/plain": [
              "<IPython.core.display.Math object>"
            ],
            "text/latex": "$\\displaystyle i_{reductor} = \\frac{N_{motor}}{N_{salida}}$"
          },
          "metadata": {}
        },
        {
          "output_type": "display_data",
          "data": {
            "text/plain": [
              "<IPython.core.display.Math object>"
            ],
            "text/latex": "$\\displaystyle i_{reductor} = 13.5384615384615$"
          },
          "metadata": {}
        }
      ]
    },
    {
      "cell_type": "markdown",
      "source": [
        "*Relación de Transmisión Total (i_piñones)*"
      ],
      "metadata": {
        "id": "qxA2nYDWaOlw"
      }
    },
    {
      "cell_type": "code",
      "source": [
        "# Importación de librerías\n",
        "from sympy import symbols, Eq, latex, init_printing\n",
        "from IPython.display import display, Math\n",
        "\n",
        "# Inicializar impresión de ecuaciones en formato elegante\n",
        "init_printing()\n",
        "\n",
        "# Sección 2: Relación de Transmisión Total\n",
        "def calcular_relacion(z_conductor, z_conducido):\n",
        "    # Definir símbolos con notación LaTeX explícita\n",
        "    i_pinones = symbols('i_{piñones}')\n",
        "    Z_conductor = symbols('Z_{conductor}')\n",
        "    Z_conducido = symbols('Z_{conducido}')\n",
        "\n",
        "    # Ecuación general (teórica)\n",
        "    ecuacion_teorica = Eq(i_pinones, Z_conductor / Z_conducido)\n",
        "    display(Math(r'\\text{Ecuación general:}\\quad ' + latex(ecuacion_teorica)))  # Mostrar ecuación teórica\n",
        "\n",
        "    # Sustitución de valores\n",
        "    relacion_calculada = z_conductor / z_conducido\n",
        "    ecuacion_numerica = Eq(i_pinones, z_conductor / z_conducido)\n",
        "\n",
        "    # Mostrar la ecuación con valores sustituidos\n",
        "    display(Math(r'\\text{Sustitución de valores:}\\quad ' + latex(ecuacion_numerica)))\n",
        "\n",
        "    # Mostrar el resultado final\n",
        "    display(Math(fr'\\text{{Resultado:}}\\quad i_{{\\text{{piñones}}}} = {relacion_calculada:.4f}'))\n",
        "\n",
        "# Valores editables (modificar según necesidad)\n",
        "Z_conductor_val = 17   # Dientes piñón conductor\n",
        "Z_conducido_val = 74   # Dientes piñón conducido\n",
        "\n",
        "# Generar y mostrar fórmula con valores\n",
        "calcular_relacion(Z_conductor_val, Z_conducido_val)"
      ],
      "metadata": {
        "colab": {
          "base_uri": "https://localhost:8080/",
          "height": 97
        },
        "id": "mD0jX-HpaUlk",
        "outputId": "130e7b88-5ebe-4e3f-daca-beb52ea2f4c7"
      },
      "execution_count": null,
      "outputs": [
        {
          "output_type": "display_data",
          "data": {
            "text/plain": [
              "<IPython.core.display.Math object>"
            ],
            "text/latex": "$\\displaystyle \\text{Ecuación general:}\\quad i_{piñones} = \\frac{Z_{conductor}}{Z_{conducido}}$"
          },
          "metadata": {}
        },
        {
          "output_type": "display_data",
          "data": {
            "text/plain": [
              "<IPython.core.display.Math object>"
            ],
            "text/latex": "$\\displaystyle \\text{Sustitución de valores:}\\quad i_{piñones} = 0.22972972972973$"
          },
          "metadata": {}
        },
        {
          "output_type": "display_data",
          "data": {
            "text/plain": [
              "<IPython.core.display.Math object>"
            ],
            "text/latex": "$\\displaystyle \\text{Resultado:}\\quad i_{\\text{piñones}} = 0.2297$"
          },
          "metadata": {}
        }
      ]
    },
    {
      "cell_type": "markdown",
      "source": [
        "*Relación Total del Sistema (i_total)*"
      ],
      "metadata": {
        "id": "V2WyfhiHcHQs"
      }
    },
    {
      "cell_type": "code",
      "source": [
        "# Importación de librerías\n",
        "from sympy import symbols, Eq, latex, init_printing\n",
        "from IPython.display import display, Math\n",
        "\n",
        "# Inicializar impresión de ecuaciones en formato elegante\n",
        "init_printing()\n",
        "\n",
        "# Sección 4: Relación Total del Sistema\n",
        "def calcular_relacion_total(i_reductor_val, i_pinones_val):\n",
        "    # Definir símbolos con notación LaTeX explícita\n",
        "    i_total = symbols('i_{total}')\n",
        "    i_reductor = symbols('i_{reductor}')\n",
        "    i_pinones = symbols('i_{piñones}')\n",
        "\n",
        "    # Ecuación general (teórica)\n",
        "    ecuacion_teorica = Eq(i_total, i_reductor * i_pinones)\n",
        "    display(Math(r'\\text{Ecuación general:}\\quad ' + latex(ecuacion_teorica)))  # Mostrar ecuación teórica\n",
        "\n",
        "    # Sustitución de valores\n",
        "    relacion_total_calculada = i_reductor_val * i_pinones_val\n",
        "    ecuacion_numerica = Eq(i_total, i_reductor_val * i_pinones_val)\n",
        "\n",
        "    # Mostrar la ecuación con valores sustituidos\n",
        "    display(Math(r'\\text{Sustitución de valores:}\\quad ' + latex(ecuacion_numerica)))\n",
        "\n",
        "    # Mostrar el resultado final\n",
        "    display(Math(fr'\\text{{Resultado:}}\\quad i_{{\\text{{total}}}} = {relacion_total_calculada:.4f}'))\n",
        "\n",
        "# Valores editables (modificar según necesidad)\n",
        "i_reductor_val = 13.54  # Relación del reductor\n",
        "i_pinones_val = 0.230    # Relación de los piñones\n",
        "\n",
        "# Generar y mostrar fórmula con valores\n",
        "calcular_relacion_total(i_reductor_val, i_pinones_val)\n"
      ],
      "metadata": {
        "colab": {
          "base_uri": "https://localhost:8080/",
          "height": 81
        },
        "id": "6ZAaWUAoc_3o",
        "outputId": "ab5ed343-3d3d-4c47-fb4a-9f1aff8cc0ec"
      },
      "execution_count": null,
      "outputs": [
        {
          "output_type": "display_data",
          "data": {
            "text/plain": [
              "<IPython.core.display.Math object>"
            ],
            "text/latex": "$\\displaystyle \\text{Ecuación general:}\\quad i_{total} = i_{piñones} i_{reductor}$"
          },
          "metadata": {}
        },
        {
          "output_type": "display_data",
          "data": {
            "text/plain": [
              "<IPython.core.display.Math object>"
            ],
            "text/latex": "$\\displaystyle \\text{Sustitución de valores:}\\quad i_{total} = 3.1142$"
          },
          "metadata": {}
        },
        {
          "output_type": "display_data",
          "data": {
            "text/plain": [
              "<IPython.core.display.Math object>"
            ],
            "text/latex": "$\\displaystyle \\text{Resultado:}\\quad i_{\\text{total}} = 3.1142$"
          },
          "metadata": {}
        }
      ]
    },
    {
      "cell_type": "markdown",
      "source": [
        "*La velocidad del tambor (N_tambor)*"
      ],
      "metadata": {
        "id": "-2hGKZ9ZhLQC"
      }
    },
    {
      "cell_type": "code",
      "source": [
        "# Importación de librerías\n",
        "from sympy import symbols, Eq, latex, init_printing\n",
        "from IPython.display import display, Math\n",
        "\n",
        "# Inicializar impresión de ecuaciones en formato elegante\n",
        "init_printing()\n",
        "\n",
        "# Sección: Velocidad del Tambor\n",
        "def calcular_velocidad_tambor(n_motor_val, i_total_val):\n",
        "    # Definir símbolos\n",
        "    N_tambor = symbols('N_{tambor}')\n",
        "    N_motor = symbols('N_{motor}')\n",
        "    i_total = symbols('i_{total}')\n",
        "\n",
        "    # Ecuación general\n",
        "    ecuacion = Eq(N_tambor, N_motor / i_total)\n",
        "\n",
        "    # Sustituir valores y calcular resultado\n",
        "    resultado_valor = n_motor_val / i_total_val\n",
        "    resultado = Eq(N_tambor, resultado_valor)\n",
        "\n",
        "    # Mostrar la ecuación general\n",
        "    display(Math(r'\\text{Ecuación general:}\\quad ' + latex(ecuacion)))\n",
        "\n",
        "    # Mostrar la ecuación con valores sustituidos\n",
        "    display(Math(r'\\text{Sustitución de valores:}\\quad ' + latex(resultado)))\n",
        "\n",
        "    # Mostrar el resultado final\n",
        "    display(Math(fr'\\text{{Resultado:}}\\quad N_{{tambor}} = {resultado_valor:.2f}\\ \\text{{RPM}}'))\n",
        "\n",
        "# Valores editables (modificar según necesidad)\n",
        "n_motor_val = 1760  # Velocidad del motor en RPM\n",
        "i_total_val = 3.1142   # Relación total del sistema\n",
        "\n",
        "# Generar y mostrar fórmula con valores\n",
        "calcular_velocidad_tambor(n_motor_val, i_total_val)\n",
        "calcular_velocidad_tambor(n_motor_val, i_total_val)\n"
      ],
      "metadata": {
        "id": "SZJwPKPGeZ5j",
        "outputId": "b758c6ba-52b1-4713-f1df-a41bd6940a3b",
        "colab": {
          "base_uri": "https://localhost:8080/",
          "height": 177
        }
      },
      "execution_count": null,
      "outputs": [
        {
          "output_type": "display_data",
          "data": {
            "text/plain": [
              "<IPython.core.display.Math object>"
            ],
            "text/latex": "$\\displaystyle \\text{Ecuación general:}\\quad N_{tambor} = \\frac{N_{motor}}{i_{total}}$"
          },
          "metadata": {}
        },
        {
          "output_type": "display_data",
          "data": {
            "text/plain": [
              "<IPython.core.display.Math object>"
            ],
            "text/latex": "$\\displaystyle \\text{Sustitución de valores:}\\quad N_{tambor} = 565.153169353285$"
          },
          "metadata": {}
        },
        {
          "output_type": "display_data",
          "data": {
            "text/plain": [
              "<IPython.core.display.Math object>"
            ],
            "text/latex": "$\\displaystyle \\text{Resultado:}\\quad N_{tambor} = 565.15\\ \\text{RPM}$"
          },
          "metadata": {}
        },
        {
          "output_type": "display_data",
          "data": {
            "text/plain": [
              "<IPython.core.display.Math object>"
            ],
            "text/latex": "$\\displaystyle \\text{Ecuación general:}\\quad N_{tambor} = \\frac{N_{motor}}{i_{total}}$"
          },
          "metadata": {}
        },
        {
          "output_type": "display_data",
          "data": {
            "text/plain": [
              "<IPython.core.display.Math object>"
            ],
            "text/latex": "$\\displaystyle \\text{Sustitución de valores:}\\quad N_{tambor} = 565.153169353285$"
          },
          "metadata": {}
        },
        {
          "output_type": "display_data",
          "data": {
            "text/plain": [
              "<IPython.core.display.Math object>"
            ],
            "text/latex": "$\\displaystyle \\text{Resultado:}\\quad N_{tambor} = 565.15\\ \\text{RPM}$"
          },
          "metadata": {}
        }
      ]
    },
    {
      "cell_type": "markdown",
      "source": [
        "*Torque en el Eje del Tambor (T_tambor)*"
      ],
      "metadata": {
        "id": "3OKoc_pBvqCW"
      }
    },
    {
      "cell_type": "code",
      "source": [
        "# Importación de librerías\n",
        "from sympy import symbols, Eq, latex, init_printing\n",
        "from IPython.display import display, Math\n",
        "\n",
        "# Inicializar impresión de ecuaciones en formato elegante\n",
        "init_printing()\n",
        "\n",
        "# Sección: Torque en el Eje del Tambor\n",
        "def calcular_torque_tambor(P_motor_val, N_tambor_val):\n",
        "    # Definir símbolos con notación LaTeX explícita\n",
        "    T_tambor = symbols('T_{tambor}')\n",
        "    P_motor = symbols('P_{motor}')\n",
        "    N_tambor = symbols('N_{tambor}')\n",
        "\n",
        "    # Ecuación general (teórica)\n",
        "    ecuacion_teorica = Eq(T_tambor, (P_motor * 9550) / N_tambor)\n",
        "    display(Math(r'\\text{Ecuación general:}\\quad ' + latex(ecuacion_teorica)))  # Mostrar ecuación teórica\n",
        "\n",
        "    # Sustitución de valores\n",
        "    torque_calculado = (P_motor_val * 9550) / N_tambor_val\n",
        "    ecuacion_numerica = Eq(T_tambor, (P_motor_val * 9550) / N_tambor_val)\n",
        "\n",
        "    # Mostrar la ecuación con valores sustituidos\n",
        "    display(Math(r'\\text{Sustitución de valores:}\\quad ' + latex(ecuacion_numerica)))\n",
        "\n",
        "# Valores editables\n",
        "P_motor_val = 22  # Potencia del motor en kW\n",
        "N_tambor_val = 565.15  # Velocidad del tambor en RPM\n",
        "\n",
        "# Ejecutar función\n",
        "calcular_torque_tambor(P_motor_val, N_tambor_val)\n"
      ],
      "metadata": {
        "colab": {
          "base_uri": "https://localhost:8080/",
          "height": 76
        },
        "id": "pTnqWz_Hv1Ia",
        "outputId": "6522065f-b74c-4fc8-9af8-e355aa2d6081"
      },
      "execution_count": null,
      "outputs": [
        {
          "output_type": "display_data",
          "data": {
            "text/plain": [
              "<IPython.core.display.Math object>"
            ],
            "text/latex": "$\\displaystyle \\text{Ecuación general:}\\quad T_{tambor} = \\frac{9550 P_{motor}}{N_{tambor}}$"
          },
          "metadata": {}
        },
        {
          "output_type": "display_data",
          "data": {
            "text/plain": [
              "<IPython.core.display.Math object>"
            ],
            "text/latex": "$\\displaystyle \\text{Sustitución de valores:}\\quad T_{tambor} = 371.759709811554$"
          },
          "metadata": {}
        }
      ]
    },
    {
      "cell_type": "markdown",
      "source": [
        "*Fuerza en el Tambor por el Producto (F_producto)*"
      ],
      "metadata": {
        "id": "nDs9Z2O1tDHL"
      }
    },
    {
      "cell_type": "code",
      "source": [
        "# Importación de librerías\n",
        "from sympy import symbols, Eq, latex, init_printing\n",
        "from IPython.display import display, Math\n",
        "\n",
        "# Inicializar impresión de ecuaciones en formato elegante\n",
        "init_printing()\n",
        "\n",
        "# Sección: Fuerza en el Tambor por el Producto\n",
        "def calcular_fuerza_producto(m_producto_val, g_val):\n",
        "    # Definir símbolos con notación LaTeX explícita\n",
        "    F_producto = symbols('F_{producto}')\n",
        "    m_producto = symbols('m_{producto}')\n",
        "    g = symbols('g')\n",
        "\n",
        "    # Ecuación general (teórica)\n",
        "    ecuacion_teorica = Eq(F_producto, m_producto * g)\n",
        "    display(Math(r'\\text{Ecuación general:}\\quad ' + latex(ecuacion_teorica)))  # Mostrar ecuación teórica\n",
        "\n",
        "    # Sustitución de valores\n",
        "    fuerza_calculada = m_producto_val * g_val\n",
        "    ecuacion_numerica = Eq(F_producto, m_producto_val * g_val)\n",
        "\n",
        "    # Mostrar la ecuación con valores sustituidos\n",
        "    display(Math(r'\\text{Sustitución de valores:}\\quad ' + latex(ecuacion_numerica)))\n",
        "\n",
        "    # Mostrar el resultado final con unidades\n",
        "    display(Math(fr'\\text{{Resultado:}}\\quad F_{{producto}} = {fuerza_calculada:.1f}\\ \\text{{N}}'))\n",
        "\n",
        "# Valores editables\n",
        "m_producto_val = 1000  # Masa en kg\n",
        "g_val = 9.81  # Aceleración de la gravedad en m/s²\n",
        "\n",
        "# Ejecutar función\n",
        "calcular_fuerza_producto(m_producto_val, g_val)"
      ],
      "metadata": {
        "colab": {
          "base_uri": "https://localhost:8080/"
        },
        "outputId": "c58044b5-44cf-4449-fbdf-e1761bd3ede4",
        "id": "TYX0L2MFtJYb"
      },
      "execution_count": null,
      "outputs": [
        {
          "output_type": "display_data",
          "data": {
            "text/plain": [
              "<IPython.core.display.Math object>"
            ],
            "text/latex": "$\\displaystyle \\text{Ecuación general:}\\quad F_{producto} = g m_{producto}$"
          },
          "metadata": {}
        },
        {
          "output_type": "display_data",
          "data": {
            "text/plain": [
              "<IPython.core.display.Math object>"
            ],
            "text/latex": "$\\displaystyle \\text{Sustitución de valores:}\\quad F_{producto} = 9810.0$"
          },
          "metadata": {}
        },
        {
          "output_type": "display_data",
          "data": {
            "text/plain": [
              "<IPython.core.display.Math object>"
            ],
            "text/latex": "$\\displaystyle \\text{Resultado:}\\quad F_{producto} = 9810.0\\ \\text{N}$"
          },
          "metadata": {}
        }
      ]
    },
    {
      "cell_type": "markdown",
      "source": [
        "*Fuerza Transmitida por la Cadena (F_cadena)*"
      ],
      "metadata": {
        "id": "LOMzQit8hpqq"
      }
    },
    {
      "cell_type": "code",
      "source": [
        "# Importación de librerías\n",
        "from sympy import symbols, Eq, latex, init_printing\n",
        "from IPython.display import display, Math\n",
        "\n",
        "# Inicializar impresión con MathJax\n",
        "init_printing(use_latex='mathjax')\n",
        "\n",
        "# Sección: Fuerza Transmitida por la Cadena\n",
        "def calcular_fuerza_cadena(T_tambor_val, r_pinon_motriz_val):\n",
        "    # Definir símbolos\n",
        "    F_cadena = symbols('F_{cadena}')\n",
        "    T_tambor = symbols('T_{tambor}')\n",
        "    r_pinon_motriz = symbols('r_{piñónmotriz}')\n",
        "\n",
        "    # Ecuación teórica\n",
        "    ecuacion_teorica = Eq(F_cadena, T_tambor / r_pinon_motriz)\n",
        "    display(Math(r'\\text{Ecuación general:}\\quad ' + latex(ecuacion_teorica)))\n",
        "\n",
        "    # Cálculo numérico\n",
        "    fuerza_resultado = T_tambor_val / r_pinon_motriz_val\n",
        "    ecuacion_numerica = Eq(F_cadena, T_tambor_val / r_pinon_motriz_val)  # ¡Usar valores numéricos directamente!\n",
        "\n",
        "    # Mostrar resultados\n",
        "    display(Math(r'\\text{Sustitución:}\\quad ' + latex(ecuacion_numerica)))\n",
        "    display(Math(fr'\\text{{Resultado:}}\\quad F_{{cadena}} = {fuerza_resultado:.1f}\\ \\text{{N}}'))\n",
        "\n",
        "# Valores editables\n",
        "T_tambor_val = 371.75  # Torque en N·m\n",
        "r_pinon_motriz_val = 0.1  # Radio en metros\n",
        "\n",
        "# Ejecutar función (¡nombres correctos!)\n",
        "calcular_fuerza_cadena(T_tambor_val, r_pinon_motriz_val)\n"
      ],
      "metadata": {
        "colab": {
          "base_uri": "https://localhost:8080/",
          "height": 99
        },
        "id": "VhFx1yhIiRAk",
        "outputId": "614f27f3-f41c-4ef6-e80c-4150b509d073"
      },
      "execution_count": null,
      "outputs": [
        {
          "output_type": "display_data",
          "data": {
            "text/plain": [
              "<IPython.core.display.Math object>"
            ],
            "text/latex": "$\\displaystyle \\text{Ecuación general:}\\quad F_{cadena} = \\frac{T_{tambor}}{r_{piñónmotriz}}$"
          },
          "metadata": {}
        },
        {
          "output_type": "display_data",
          "data": {
            "text/plain": [
              "<IPython.core.display.Math object>"
            ],
            "text/latex": "$\\displaystyle \\text{Sustitución:}\\quad F_{cadena} = 3717.5$"
          },
          "metadata": {}
        },
        {
          "output_type": "display_data",
          "data": {
            "text/plain": [
              "<IPython.core.display.Math object>"
            ],
            "text/latex": "$\\displaystyle \\text{Resultado:}\\quad F_{cadena} = 3717.5\\ \\text{N}$"
          },
          "metadata": {}
        }
      ]
    },
    {
      "cell_type": "markdown",
      "source": [
        "*Velocidad Lineal de la Cadena (V_cadena)*"
      ],
      "metadata": {
        "id": "E1smgKd7i3_0"
      }
    },
    {
      "cell_type": "code",
      "source": [
        "# Importación de librerías\n",
        "from sympy import symbols, Eq, latex, init_printing\n",
        "from IPython.display import display, Math\n",
        "\n",
        "# Inicializar impresión de ecuaciones en formato elegante\n",
        "init_printing(use_latex='mathjax')\n",
        "\n",
        "# Sección: Velocidad Lineal de la Cadena\n",
        "def calcular_velocidad_cadena(N_motor_val, i_total_val, r_pinon_motriz_val):\n",
        "    # Cálculos\n",
        "    N_pinon_motriz = N_motor_val / i_total_val\n",
        "    omega_pinon_motriz = (2 * 3.1416 * N_pinon_motriz) / 60\n",
        "    V_cadena = omega_pinon_motriz * r_pinon_motriz_val\n",
        "\n",
        "    # Definir símbolos (con notación LaTeX explícita)\n",
        "    N_pinon_motriz_sym = symbols('N_{piñónmotriz}')\n",
        "    omega_pinon_motriz_sym = symbols('\\omega_{piñónmotriz}')\n",
        "    V_cadena_sym = symbols('V_{cadena}')\n",
        "\n",
        "    # Mostrar ecuaciones teóricas con numeración\n",
        "    display(Math(r'\\text{Ecuación general:}\\quad \\omega_{piñónmotriz} = \\frac{2\\pi N_{piñónmotriz}}{60}'))\n",
        "    display(Math(r'\\text{Ecuación general:}\\quad N_{piñónmotriz} = \\frac{1760}{2.77} = 635.37\\ \\text{RPM}'))\n",
        "    display(Math(r'\\text{Ecuación general:}\\quad V_{cadena} = \\omega_{piñónmotriz} \\times r_{piñónmotriz}'))\n",
        "\n",
        "    # Mostrar resultados con precisión decimal exacta\n",
        "    display(Math(fr'N_{{piñónmotriz}} = {N_pinon_motriz:.2f}\\ \\text{{RPM}}'))\n",
        "    display(Math(fr'\\omega_{{piñónmotriz}} = {omega_pinon_motriz:.2f}\\ \\text{{rad/s}}'))\n",
        "    display(Math(fr'V_{{cadena}} = {V_cadena:.2f}\\ \\text{{m/s}}'))\n",
        "\n",
        "# Valores editables\n",
        "N_motor_val = 1760  # RPM\n",
        "i_total_val = 2.75\n",
        "r_pinon_motriz_val = 0.1  # metros\n",
        "\n",
        "# Ejecutar función\n",
        "calcular_velocidad_cadena(N_motor_val, i_total_val, r_pinon_motriz_val)\n"
      ],
      "metadata": {
        "colab": {
          "base_uri": "https://localhost:8080/",
          "height": 172
        },
        "id": "KsnnV9cgi8wx",
        "outputId": "56b8d834-369d-4fe4-f63e-2f5bc6536ce5"
      },
      "execution_count": null,
      "outputs": [
        {
          "output_type": "display_data",
          "data": {
            "text/plain": [
              "<IPython.core.display.Math object>"
            ],
            "text/latex": "$\\displaystyle \\text{Ecuación general:}\\quad \\omega_{piñónmotriz} = \\frac{2\\pi N_{piñónmotriz}}{60}$"
          },
          "metadata": {}
        },
        {
          "output_type": "display_data",
          "data": {
            "text/plain": [
              "<IPython.core.display.Math object>"
            ],
            "text/latex": "$\\displaystyle \\text{Ecuación general:}\\quad N_{piñónmotriz} = \\frac{1760}{2.77} = 635.37\\ \\text{RPM}$"
          },
          "metadata": {}
        },
        {
          "output_type": "display_data",
          "data": {
            "text/plain": [
              "<IPython.core.display.Math object>"
            ],
            "text/latex": "$\\displaystyle \\text{Ecuación general:}\\quad V_{cadena} = \\omega_{piñónmotriz} \\times r_{piñónmotriz}$"
          },
          "metadata": {}
        },
        {
          "output_type": "display_data",
          "data": {
            "text/plain": [
              "<IPython.core.display.Math object>"
            ],
            "text/latex": "$\\displaystyle N_{piñónmotriz} = 640.00\\ \\text{RPM}$"
          },
          "metadata": {}
        },
        {
          "output_type": "display_data",
          "data": {
            "text/plain": [
              "<IPython.core.display.Math object>"
            ],
            "text/latex": "$\\displaystyle \\omega_{piñónmotriz} = 67.02\\ \\text{rad/s}$"
          },
          "metadata": {}
        },
        {
          "output_type": "display_data",
          "data": {
            "text/plain": [
              "<IPython.core.display.Math object>"
            ],
            "text/latex": "$\\displaystyle V_{cadena} = 6.70\\ \\text{m/s}$"
          },
          "metadata": {}
        }
      ]
    },
    {
      "cell_type": "markdown",
      "source": [
        "*Longitud de la Cadena (L_cadena)*"
      ],
      "metadata": {
        "id": "5Ewk9ldt1MHs"
      }
    },
    {
      "cell_type": "code",
      "source": [
        "# Importación de librerías\n",
        "from sympy import symbols, Eq, latex, init_printing, pi\n",
        "from IPython.display import display, Math\n",
        "\n",
        "# Inicializar impresión de ecuaciones en formato elegante\n",
        "init_printing(use_latex='mathjax')\n",
        "\n",
        "# Sección: Longitud de la Cadena\n",
        "def calcular_longitud_cadena(C_val, N1_val, N2_val):\n",
        "    # Definir símbolos con notación LaTeX explícita\n",
        "    L_cadena = symbols('L_{cadena}')\n",
        "    C = symbols('C')\n",
        "    N1 = symbols('N_1')\n",
        "    N2 = symbols('N_2')\n",
        "\n",
        "    # Ecuación general (teórica)\n",
        "    ecuacion_teorica = Eq(L_cadena, 2*C + (N1 + N2)/2 + ((N2 - N1)**2) / (4 * pi * 2 * C))\n",
        "    display(Math(r'\\text{Ecuación (11):}\\quad ' + latex(ecuacion_teorica)))  # Numeración\n",
        "\n",
        "    # Sustitución de valores correctamente\n",
        "    longitud_calculada = 2*C_val + (N1_val + N2_val)/2 + ((N2_val - N1_val)**2) / (4 * pi * 2 * C_val)\n",
        "    ecuacion_numerica = Eq(L_cadena, longitud_calculada)  # Representación simbólica con valores\n",
        "\n",
        "    # Imprimir ecuación con valores sustituidos correctamente\n",
        "    display(Math(r'\\text{Sustitución:}\\quad ' + latex(ecuacion_numerica)))\n",
        "\n",
        "    # Mostrar resultado final con unidades\n",
        "    display(Math(fr'\\text{{Resultado:}}\\quad L_{{cadena}} = {longitud_calculada:.2f}\\ \\text{{Pasos}}'))\n",
        "\n",
        "# Valores editables\n",
        "C_val = 1.5  # Distancia entre centros en metros\n",
        "N1_val = 15  # Número de dientes del piñón motriz\n",
        "N2_val = 74  # Número de dientes del piñón conducido\n",
        "\n",
        "# Ejecutar función\n",
        "calcular_longitud_cadena(C_val, N1_val, N2_val)\n",
        "\n"
      ],
      "metadata": {
        "colab": {
          "base_uri": "https://localhost:8080/"
        },
        "id": "2spDLCMZ5o1E",
        "outputId": "314a1490-f991-44ee-c8ee-ae5874209b3e"
      },
      "execution_count": null,
      "outputs": [
        {
          "output_type": "display_data",
          "data": {
            "text/plain": [
              "<IPython.core.display.Math object>"
            ],
            "text/latex": "$\\displaystyle \\text{Ecuación (11):}\\quad L_{cadena} = 2 C + \\frac{N_{1}}{2} + \\frac{N_{2}}{2} + \\frac{\\left(- N_{1} + N_{2}\\right)^{2}}{8 \\pi C}$"
          },
          "metadata": {}
        },
        {
          "output_type": "display_data",
          "data": {
            "text/plain": [
              "<IPython.core.display.Math object>"
            ],
            "text/latex": "$\\displaystyle \\text{Sustitución:}\\quad L_{cadena} = 47.5 + \\frac{290.083333333333}{\\pi}$"
          },
          "metadata": {}
        },
        {
          "output_type": "display_data",
          "data": {
            "text/plain": [
              "<IPython.core.display.Math object>"
            ],
            "text/latex": "$\\displaystyle \\text{Resultado:}\\quad L_{cadena} = 139.84\\ \\text{Pasos}$"
          },
          "metadata": {}
        }
      ]
    },
    {
      "cell_type": "markdown",
      "source": [
        "#calculos del elevador de sales#"
      ],
      "metadata": {
        "id": "E7HIcuQfGVv7"
      }
    },
    {
      "cell_type": "markdown",
      "source": [
        "*Relación entre el Torque y potencia (T)*"
      ],
      "metadata": {
        "id": "AZ0xry-c-1DB"
      }
    },
    {
      "cell_type": "code",
      "source": [
        "# Importación de librerías\n",
        "from sympy import symbols, Eq, latex, init_printing\n",
        "from IPython.display import display, Math\n",
        "\n",
        "# Inicializar impresión de ecuaciones en formato elegante\n",
        "init_printing(use_latex='mathjax')\n",
        "\n",
        "# Sección: Relación entre Torque y Potencia\n",
        "def relacion_torque_potencia(P_val, N_val):\n",
        "    T = symbols('T')\n",
        "    P = symbols('P')\n",
        "    N = symbols('w')\n",
        "\n",
        "    # Ecuación teórica de la relación entre potencia y torque\n",
        "    ecuacion_torque_potencia = Eq(T, (P * 9550) / N)\n",
        "    display(Math(r'\\textbf{Ecuación:}\\quad ' + latex(ecuacion_torque_potencia)))\n",
        "\n",
        "    # Sustitución de valores\n",
        "    torque_resultante = (P_val * 9550) / N_val\n",
        "    ecuacion_sustituida = Eq(T, torque_resultante)\n",
        "\n",
        "    # Mostrar ecuación con valores sustituidos\n",
        "    display(Math(r'\\textbf{Sustitución:}\\quad ' + latex(ecuacion_sustituida)))\n",
        "\n",
        "\n",
        "\n",
        "# Valores editables\n",
        "P_val = 5  # Potencia en kW\n",
        "N_val = 1500  # Velocidad en RPM\n",
        "\n",
        "# Ejecutar función\n",
        "relacion_torque_potencia(P_val, N_val)\n",
        "\n"
      ],
      "metadata": {
        "colab": {
          "base_uri": "https://localhost:8080/",
          "height": 73
        },
        "id": "RBHzsXwj-0pr",
        "outputId": "05d35371-90d7-471d-dc6b-8e6127f127e2"
      },
      "execution_count": null,
      "outputs": [
        {
          "output_type": "display_data",
          "data": {
            "text/plain": [
              "<IPython.core.display.Math object>"
            ],
            "text/latex": "$\\displaystyle \\textbf{Ecuación:}\\quad T = \\frac{9550 P}{w}$"
          },
          "metadata": {}
        },
        {
          "output_type": "display_data",
          "data": {
            "text/plain": [
              "<IPython.core.display.Math object>"
            ],
            "text/latex": "$\\displaystyle \\textbf{Sustitución:}\\quad T = 31.8333333333333$"
          },
          "metadata": {}
        }
      ]
    },
    {
      "cell_type": "markdown",
      "source": [
        "*Relación de Reducción (Rel)*"
      ],
      "metadata": {
        "id": "aTOUUPAFApPw"
      }
    },
    {
      "cell_type": "code",
      "source": [
        "# Importación de librerías\n",
        "from sympy import symbols, Eq, latex, init_printing\n",
        "from IPython.display import display, Math\n",
        "\n",
        "# Inicializar impresión de ecuaciones en formato elegante\n",
        "init_printing(use_latex='mathjax')\n",
        "\n",
        "# Sección: Relación de Reducción\n",
        "def relacion_reduccion(N_entrada_val, Rel_val):\n",
        "    Rel = symbols('Rel')\n",
        "    N_entrada = symbols('N_{entrada}')\n",
        "    N_salida = symbols('N_{salida}')\n",
        "\n",
        "    # Ecuación teórica de la relación de reducción\n",
        "    ecuacion_relacion_reduccion = Eq(Rel, N_entrada / N_salida)\n",
        "    display(Math(r'\\textbf{Ecuación general:}\\quad ' + latex(ecuacion_relacion_reduccion)))\n",
        "\n",
        "    # Sustitución de valores\n",
        "    ecuacion_sustituida = Eq(Rel, Rel_val)\n",
        "    display(Math(r'\\textbf{Sustitución:}\\quad ' + latex(ecuacion_sustituida)))\n",
        "\n",
        "    # Cálculo de la velocidad de salida\n",
        "    ecuacion_salida = Eq(N_salida, N_entrada / Rel)\n",
        "    display(Math(r'\\textbf{Ecuación general:}\\quad ' + latex(ecuacion_salida)))\n",
        "\n",
        "    # Sustitución de valores en la ecuación de salida\n",
        "    N_salida_val = N_entrada_val / Rel_val\n",
        "    ecuacion_salida_sustituida = Eq(N_salida, N_salida_val)\n",
        "    display(Math(r'\\textbf{Sustitución:}\\quad ' + latex(ecuacion_salida_sustituida)))\n",
        "\n",
        "# Valores editables\n",
        "N_entrada_val = 1800  # Velocidad de entrada en RPM\n",
        "Rel_val = 18.80  # Relación de reducción\n",
        "\n",
        "# Ejecutar función\n",
        "relacion_reduccion(N_entrada_val, Rel_val)\n"
      ],
      "metadata": {
        "colab": {
          "base_uri": "https://localhost:8080/"
        },
        "id": "oYq2nUINAprs",
        "outputId": "e785eaaa-4676-4253-a911-ec83bc20713e"
      },
      "execution_count": null,
      "outputs": [
        {
          "output_type": "display_data",
          "data": {
            "text/plain": [
              "<IPython.core.display.Math object>"
            ],
            "text/latex": "$\\displaystyle \\textbf{Ecuación general:}\\quad Rel = \\frac{N_{entrada}}{N_{salida}}$"
          },
          "metadata": {}
        },
        {
          "output_type": "display_data",
          "data": {
            "text/plain": [
              "<IPython.core.display.Math object>"
            ],
            "text/latex": "$\\displaystyle \\textbf{Sustitución:}\\quad Rel = 18.8$"
          },
          "metadata": {}
        },
        {
          "output_type": "display_data",
          "data": {
            "text/plain": [
              "<IPython.core.display.Math object>"
            ],
            "text/latex": "$\\displaystyle \\textbf{Ecuación general:}\\quad N_{salida} = \\frac{N_{entrada}}{Rel}$"
          },
          "metadata": {}
        },
        {
          "output_type": "display_data",
          "data": {
            "text/plain": [
              "<IPython.core.display.Math object>"
            ],
            "text/latex": "$\\displaystyle \\textbf{Sustitución:}\\quad N_{salida} = 95.7446808510638$"
          },
          "metadata": {}
        }
      ]
    },
    {
      "cell_type": "markdown",
      "source": [
        "*Velocidad Angular del sistema (ω)*"
      ],
      "metadata": {
        "id": "_znZjzuZBMna"
      }
    },
    {
      "cell_type": "code",
      "source": [
        "# Importación de librerías\n",
        "from sympy import symbols, Eq, latex, init_printing, pi\n",
        "from IPython.display import display, Math\n",
        "\n",
        "# Inicializar impresión de ecuaciones en formato elegante\n",
        "init_printing(use_latex='mathjax')\n",
        "\n",
        "# Sección: Velocidad Angular del Sistema\n",
        "def calcular_velocidad_angular(N_val):\n",
        "    omega = symbols('\\omega')\n",
        "    N = symbols('N')\n",
        "\n",
        "    # Ecuación teórica de la velocidad angular\n",
        "    ecuacion_velocidad_angular = Eq(omega, (2 * pi * N) / (120))\n",
        "    display(Math(r'\\textbf{Ecuación :}\\quad ' + latex(ecuacion_velocidad_angular)))\n",
        "\n",
        "    # Sustitución de valores\n",
        "    omega_val = (2 * 3.1416 * N_val) / 60\n",
        "    ecuacion_sustituida = Eq(omega, omega_val)\n",
        "    display(Math(r'\\textbf{Sustitución:}\\quad ' + latex(ecuacion_sustituida)))\n",
        "\n",
        "# Valores editables\n",
        "N_val = 95.74  # Velocidad en RPM\n",
        "\n",
        "# Ejecutar función\n",
        "calcular_velocidad_angular(N_val)"
      ],
      "metadata": {
        "colab": {
          "base_uri": "https://localhost:8080/",
          "height": 73
        },
        "id": "rxaSNN3xBOr-",
        "outputId": "cf6043e4-64fa-405e-d811-0c47bf548212"
      },
      "execution_count": null,
      "outputs": [
        {
          "output_type": "display_data",
          "data": {
            "text/plain": [
              "<IPython.core.display.Math object>"
            ],
            "text/latex": "$\\displaystyle \\textbf{Ecuación :}\\quad \\omega = \\frac{\\pi N}{60}$"
          },
          "metadata": {}
        },
        {
          "output_type": "display_data",
          "data": {
            "text/plain": [
              "<IPython.core.display.Math object>"
            ],
            "text/latex": "$\\displaystyle \\textbf{Sustitución:}\\quad \\omega = 10.0258928$"
          },
          "metadata": {}
        }
      ]
    },
    {
      "cell_type": "markdown",
      "source": [
        "*potencia nominal (P_AG)*"
      ],
      "metadata": {
        "id": "z824Zb1cBjxK"
      }
    },
    {
      "cell_type": "code",
      "source": [
        "# Importación de librerías\n",
        "from sympy import symbols, Eq, latex, init_printing, pi\n",
        "from IPython.display import display, Math\n",
        "\n",
        "# Inicializar impresión de ecuaciones en formato elegante\n",
        "init_printing(use_latex='mathjax')\n",
        "\n",
        "# Sección: Potencia Nominal (P_AG)\n",
        "def calcular_potencia_nominal(T_val, omega_val):\n",
        "    P_AG = symbols('P_{AG}')\n",
        "    T = symbols('T')\n",
        "    omega = symbols('\\omega')\n",
        "\n",
        "    # Ecuación teórica de la potencia nominal\n",
        "    ecuacion_potencia_nominal = Eq(P_AG, (T * omega) / 9550)\n",
        "    display(Math(r'\\textbf{Ecuación general:}\\quad ' + latex(ecuacion_potencia_nominal)))\n",
        "\n",
        "    # Sustitución de valores\n",
        "    P_AG_val = (T_val * omega_val) / 9550\n",
        "    ecuacion_sustituida = Eq(P_AG, P_AG_val)\n",
        "    display(Math(r'\\textbf{Sustitución:}\\quad ' + latex(ecuacion_sustituida)))\n",
        "\n",
        "# Valores editables\n",
        "T_val = 415  # Torque en Nm\n",
        "omega_val = 10.02  # Velocidad angular en rad/s\n",
        "\n",
        "# Ejecutar función\n",
        "calcular_potencia_nominal(T_val, omega_val)\n"
      ],
      "metadata": {
        "colab": {
          "base_uri": "https://localhost:8080/"
        },
        "id": "bwDgh45OBpm3",
        "outputId": "554dc059-c10d-4ed9-fa7f-09ae8d8d9286"
      },
      "execution_count": null,
      "outputs": [
        {
          "output_type": "display_data",
          "data": {
            "text/plain": [
              "<IPython.core.display.Math object>"
            ],
            "text/latex": "$\\displaystyle \\textbf{Ecuación general:}\\quad P_{AG} = \\frac{T \\omega}{9550}$"
          },
          "metadata": {}
        },
        {
          "output_type": "display_data",
          "data": {
            "text/plain": [
              "<IPython.core.display.Math object>"
            ],
            "text/latex": "$\\displaystyle \\textbf{Sustitución:}\\quad P_{AG} = 0.435424083769634$"
          },
          "metadata": {}
        }
      ]
    },
    {
      "cell_type": "markdown",
      "source": [
        "*Corriente Nominal (I)*\n",
        "\n",
        "\n"
      ],
      "metadata": {
        "id": "z8KwJUWpC1hX"
      }
    },
    {
      "cell_type": "code",
      "source": [
        "from sympy import symbols, Eq, latex, init_printing, sqrt, N\n",
        "from IPython.display import display, Math\n",
        "\n",
        "# Inicializar impresión de ecuaciones en formato elegante\n",
        "init_printing(use_latex='mathjax')\n",
        "\n",
        "# Sección: Corriente Nominal (I)\n",
        "def calcular_corriente_nominal(V_val, I_val, cos_phi_val):\n",
        "    P_electrica = symbols('P_{eléctrica}')\n",
        "    V = symbols('V')\n",
        "    I = symbols('I')\n",
        "    cos_phi = symbols('\\cos\\phi')\n",
        "\n",
        "    # Ecuación teórica de la potencia eléctrica con raíz de 3\n",
        "    ecuacion_potencia_electrica = Eq(P_electrica, sqrt(3) * V * I * cos_phi)\n",
        "    display(Math(r'\\textbf{Ecuación general:}\\quad ' + latex(ecuacion_potencia_electrica)))\n",
        "\n",
        "    # Sustitución de valores con evaluación numérica\n",
        "    P_electrica_val = N(sqrt(3) * V_val * I_val * cos_phi_val)  # Evaluar el valor numérico\n",
        "    ecuacion_sustituida = Eq(P_electrica, P_electrica_val)\n",
        "    display(Math(r'\\textbf{Sustitución:}\\quad ' + latex(ecuacion_sustituida) + r'\\thinspace \\mathrm{kW}'))\n",
        "\n",
        "# Valores editables\n",
        "V_val = 220  # Voltaje en V\n",
        "I_val = 14.6  # Corriente en A\n",
        "cos_phi_val = 0.84  # Factor de potencia\n",
        "\n",
        "# Ejecutar función\n",
        "calcular_corriente_nominal(V_val, I_val, cos_phi_val)\n",
        "\n"
      ],
      "metadata": {
        "colab": {
          "base_uri": "https://localhost:8080/"
        },
        "id": "DbMzu88BC7xV",
        "outputId": "6d058401-8da8-41b3-d6c5-f309692e31da"
      },
      "execution_count": null,
      "outputs": [
        {
          "output_type": "display_data",
          "data": {
            "text/plain": [
              "<IPython.core.display.Math object>"
            ],
            "text/latex": "$\\displaystyle \\textbf{Ecuación general:}\\quad P_{eléctrica} = \\sqrt{3} I V \\cos\\phi$"
          },
          "metadata": {}
        },
        {
          "output_type": "display_data",
          "data": {
            "text/plain": [
              "<IPython.core.display.Math object>"
            ],
            "text/latex": "$\\displaystyle \\textbf{Sustitución:}\\quad P_{eléctrica} = 4673.21164288544\\thinspace \\mathrm{kW}$"
          },
          "metadata": {}
        }
      ]
    },
    {
      "cell_type": "markdown",
      "source": [
        "*Relación de Transmisión de los Piñones (i_piñones)*"
      ],
      "metadata": {
        "id": "3Jn1laW8FL3f"
      }
    },
    {
      "cell_type": "code",
      "source": [
        "from sympy import symbols, Eq, latex\n",
        "from IPython.display import display, Math\n",
        "\n",
        "# Función para calcular la relación de transmisión entre los piñones\n",
        "def calcular_relacion_pinones(Z_conductor_val, Z_conducido_val):\n",
        "    ipiñones = symbols('i_{piñones}')\n",
        "    Z_conductor = symbols('Z_{\\mathrm{conductor}}')\n",
        "    Z_conducido = symbols('Z_{\\mathrm{conducido}}')\n",
        "\n",
        "    # Ecuación teórica de la relación de transmisión\n",
        "    ecuacion_relacion_pinones = Eq(ipiñones, Z_conductor / Z_conducido)\n",
        "    display(Math(r'\\textbf{Ecuación general:}\\quad ' + latex(ecuacion_relacion_pinones)))\n",
        "\n",
        "    # Sustitución de valores\n",
        "    ipiñones_val = Z_conductor_val / Z_conducido_val\n",
        "    ecuacion_sustituida = Eq(ipiñones, ipiñones_val)\n",
        "    display(Math(r'\\textbf{Sustitución:}\\quad ' + latex(ecuacion_sustituida)))\n",
        "\n",
        "# Valores editables\n",
        "Z_conductor_val = 16  # Número de dientes del piñón conductor\n",
        "Z_conducido_val = 15  # Número de dientes del piñón conducido\n",
        "\n",
        "# Ejecutar función\n",
        "calcular_relacion_pinones(Z_conductor_val, Z_conducido_val)\n"
      ],
      "metadata": {
        "colab": {
          "base_uri": "https://localhost:8080/",
          "height": 76
        },
        "id": "dLsQa-NWFMJL",
        "outputId": "fbee1ff0-3638-4693-d122-1d0ec89f668c"
      },
      "execution_count": null,
      "outputs": [
        {
          "output_type": "display_data",
          "data": {
            "text/plain": [
              "<IPython.core.display.Math object>"
            ],
            "text/latex": "$\\displaystyle \\textbf{Ecuación general:}\\quad i_{piñones} = \\frac{Z_{\\mathrm{conductor}}}{Z_{\\mathrm{conducido}}}$"
          },
          "metadata": {}
        },
        {
          "output_type": "display_data",
          "data": {
            "text/plain": [
              "<IPython.core.display.Math object>"
            ],
            "text/latex": "$\\displaystyle \\textbf{Sustitución:}\\quad i_{piñones} = 1.06666666666667$"
          },
          "metadata": {}
        }
      ]
    },
    {
      "cell_type": "markdown",
      "source": [
        "*Relación Total del Sistema (i_total)*\n",
        "\n",
        "\n",
        "\n"
      ],
      "metadata": {
        "id": "RuhxCi_eFjmb"
      }
    },
    {
      "cell_type": "code",
      "source": [
        "from sympy import symbols, Eq, latex\n",
        "from IPython.display import display, Math\n",
        "\n",
        "# Función para calcular la relación total del sistema\n",
        "def calcular_relacion_total(i_reductor_val, i_pinones_val):\n",
        "    i_total = symbols('i_{\\mathrm{total}}')\n",
        "    i_reductor = symbols('i_{\\mathrm{reductor}}')\n",
        "    i_pinones = symbols('i_{\\mathrm{piñones}}')\n",
        "\n",
        "    # Ecuación teórica de la relación total del sistema con símbolo de multiplicación\n",
        "    ecuacion_relacion_total = Eq(i_total, i_reductor * i_pinones)\n",
        "    display(Math(r'\\textbf{Ecuación general:}\\quad i_{\\mathrm{total}} = i_{\\mathrm{reductor}} \\times i_{\\mathrm{piñones}}'))\n",
        "\n",
        "    # Sustitución de valores\n",
        "    i_total_val = i_reductor_val * i_pinones_val\n",
        "    ecuacion_sustituida = Eq(i_total, i_total_val)\n",
        "    display(Math(r'\\textbf{Sustitución:}\\quad i_{\\mathrm{total}} = %.2f \\times %.2f = %.2f' % (i_reductor_val, i_pinones_val, i_total_val)))\n",
        "\n",
        "# Valores editables\n",
        "i_reductor_val = 18.80  # Relación del motorreductor\n",
        "i_pinones_val = 1.067  # Relación de los piñones\n",
        "\n",
        "# Ejecutar función\n",
        "calcular_relacion_total(i_reductor_val, i_pinones_val)\n"
      ],
      "metadata": {
        "colab": {
          "base_uri": "https://localhost:8080/",
          "height": 60
        },
        "id": "8Yx19qgEJEIw",
        "outputId": "348e8bc7-858d-4747-9d10-2466339e0fac"
      },
      "execution_count": null,
      "outputs": [
        {
          "output_type": "display_data",
          "data": {
            "text/plain": [
              "<IPython.core.display.Math object>"
            ],
            "text/latex": "$\\displaystyle \\textbf{Ecuación general:}\\quad i_{\\mathrm{total}} = i_{\\mathrm{reductor}} \\times i_{\\mathrm{piñones}}$"
          },
          "metadata": {}
        },
        {
          "output_type": "display_data",
          "data": {
            "text/plain": [
              "<IPython.core.display.Math object>"
            ],
            "text/latex": "$\\displaystyle \\textbf{Sustitución:}\\quad i_{\\mathrm{total}} = 18.80 \\times 1.07 = 20.06$"
          },
          "metadata": {}
        }
      ]
    },
    {
      "cell_type": "markdown",
      "source": [
        "*Velocidad del Tambor (N_tambor)*"
      ],
      "metadata": {
        "id": "2AdFeZJzJt_w"
      }
    },
    {
      "cell_type": "code",
      "source": [
        "from sympy import symbols, Eq, latex\n",
        "from IPython.display import display, Math\n",
        "\n",
        "# Función para calcular la velocidad del tambor\n",
        "def calcular_velocidad_tambor(N_motor_val, i_total_val):\n",
        "    N_tambor = symbols(r'N_{\\mathrm{tambor}}')\n",
        "    N_motor = symbols(r'N_{\\mathrm{motor}}')\n",
        "    i_total = symbols(r'i_{\\mathrm{total}}')\n",
        "\n",
        "    # Ecuación teórica de la velocidad del tambor\n",
        "    ecuacion_velocidad_tambor = Eq(N_tambor, N_motor / i_total)\n",
        "    display(Math(r'\\textbf{Ecuación general:} \\quad ' + latex(ecuacion_velocidad_tambor)))\n",
        "\n",
        "    # Cálculo del valor\n",
        "    N_tambor_val = N_motor_val / i_total_val\n",
        "\n",
        "    # Impresión de sustitución corregida con formato adecuado\n",
        "    display(Math(\n",
        "        r'\\textbf{Sustitución:} \\quad '\n",
        "        r'N_{\\mathrm{tambor}} = \\frac{' + f'{N_motor_val:.2f}' + r'}{' + f'{i_total_val:.2f}' + r'} = ' + f'{N_tambor_val:.2f}' + r'\\; \\mathrm{RPM}'\n",
        "    ))\n",
        "\n",
        "# Valores editables\n",
        "N_motor_val = 95.74  # Velocidad del motor en RPM\n",
        "i_total_val = 20.06  # Relación total del sistema\n",
        "\n",
        "# Ejecutar función\n",
        "calcular_velocidad_tambor(N_motor_val, i_total_val)"
      ],
      "metadata": {
        "colab": {
          "base_uri": "https://localhost:8080/",
          "height": 88
        },
        "id": "Q4LGTRT6K3_Z",
        "outputId": "fb3fd0b0-4518-4e17-d230-fdd47721b345"
      },
      "execution_count": null,
      "outputs": [
        {
          "output_type": "display_data",
          "data": {
            "text/plain": [
              "<IPython.core.display.Math object>"
            ],
            "text/latex": "$\\displaystyle \\textbf{Ecuación general:} \\quad N_{\\mathrm{tambor}} = \\frac{N_{\\mathrm{motor}}}{i_{\\mathrm{total}}}$"
          },
          "metadata": {}
        },
        {
          "output_type": "display_data",
          "data": {
            "text/plain": [
              "<IPython.core.display.Math object>"
            ],
            "text/latex": "$\\displaystyle \\textbf{Sustitución:} \\quad N_{\\mathrm{tambor}} = \\frac{95.74}{20.06} = 4.77\\; \\mathrm{RPM}$"
          },
          "metadata": {}
        }
      ]
    },
    {
      "cell_type": "markdown",
      "source": [
        "*Torque en el Tambor (T_tambor)*"
      ],
      "metadata": {
        "id": "Sw1JVYIFLwUa"
      }
    },
    {
      "cell_type": "code",
      "source": [
        "from sympy import symbols, Eq, latex\n",
        "from IPython.display import display, Math\n",
        "\n",
        "# Función para calcular el torque en el tambor\n",
        "def calcular_torque_tambor(P_motor_val, N_tambor_val):\n",
        "    T_tambor = symbols(r'T_{\\mathrm{tambor}}')\n",
        "    P_motor = symbols(r'P_{\\mathrm{motor}}')\n",
        "    N_tambor = symbols(r'N_{\\mathrm{tambor}}')\n",
        "\n",
        "    # Ecuación teórica del torque en el tambor\n",
        "    ecuacion_torque_tambor = Eq(T_tambor, (9550 * P_motor) / N_tambor)\n",
        "    display(Math(r'\\textbf{Ecuación general:} \\quad ' + latex(ecuacion_torque_tambor)))\n",
        "\n",
        "    # Cálculo del valor\n",
        "    T_tambor_val = (9550 * P_motor_val) / N_tambor_val\n",
        "\n",
        "    # Impresión de sustitución corregida con formato adecuado\n",
        "    display(Math(\n",
        "        r'\\textbf{Sustitución:} \\quad '\n",
        "        r'T_{\\mathrm{tambor}} = \\frac{9550 \\cdot ' + f'{P_motor_val:.3f}' + r'}{' + f'{N_tambor_val:.2f}' + r'} = ' + f'{T_tambor_val:.2f}' + r'\\; \\mathrm{Nm}'\n",
        "    ))\n",
        "\n",
        "# Valores editables\n",
        "P_motor_val = 0.440  # Potencia del motor en kW\n",
        "N_tambor_val = 4.77  # Velocidad del tambor en RPM\n",
        "\n",
        "# Ejecutar función\n",
        "calcular_torque_tambor(P_motor_val, N_tambor_val)"
      ],
      "metadata": {
        "colab": {
          "base_uri": "https://localhost:8080/",
          "height": 88
        },
        "id": "nWNt2No-L2U9",
        "outputId": "8c070492-c8f8-49d5-f276-ec0c8120c5f9"
      },
      "execution_count": null,
      "outputs": [
        {
          "output_type": "display_data",
          "data": {
            "text/plain": [
              "<IPython.core.display.Math object>"
            ],
            "text/latex": "$\\displaystyle \\textbf{Ecuación general:} \\quad T_{\\mathrm{tambor}} = \\frac{9550 P_{\\mathrm{motor}}}{N_{\\mathrm{tambor}}}$"
          },
          "metadata": {}
        },
        {
          "output_type": "display_data",
          "data": {
            "text/plain": [
              "<IPython.core.display.Math object>"
            ],
            "text/latex": "$\\displaystyle \\textbf{Sustitución:} \\quad T_{\\mathrm{tambor}} = \\frac{9550 \\cdot 0.440}{4.77} = 880.92\\; \\mathrm{Nm}$"
          },
          "metadata": {}
        }
      ]
    },
    {
      "cell_type": "markdown",
      "source": [
        "*Fuerza en la Banda (F_banda)*"
      ],
      "metadata": {
        "id": "YjzTqrb6Mrix"
      }
    },
    {
      "cell_type": "code",
      "source": [
        "from sympy import symbols, Eq, latex\n",
        "from IPython.display import display, Math\n",
        "\n",
        "def calcular_fuerza_banda(T_tambor_val, D_tambor_val):\n",
        "    F_banda = symbols(r'F_{\\mathrm{banda}}')\n",
        "    T_tambor = symbols(r'T_{\\mathrm{tambor}}')\n",
        "    r_tambor = symbols(r'r_{\\mathrm{tambor}}')\n",
        "    D_tambor = symbols(r'D_{\\mathrm{tambor}}')\n",
        "\n",
        "    # Cálculo del radio del tambor\n",
        "    ecuacion_radio = Eq(r_tambor, D_tambor / 2)\n",
        "    display(Math(r'\\textbf{Ecuación general:} \\quad ' + latex(ecuacion_radio)))\n",
        "\n",
        "    # Cálculo del valor del radio\n",
        "    r_tambor_val = D_tambor_val / 2\n",
        "    display(Math(\n",
        "        r'\\textbf{Sustitución:} \\quad '\n",
        "        r'r_{\\mathrm{tambor}} = \\frac{' + f'{D_tambor_val:.2f}' + r'}{2} = ' + f'{r_tambor_val:.2f}' + r'\\; \\mathrm{m}'\n",
        "    ))\n",
        "\n",
        "    # Ecuación de la fuerza en la banda\n",
        "    ecuacion_fuerza_banda = Eq(F_banda, T_tambor / r_tambor)\n",
        "    display(Math(r'\\textbf{Ecuación general:} \\quad ' + latex(ecuacion_fuerza_banda)))\n",
        "\n",
        "    # Cálculo del valor de la fuerza en la banda\n",
        "    F_banda_val = T_tambor_val / r_tambor_val\n",
        "    display(Math(\n",
        "        r'\\textbf{Sustitución:} \\quad '\n",
        "        r'F_{\\mathrm{banda}} = \\frac{' + f'{T_tambor_val:.2f}' + r'}{' + f'{r_tambor_val:.2f}' + r'} = ' + f'{F_banda_val:.2f}' + r'\\; \\mathrm{N}'\n",
        "    ))\n",
        "\n",
        "# Valores editables\n",
        "T_tambor_val = 880.92  # Torque en el tambor en Nm\n",
        "D_tambor_val = 0.60  # Diámetro del tambor en metros\n",
        "\n",
        "# Ejecutar función\n",
        "calcular_fuerza_banda(T_tambor_val, D_tambor_val)"
      ],
      "metadata": {
        "colab": {
          "base_uri": "https://localhost:8080/",
          "height": 157
        },
        "id": "Fhr3WgzeMyj1",
        "outputId": "1c4f6f44-8a69-4847-eaae-bd680d4ced68"
      },
      "execution_count": null,
      "outputs": [
        {
          "output_type": "display_data",
          "data": {
            "text/plain": [
              "<IPython.core.display.Math object>"
            ],
            "text/latex": "$\\displaystyle \\textbf{Ecuación general:} \\quad r_{\\mathrm{tambor}} = \\frac{D_{\\mathrm{tambor}}}{2}$"
          },
          "metadata": {}
        },
        {
          "output_type": "display_data",
          "data": {
            "text/plain": [
              "<IPython.core.display.Math object>"
            ],
            "text/latex": "$\\displaystyle \\textbf{Sustitución:} \\quad r_{\\mathrm{tambor}} = \\frac{0.60}{2} = 0.30\\; \\mathrm{m}$"
          },
          "metadata": {}
        },
        {
          "output_type": "display_data",
          "data": {
            "text/plain": [
              "<IPython.core.display.Math object>"
            ],
            "text/latex": "$\\displaystyle \\textbf{Ecuación general:} \\quad F_{\\mathrm{banda}} = \\frac{T_{\\mathrm{tambor}}}{r_{\\mathrm{tambor}}}$"
          },
          "metadata": {}
        },
        {
          "output_type": "display_data",
          "data": {
            "text/plain": [
              "<IPython.core.display.Math object>"
            ],
            "text/latex": "$\\displaystyle \\textbf{Sustitución:} \\quad F_{\\mathrm{banda}} = \\frac{880.92}{0.30} = 2936.40\\; \\mathrm{N}$"
          },
          "metadata": {}
        }
      ]
    },
    {
      "cell_type": "markdown",
      "source": [
        "*Potencia de Carga (P_carga)*"
      ],
      "metadata": {
        "id": "tfgW2DPLNvXk"
      }
    },
    {
      "cell_type": "code",
      "source": [
        "from sympy import symbols, Eq, latex\n",
        "from IPython.display import display, Math\n",
        "\n",
        "# Función para calcular la potencia de carga\n",
        "def calcular_potencia_carga(masa, tiempo, gravedad, velocidad):\n",
        "    # Definir símbolos\n",
        "    Q = symbols(r'Q')\n",
        "    P_carga = symbols(r'P_{\\mathrm{carga}}')\n",
        "    g = symbols(r'g')\n",
        "    v = symbols(r'v')\n",
        "\n",
        "    # Ecuación del caudal másico\n",
        "    ecuacion_Q = Eq(Q, masa / tiempo)\n",
        "    display(Math(r'\\textbf{Ecuación (25):} \\quad ' + latex(ecuacion_Q)))\n",
        "    Q_val = masa / tiempo\n",
        "\n",
        "    display(Math(\n",
        "        r'\\textbf{Sustitución:} \\quad '\n",
        "        r'Q = \\frac{' + f'{masa:.2f}' + r'}{' + f'{tiempo:.2f}' + r'} = ' + f'{Q_val:.2f}' + r'\\; \\mathrm{kg/s}'\n",
        "    ))\n",
        "\n",
        "    # Ecuación de la potencia de carga\n",
        "    ecuacion_P_carga = Eq(P_carga, (Q * g * v) / 1000)\n",
        "    display(Math(r'\\textbf{Ecuación (26):} \\quad ' + latex(ecuacion_P_carga)))\n",
        "\n",
        "    # Cálculo del valor de la potencia de carga\n",
        "    P_carga_val = (Q_val * gravedad * velocidad) / 1000\n",
        "\n",
        "    display(Math(\n",
        "        r'\\textbf{Sustitución:} \\quad '\n",
        "        r'P_{\\mathrm{carga}} = \\frac{' + f'{Q_val:.2f} \\ {gravedad:.2f} \\ {velocidad:.2f}' + r'}{1000} = '\n",
        "        + f'{P_carga_val:.2f}' + r'\\; \\mathrm{kW}'\n",
        "    ))\n",
        "\n",
        "# Valores de entrada\n",
        "masa = 350  # kg\n",
        "tiempo = 300  # s\n",
        "gravedad = 9.81  # m/s^2\n",
        "velocidad = 3.006  # m/s\n",
        "\n",
        "# Ejecutar función\n",
        "calcular_potencia_carga(masa, tiempo, gravedad, velocidad)"
      ],
      "metadata": {
        "colab": {
          "base_uri": "https://localhost:8080/",
          "height": 141
        },
        "id": "jJuQO0rXN0LJ",
        "outputId": "c39e1e8b-2780-4e4e-d643-1d2d773ed32b"
      },
      "execution_count": null,
      "outputs": [
        {
          "output_type": "display_data",
          "data": {
            "text/plain": [
              "<IPython.core.display.Math object>"
            ],
            "text/latex": "$\\displaystyle \\textbf{Ecuación (25):} \\quad Q = 1.16666666666667$"
          },
          "metadata": {}
        },
        {
          "output_type": "display_data",
          "data": {
            "text/plain": [
              "<IPython.core.display.Math object>"
            ],
            "text/latex": "$\\displaystyle \\textbf{Sustitución:} \\quad Q = \\frac{350.00}{300.00} = 1.17\\; \\mathrm{kg/s}$"
          },
          "metadata": {}
        },
        {
          "output_type": "display_data",
          "data": {
            "text/plain": [
              "<IPython.core.display.Math object>"
            ],
            "text/latex": "$\\displaystyle \\textbf{Ecuación (26):} \\quad P_{\\mathrm{carga}} = \\frac{Q g v}{1000}$"
          },
          "metadata": {}
        },
        {
          "output_type": "display_data",
          "data": {
            "text/plain": [
              "<IPython.core.display.Math object>"
            ],
            "text/latex": "$\\displaystyle \\textbf{Sustitución:} \\quad P_{\\mathrm{carga}} = \\frac{1.17 \\ 9.81 \\ 3.01}{1000} = 0.03\\; \\mathrm{kW}$"
          },
          "metadata": {}
        }
      ]
    },
    {
      "cell_type": "code",
      "source": [
        "from sympy import symbols, Eq, latex\n",
        "from IPython.display import display, Math\n",
        "\n",
        "# Función para calcular la potencia de carga\n",
        "def calcular_potencia_carga(m, T, g, omega, r_tambor):\n",
        "    Q = m / T  # Caudal másico\n",
        "    v = omega * r_tambor  # Velocidad lineal de la banda\n",
        "    P_carga = (Q * g * v) / 1000  # Potencia de carga usando Q en lugar de m\n",
        "\n",
        "    # Mostrar ecuación del caudal másico\n",
        "    display(Math(r'\\textbf{Ecuación general:} \\quad Q = \\frac{m}{T}'))\n",
        "    display(Math(\n",
        "        r'\\textbf{Sustitución:} \\quad '\n",
        "        r'Q = \\frac{' + f'{m:.2f}' + r'}{' + f'{T:.2f}' + r'} = ' + f'{Q:.2f}' + r'\\; \\mathrm{kg/s}'\n",
        "    ))\n",
        "\n",
        "    # Mostrar ecuación de la velocidad lineal\n",
        "    display(Math(r'\\textbf{Ecuación general:} \\quad v = \\omega \\cdot r_{\\mathrm{tambor}}'))\n",
        "    display(Math(\n",
        "        r'\\textbf{Sustitución:} \\quad '\n",
        "        r'v = ' + f'{omega:.2f} ' + r'\\times ' + f'{r_tambor:.3f} = {v:.3f}' + r'\\; \\mathrm{m/s}'\n",
        "    ))\n",
        "\n",
        "    # Mostrar ecuación de potencia de carga con Q\n",
        "    display(Math(r'\\textbf{Ecuación general:} \\quad P_{\\mathrm{carga}} = \\frac{Q \\cdot g \\cdot v}{1000}'))\n",
        "\n",
        "    display(Math(\n",
        "        r'\\textbf{Sustitución:} \\quad '\n",
        "        r'P_{\\mathrm{carga}} = \\frac{' + f'{Q:.2f} ' + r'\\times ' + f'{g:.2f} ' + r'\\times ' + f'{v:.3f}' + r'}{1000} = '\n",
        "        + f'{P_carga:.2f}' + r'\\; \\mathrm{kW}'\n",
        "    ))\n",
        "\n",
        "# Valores correctos\n",
        "m_val = 350      # Masa en kg\n",
        "T_val = 300      # Tiempo en s\n",
        "g_val = 9.81     # Gravedad en m/s^2\n",
        "omega_val = 10.02  # Velocidad angular del tambor en rad/s\n",
        "r_tambor_val = 0.30  # Radio del tambor en m\n",
        "\n",
        "# Ejecutar función\n",
        "calcular_potencia_carga(m_val, T_val, g_val, omega_val, r_tambor_val)\n",
        "\n"
      ],
      "metadata": {
        "colab": {
          "base_uri": "https://localhost:8080/"
        },
        "id": "OfCQtfrjO6DP",
        "outputId": "1bef2322-72ac-43cf-96cf-0024e23ed43a"
      },
      "execution_count": null,
      "outputs": [
        {
          "output_type": "display_data",
          "data": {
            "text/plain": [
              "<IPython.core.display.Math object>"
            ],
            "text/latex": "$\\displaystyle \\textbf{Ecuación general:} \\quad Q = \\frac{m}{T}$"
          },
          "metadata": {}
        },
        {
          "output_type": "display_data",
          "data": {
            "text/plain": [
              "<IPython.core.display.Math object>"
            ],
            "text/latex": "$\\displaystyle \\textbf{Sustitución:} \\quad Q = \\frac{350.00}{300.00} = 1.17\\; \\mathrm{kg/s}$"
          },
          "metadata": {}
        },
        {
          "output_type": "display_data",
          "data": {
            "text/plain": [
              "<IPython.core.display.Math object>"
            ],
            "text/latex": "$\\displaystyle \\textbf{Ecuación general:} \\quad v = \\omega \\cdot r_{\\mathrm{tambor}}$"
          },
          "metadata": {}
        },
        {
          "output_type": "display_data",
          "data": {
            "text/plain": [
              "<IPython.core.display.Math object>"
            ],
            "text/latex": "$\\displaystyle \\textbf{Sustitución:} \\quad v = 10.02 \\times 0.300 = 3.006\\; \\mathrm{m/s}$"
          },
          "metadata": {}
        },
        {
          "output_type": "display_data",
          "data": {
            "text/plain": [
              "<IPython.core.display.Math object>"
            ],
            "text/latex": "$\\displaystyle \\textbf{Ecuación general:} \\quad P_{\\mathrm{carga}} = \\frac{Q \\cdot g \\cdot v}{1000}$"
          },
          "metadata": {}
        },
        {
          "output_type": "display_data",
          "data": {
            "text/plain": [
              "<IPython.core.display.Math object>"
            ],
            "text/latex": "$\\displaystyle \\textbf{Sustitución:} \\quad P_{\\mathrm{carga}} = \\frac{1.17 \\times 9.81 \\times 3.006}{1000} = 0.03\\; \\mathrm{kW}$"
          },
          "metadata": {}
        }
      ]
    },
    {
      "cell_type": "markdown",
      "source": [
        "*Longitud de la Banda del Elevador (L_banda)*"
      ],
      "metadata": {
        "id": "E8hQyXL3Zn2a"
      }
    },
    {
      "cell_type": "code",
      "source": [
        "from sympy import symbols, pi, Eq, latex\n",
        "from IPython.display import display, Math\n",
        "\n",
        "def calcular_longitud_banda(H, D_tambor):\n",
        "    # Definir variables\n",
        "    L_banda = symbols('L_{\\mathrm{banda}}')\n",
        "    mitad_perimetro = (pi * D_tambor) / 2\n",
        "\n",
        "    # Mostrar ecuación (29): mitad del perímetro del tambor\n",
        "    display(Math(r'\\textbf{Ecuación general:} \\quad \\frac{\\pi \\cdot D_{\\mathrm{tambor}}}{2}'))\n",
        "    display(Math(\n",
        "        r'\\textbf{Sustitución:} \\quad \\frac{\\pi \\cdot ' + f'{D_tambor:.2f}' + r'}{2} = '\n",
        "        + f'{mitad_perimetro:.3f}' + r'\\; \\mathrm{m}'\n",
        "    ))\n",
        "\n",
        "    # Cálculo de la longitud de la banda con la ecuación (28)\n",
        "    L_banda_val = 2 * H + 2 * mitad_perimetro\n",
        "\n",
        "    # Mostrar ecuación (28)\n",
        "    display(Math(r'\\textbf{Ecuación general:} \\quad L_{\\mathrm{banda}} = 2 \\cdot H + 2 \\cdot \\left(\\frac{\\pi \\cdot D_{\\mathrm{tambor}}}{2}\\right)'))\n",
        "    display(Math(\n",
        "        r'\\textbf{Sustitución:} \\quad L_{\\mathrm{banda}} = 2 \\times ' + f'{H:.2f}' + r' + 2 \\times ' + f'{mitad_perimetro:.3f}' + r' = '\n",
        "        + f'{L_banda_val:.3f}' + r'\\; \\mathrm{m}'\n",
        "    ))\n",
        "\n",
        "    return L_banda_val\n",
        "\n",
        "# Valores dados\n",
        "H_val = 5      # Altura en metros\n",
        "D_tambor_val = 0.60  # Diámetro del tambor en metros\n",
        "\n",
        "# Calcular la longitud de la banda\n",
        "L_banda_resultado = calcular_longitud_banda(H_val, D_tambor_val)\n"
      ],
      "metadata": {
        "colab": {
          "base_uri": "https://localhost:8080/",
          "height": 148
        },
        "id": "cixAasTyZtGG",
        "outputId": "9963138a-83a3-4258-c4f3-0e9dd588527c"
      },
      "execution_count": null,
      "outputs": [
        {
          "output_type": "display_data",
          "data": {
            "text/plain": [
              "<IPython.core.display.Math object>"
            ],
            "text/latex": "$\\displaystyle \\textbf{Ecuación general:} \\quad \\frac{\\pi \\cdot D_{\\mathrm{tambor}}}{2}$"
          },
          "metadata": {}
        },
        {
          "output_type": "display_data",
          "data": {
            "text/plain": [
              "<IPython.core.display.Math object>"
            ],
            "text/latex": "$\\displaystyle \\textbf{Sustitución:} \\quad \\frac{\\pi \\cdot 0.60}{2} = 0.942\\; \\mathrm{m}$"
          },
          "metadata": {}
        },
        {
          "output_type": "display_data",
          "data": {
            "text/plain": [
              "<IPython.core.display.Math object>"
            ],
            "text/latex": "$\\displaystyle \\textbf{Ecuación general:} \\quad L_{\\mathrm{banda}} = 2 \\cdot H + 2 \\cdot \\left(\\frac{\\pi \\cdot D_{\\mathrm{tambor}}}{2}\\right)$"
          },
          "metadata": {}
        },
        {
          "output_type": "display_data",
          "data": {
            "text/plain": [
              "<IPython.core.display.Math object>"
            ],
            "text/latex": "$\\displaystyle \\textbf{Sustitución:} \\quad L_{\\mathrm{banda}} = 2 \\times 5.00 + 2 \\times 0.942 = 11.885\\; \\mathrm{m}$"
          },
          "metadata": {}
        }
      ]
    },
    {
      "cell_type": "markdown",
      "source": [
        "*Velocidad Lineal de la Banda (v_banda)*"
      ],
      "metadata": {
        "id": "I5ZC91SNZ_ca"
      }
    },
    {
      "cell_type": "code",
      "source": [
        "from sympy import symbols, pi\n",
        "from IPython.display import display, Math\n",
        "\n",
        "def calcular_velocidad_banda(RPM, D_tambor):\n",
        "    # Definir símbolos\n",
        "    omega, R_tambor, v_banda = symbols('omega R_{tambor} v_{banda}')\n",
        "\n",
        "    # Conversión de velocidad angular (Ecuación 31)\n",
        "    omega_val = (RPM * 2 * pi) / 60\n",
        "    display(Math(r'\\textbf{Ecuación :} \\quad \\omega = \\frac{\\text{RPM} \\times 2\\pi}{60}'))\n",
        "    display(Math(\n",
        "        rf'\\textbf{{Sustitución:}} \\quad \\omega = \\frac{{{RPM:.2f} \\times 2\\pi}}{60} = {omega_val:.3f}\\; \\text{{rad/s}}'\n",
        "    ))\n",
        "\n",
        "    # Cálculo del radio del tambor (Ecuación 32)\n",
        "    R_tambor_val = D_tambor / 2\n",
        "    display(Math(r'\\textbf{Ecuación :} \\quad R_{\\mathrm{tambor}} = \\frac{D_{\\mathrm{tambor}}}{2}'))\n",
        "    display(Math(\n",
        "        rf'\\textbf{{Sustitución:}} \\quad R_{{\\mathrm{{tambor}}}} = \\frac{{{D_tambor:.2f}}}{2} = {R_tambor_val:.3f}\\; \\text{{m}}'\n",
        "    ))\n",
        "\n",
        "    # Cálculo de la velocidad lineal de la banda (Ecuación 30)\n",
        "    v_banda_val = omega_val * R_tambor_val\n",
        "    display(Math(r'\\textbf{Ecuación :} \\quad v_{\\mathrm{banda}} = \\omega \\cdot R_{\\mathrm{tambor}}'))\n",
        "    display(Math(\n",
        "        rf'\\textbf{{Sustitución:}} \\quad v_{{\\mathrm{{banda}}}} = {omega_val:.3f} \\times {R_tambor_val:.3f} = {v_banda_val:.3f}\\; \\text{{m/s}}'\n",
        "    ))\n",
        "\n",
        "    return v_banda_val\n",
        "\n",
        "# Valores dados\n",
        "RPM_val = 6.37  # Velocidad angular en RPM\n",
        "D_tambor_val = 0.60  # Diámetro del tambor en metros\n",
        "\n",
        "# Calcular la velocidad de la banda\n",
        "velocidad = calcular_velocidad_banda(RPM_val, D_tambor_val)\n"
      ],
      "metadata": {
        "colab": {
          "base_uri": "https://localhost:8080/",
          "height": 197
        },
        "id": "x_Toiqm6aEoy",
        "outputId": "ac9de220-3f6e-48fc-ce29-9d3c33c448a5"
      },
      "execution_count": null,
      "outputs": [
        {
          "output_type": "display_data",
          "data": {
            "text/plain": [
              "<IPython.core.display.Math object>"
            ],
            "text/latex": "$\\displaystyle \\textbf{Ecuación :} \\quad \\omega = \\frac{\\text{RPM} \\times 2\\pi}{60}$"
          },
          "metadata": {}
        },
        {
          "output_type": "display_data",
          "data": {
            "text/plain": [
              "<IPython.core.display.Math object>"
            ],
            "text/latex": "$\\displaystyle \\textbf{Sustitución:} \\quad \\omega = \\frac{6.37 \\times 2\\pi}60 = 0.667\\; \\text{rad/s}$"
          },
          "metadata": {}
        },
        {
          "output_type": "display_data",
          "data": {
            "text/plain": [
              "<IPython.core.display.Math object>"
            ],
            "text/latex": "$\\displaystyle \\textbf{Ecuación :} \\quad R_{\\mathrm{tambor}} = \\frac{D_{\\mathrm{tambor}}}{2}$"
          },
          "metadata": {}
        },
        {
          "output_type": "display_data",
          "data": {
            "text/plain": [
              "<IPython.core.display.Math object>"
            ],
            "text/latex": "$\\displaystyle \\textbf{Sustitución:} \\quad R_{\\mathrm{tambor}} = \\frac{0.60}2 = 0.300\\; \\text{m}$"
          },
          "metadata": {}
        },
        {
          "output_type": "display_data",
          "data": {
            "text/plain": [
              "<IPython.core.display.Math object>"
            ],
            "text/latex": "$\\displaystyle \\textbf{Ecuación :} \\quad v_{\\mathrm{banda}} = \\omega \\cdot R_{\\mathrm{tambor}}$"
          },
          "metadata": {}
        },
        {
          "output_type": "display_data",
          "data": {
            "text/plain": [
              "<IPython.core.display.Math object>"
            ],
            "text/latex": "$\\displaystyle \\textbf{Sustitución:} \\quad v_{\\mathrm{banda}} = 0.667 \\times 0.300 = 0.200\\; \\text{m/s}$"
          },
          "metadata": {}
        }
      ]
    },
    {
      "cell_type": "markdown",
      "source": [
        "*Tensión en la Banda (T_banda)*"
      ],
      "metadata": {
        "id": "lbXej6dNawMY"
      }
    },
    {
      "cell_type": "code",
      "source": [
        "from sympy import symbols, pi\n",
        "from IPython.display import display, Math\n",
        "\n",
        "def calcular_tension_banda(W, g, v_banda, mu):\n",
        "    # Definir símbolos\n",
        "    T_banda = symbols('T_{banda}')\n",
        "\n",
        "    # Ecuación de la tensión en la banda (Ecuación 33)\n",
        "    T_banda_val = (W * g) / (v_banda * mu)\n",
        "    display(Math(r'\\textbf{Ecuación general:} \\quad T_{\\mathrm{banda}} = \\frac{W \\cdot g}{v_{\\mathrm{banda}} \\cdot \\mu}'))\n",
        "    display(Math(\n",
        "        rf'\\textbf{{Sustitución:}} \\quad T_{{\\mathrm{{banda}}}} = \\frac{{{W:.2f} \\times {g:.2f}}}{{{v_banda:.3f} \\times {mu:.2f}}} = {T_banda_val:.2f}\\; \\text{{N}}'\n",
        "    ))\n",
        "\n",
        "    return T_banda_val\n",
        "\n",
        "# Valores dados\n",
        "W_val = 350       # Peso transportado en kg\n",
        "g_val = 9.81      # Gravedad en m/s^2\n",
        "v_banda_val = 0.200  # Velocidad de la banda en m/s\n",
        "mu_val = 0.8      # Coeficiente de fricción\n",
        "\n",
        "# Calcular la tensión en la banda\n",
        "tension = calcular_tension_banda(W_val, g_val, v_banda_val, mu_val)\n"
      ],
      "metadata": {
        "colab": {
          "base_uri": "https://localhost:8080/"
        },
        "id": "UOBNCYe9cLcc",
        "outputId": "7c5e34fe-a358-4cae-f519-d407bfffc7ca"
      },
      "execution_count": null,
      "outputs": [
        {
          "output_type": "display_data",
          "data": {
            "text/plain": [
              "<IPython.core.display.Math object>"
            ],
            "text/latex": "$\\displaystyle \\textbf{Ecuación general:} \\quad T_{\\mathrm{banda}} = \\frac{W \\cdot g}{v_{\\mathrm{banda}} \\cdot \\mu}$"
          },
          "metadata": {}
        },
        {
          "output_type": "display_data",
          "data": {
            "text/plain": [
              "<IPython.core.display.Math object>"
            ],
            "text/latex": "$\\displaystyle \\textbf{Sustitución:} \\quad T_{\\mathrm{banda}} = \\frac{350.00 \\times 9.81}{0.200 \\times 0.80} = 21459.37\\; \\text{N}$"
          },
          "metadata": {}
        }
      ]
    },
    {
      "cell_type": "markdown",
      "source": [
        "*Fuerzas en los Ejes del Tambor Superior (F_r) y (F_t)*"
      ],
      "metadata": {
        "id": "JXtjvdvdc10L"
      }
    },
    {
      "cell_type": "code",
      "source": [
        "from sympy import symbols\n",
        "from IPython.display import display, Math\n",
        "\n",
        "def calcular_fuerzas_tambor(T_banda_val, mu_val):\n",
        "    # Definir símbolos\n",
        "    F_r, F_t, T_banda, mu = symbols('F_r F_t T_{banda} \\mu')\n",
        "\n",
        "    # Cálculo de la fuerza radial (Ecuación 34)\n",
        "    F_r_val = T_banda_val / 2\n",
        "    display(Math(r'\\textbf{Ecuación (34):} \\quad F_r = \\frac{T_{\\mathrm{banda}}}{2}'))\n",
        "    display(Math(\n",
        "        rf'\\textbf{{Sustitución:}} \\quad F_r = \\frac{{{T_banda_val:.2f}}}{2} = {F_r_val:.2f}\\; \\text{{N}}'\n",
        "    ))\n",
        "\n",
        "    # Cálculo de la fuerza tangencial (Ecuación 35)\n",
        "    F_t_val = mu_val * T_banda_val\n",
        "    display(Math(r'\\textbf{Ecuación (35):} \\quad F_t = \\mu \\cdot T_{\\mathrm{banda}}'))\n",
        "    display(Math(\n",
        "        rf'\\textbf{{Sustitución:}} \\quad F_t = {mu_val:.2f} \\times {T_banda_val:.2f} = {F_t_val:.2f}\\; \\text{{N}}'\n",
        "    ))\n",
        "\n",
        "    return F_r_val, F_t_val\n",
        "\n",
        "# Valores dados\n",
        "T_banda_val = 21459.37  # Tensión en la banda en N\n",
        "mu_val = 0.8  # Coeficiente de fricción\n",
        "\n",
        "# Calcular las fuerzas en los ejes del tambor\n",
        "F_r, F_t = calcular_fuerzas_tambor(T_banda_val, mu_val)\n"
      ],
      "metadata": {
        "colab": {
          "base_uri": "https://localhost:8080/",
          "height": 129
        },
        "id": "z2wOBFY7c5vu",
        "outputId": "1b7cff72-d013-48ee-c6ee-7e838321e7a0"
      },
      "execution_count": null,
      "outputs": [
        {
          "output_type": "display_data",
          "data": {
            "text/plain": [
              "<IPython.core.display.Math object>"
            ],
            "text/latex": "$\\displaystyle \\textbf{Ecuación (34):} \\quad F_r = \\frac{T_{\\mathrm{banda}}}{2}$"
          },
          "metadata": {}
        },
        {
          "output_type": "display_data",
          "data": {
            "text/plain": [
              "<IPython.core.display.Math object>"
            ],
            "text/latex": "$\\displaystyle \\textbf{Sustitución:} \\quad F_r = \\frac{21459.37}2 = 10729.68\\; \\text{N}$"
          },
          "metadata": {}
        },
        {
          "output_type": "display_data",
          "data": {
            "text/plain": [
              "<IPython.core.display.Math object>"
            ],
            "text/latex": "$\\displaystyle \\textbf{Ecuación (35):} \\quad F_t = \\mu \\cdot T_{\\mathrm{banda}}$"
          },
          "metadata": {}
        },
        {
          "output_type": "display_data",
          "data": {
            "text/plain": [
              "<IPython.core.display.Math object>"
            ],
            "text/latex": "$\\displaystyle \\textbf{Sustitución:} \\quad F_t = 0.80 \\times 21459.37 = 17167.50\\; \\text{N}$"
          },
          "metadata": {}
        }
      ]
    },
    {
      "cell_type": "markdown",
      "source": [
        "*Momento en el Eje del Tambor (M_tambor)*"
      ],
      "metadata": {
        "id": "hq7aCxzZdUG0"
      }
    },
    {
      "cell_type": "code",
      "source": [
        "from sympy import symbols, pi\n",
        "from IPython.display import display, Math\n",
        "\n",
        "def calcular_momento_tambor(F_t, R_tambor):\n",
        "    # Definir símbolos\n",
        "    M_tambor = symbols('M_{tambor}')\n",
        "\n",
        "    # Ecuación del momento en el eje del tambor (Ecuación 36)\n",
        "    display(Math(r'\\textbf{Ecuación general:} \\quad M_{\\mathrm{tambor}} = F_t \\cdot R_{\\mathrm{tambor}}'))\n",
        "\n",
        "    # Cálculo del momento\n",
        "    M_tambor_val = F_t * R_tambor\n",
        "\n",
        "    # Mostrar sustitución y resultado\n",
        "    display(Math(\n",
        "        rf'\\textbf{{Sustitución:}} \\quad M_{{\\mathrm{{tambor}}}} = {F_t:.2f} \\times {R_tambor:.2f} = {M_tambor_val:.2f}\\; \\text{{Nm}}'\n",
        "    ))\n",
        "\n",
        "    return M_tambor_val\n",
        "\n",
        "# Valores dados\n",
        "F_t_val = 17167.50  # Fuerza tangencial en Newtons\n",
        "R_tambor_val = 0.30  # Radio del tambor en metros\n",
        "\n",
        "# Calcular el momento en el eje del tambor\n",
        "momento_tambor = calcular_momento_tambor(F_t_val, R_tambor_val)\n"
      ],
      "metadata": {
        "colab": {
          "base_uri": "https://localhost:8080/",
          "height": 60
        },
        "id": "Om7C2QVadYqm",
        "outputId": "2a872dce-c14e-4b95-b472-1da4474d5897"
      },
      "execution_count": null,
      "outputs": [
        {
          "output_type": "display_data",
          "data": {
            "text/plain": [
              "<IPython.core.display.Math object>"
            ],
            "text/latex": "$\\displaystyle \\textbf{Ecuación general:} \\quad M_{\\mathrm{tambor}} = F_t \\cdot R_{\\mathrm{tambor}}$"
          },
          "metadata": {}
        },
        {
          "output_type": "display_data",
          "data": {
            "text/plain": [
              "<IPython.core.display.Math object>"
            ],
            "text/latex": "$\\displaystyle \\textbf{Sustitución:} \\quad M_{\\mathrm{tambor}} = 17167.50 \\times 0.30 = 5150.25\\; \\text{Nm}$"
          },
          "metadata": {}
        }
      ]
    },
    {
      "cell_type": "markdown",
      "source": [
        "*Fuerza tangencial en los Piñones (F_t) y (F′t')*"
      ],
      "metadata": {
        "id": "0ik6nhs0eGbE"
      }
    },
    {
      "cell_type": "code",
      "source": [
        "from sympy import symbols\n",
        "from IPython.display import display, Math\n",
        "\n",
        "def calcular_fuerza_pinones(M_motor, D_pinon_conductor, i_pinones):\n",
        "    # Definir símbolos\n",
        "    F_t, F_t_prime = symbols('F_t F_t_prime')\n",
        "\n",
        "    # Cálculo de la fuerza tangencial en el piñón conductor (Ecuación 37)\n",
        "    F_t_val = (2 * M_motor) / D_pinon_conductor\n",
        "    display(Math(r'\\textbf{Ecuación general:} \\quad F_t = \\frac{2 \\cdot M_{\\text{motor}}}{D_{\\text{piñón conductor}}}'))\n",
        "    display(Math(\n",
        "        rf'\\textbf{{Sustitución:}} \\quad F_t = \\frac{{2 \\cdot {M_motor:.2f}}}{{{D_pinon_conductor:.2f}}} = {F_t_val:.2f} \\; \\text{{N}}'\n",
        "    ))\n",
        "\n",
        "    # Cálculo de la fuerza tangencial en el piñón conducido (Ecuación 38)\n",
        "    F_t_prime_val = F_t_val * i_pinones\n",
        "    display(Math(r'\\textbf{Ecuación general:} \\quad F_t^\\prime = F_t \\cdot i_{\\text{piñones}}'))\n",
        "    display(Math(\n",
        "        rf'\\textbf{{Sustitución:}} \\quad F_t^\\prime = {F_t_val:.2f} \\times {i_pinones:.2f} = {F_t_prime_val:.2f} \\; \\text{{N}}'\n",
        "    ))\n",
        "\n",
        "    return F_t_val, F_t_prime_val\n",
        "\n",
        "# Valores dados\n",
        "M_motor_val = 415.00  # Momento del motor en Nm\n",
        "D_pinon_conductor_val = 0.15  # Diámetro del piñón conductor en m\n",
        "i_pinones_val = 1.067  # Relación de transmisión\n",
        "\n",
        "# Calcular las fuerzas\n",
        "F_t_conductor, F_t_conducido = calcular_fuerza_pinones(M_motor_val, D_pinon_conductor_val, i_pinones_val)\n"
      ],
      "metadata": {
        "colab": {
          "base_uri": "https://localhost:8080/",
          "height": 133
        },
        "id": "SPp_NsCdegEp",
        "outputId": "7c8ba9f0-2334-4a85-a0f5-6e91fb961c82"
      },
      "execution_count": null,
      "outputs": [
        {
          "output_type": "display_data",
          "data": {
            "text/plain": [
              "<IPython.core.display.Math object>"
            ],
            "text/latex": "$\\displaystyle \\textbf{Ecuación general:} \\quad F_t = \\frac{2 \\cdot M_{\\text{motor}}}{D_{\\text{piñón conductor}}}$"
          },
          "metadata": {}
        },
        {
          "output_type": "display_data",
          "data": {
            "text/plain": [
              "<IPython.core.display.Math object>"
            ],
            "text/latex": "$\\displaystyle \\textbf{Sustitución:} \\quad F_t = \\frac{2 \\cdot 415.00}{0.15} = 5533.33 \\; \\text{N}$"
          },
          "metadata": {}
        },
        {
          "output_type": "display_data",
          "data": {
            "text/plain": [
              "<IPython.core.display.Math object>"
            ],
            "text/latex": "$\\displaystyle \\textbf{Ecuación general:} \\quad F_t^\\prime = F_t \\cdot i_{\\text{piñones}}$"
          },
          "metadata": {}
        },
        {
          "output_type": "display_data",
          "data": {
            "text/plain": [
              "<IPython.core.display.Math object>"
            ],
            "text/latex": "$\\displaystyle \\textbf{Sustitución:} \\quad F_t^\\prime = 5533.33 \\times 1.07 = 5904.07 \\; \\text{N}$"
          },
          "metadata": {}
        }
      ]
    },
    {
      "cell_type": "markdown",
      "source": [
        "*Potencia Transmitida por la Banda (P_banda)*"
      ],
      "metadata": {
        "id": "deuuFXeXerVH"
      }
    },
    {
      "cell_type": "code",
      "source": [
        "from sympy import symbols\n",
        "from IPython.display import display, Math\n",
        "\n",
        "def calcular_potencia_banda(T_banda, v_banda):\n",
        "    # Definir símbolo de potencia\n",
        "    P_banda = symbols('P_banda')\n",
        "\n",
        "    # Cálculo de la potencia transmitida por la banda (Ecuación 39)\n",
        "    P_banda_val = T_banda * v_banda\n",
        "    display(Math(r'\\textbf{Ecuación general:} \\quad P_{\\text{banda}} = T_{\\text{banda}} \\cdot v_{\\text{banda}}'))\n",
        "    display(Math(\n",
        "        rf'\\textbf{{Sustitución:}} \\quad P_{{\\text{{banda}}}} = {T_banda:.2f} \\times {v_banda:.3f} = {P_banda_val:.2f} \\; \\text{{W}}'\n",
        "    ))\n",
        "\n",
        "    return P_banda_val\n",
        "\n",
        "# Valores dados\n",
        "T_banda_val = 21_459.37  # Tensión en la banda en Newtons\n",
        "v_banda_val = 0.200  # Velocidad lineal en m/s\n",
        "\n",
        "# Calcular la potencia transmitida por la banda\n",
        "P_banda = calcular_potencia_banda(T_banda_val, v_banda_val)\n"
      ],
      "metadata": {
        "colab": {
          "base_uri": "https://localhost:8080/",
          "height": 60
        },
        "id": "WsvpXdAufEY6",
        "outputId": "0b459cfc-fe5e-4c28-b9bd-f17a57fc9680"
      },
      "execution_count": null,
      "outputs": [
        {
          "output_type": "display_data",
          "data": {
            "text/plain": [
              "<IPython.core.display.Math object>"
            ],
            "text/latex": "$\\displaystyle \\textbf{Ecuación general:} \\quad P_{\\text{banda}} = T_{\\text{banda}} \\cdot v_{\\text{banda}}$"
          },
          "metadata": {}
        },
        {
          "output_type": "display_data",
          "data": {
            "text/plain": [
              "<IPython.core.display.Math object>"
            ],
            "text/latex": "$\\displaystyle \\textbf{Sustitución:} \\quad P_{\\text{banda}} = 21459.37 \\times 0.200 = 4291.87 \\; \\text{W}$"
          },
          "metadata": {}
        }
      ]
    },
    {
      "cell_type": "markdown",
      "source": [
        "Factor de Seguridad de la Banda (FS_banda)"
      ],
      "metadata": {
        "id": "YEoS7Fm1fU7H"
      }
    },
    {
      "cell_type": "code",
      "source": [
        "from sympy import symbols\n",
        "from IPython.display import display, Math\n",
        "\n",
        "def calcular_fs_banda(T_max, T_banda):\n",
        "    # Definir símbolo del Factor de Seguridad\n",
        "    FS_banda = symbols('FS_banda')\n",
        "\n",
        "    # Cálculo del factor de seguridad (Ecuación 40)\n",
        "    FS_banda_val = T_max / T_banda\n",
        "    display(Math(r'\\textbf{Ecuación general:} \\quad FS_{\\text{banda}} = \\frac{T_{\\text{máxima}}}{T_{\\text{banda}}}'))\n",
        "    display(Math(\n",
        "        rf'\\textbf{{Sustitución:}} \\quad FS_{{\\text{{banda}}}} = \\frac{{{T_max:.2f}}}{{{T_banda:.2f}}} = {FS_banda_val:.2f}'\n",
        "    ))\n",
        "\n",
        "    return FS_banda_val\n",
        "\n",
        "# Valores dados\n",
        "T_max_val = 50_000  # Tensión máxima soportada por la banda en Newtons\n",
        "T_banda_val = 21_459.37  # Tensión en la banda en Newtons\n",
        "\n",
        "# Calcular el factor de seguridad de la banda\n",
        "FS_banda = calcular_fs_banda(T_max_val, T_banda_val)\n"
      ],
      "metadata": {
        "colab": {
          "base_uri": "https://localhost:8080/",
          "height": 88
        },
        "id": "YxVXj0HNfaRK",
        "outputId": "d0699aea-7822-4167-e9de-a136d5d9b6c9"
      },
      "execution_count": null,
      "outputs": [
        {
          "output_type": "display_data",
          "data": {
            "text/plain": [
              "<IPython.core.display.Math object>"
            ],
            "text/latex": "$\\displaystyle \\textbf{Ecuación general:} \\quad FS_{\\text{banda}} = \\frac{T_{\\text{máxima}}}{T_{\\text{banda}}}$"
          },
          "metadata": {}
        },
        {
          "output_type": "display_data",
          "data": {
            "text/plain": [
              "<IPython.core.display.Math object>"
            ],
            "text/latex": "$\\displaystyle \\textbf{Sustitución:} \\quad FS_{\\text{banda}} = \\frac{50000.00}{21459.37} = 2.33$"
          },
          "metadata": {}
        }
      ]
    },
    {
      "cell_type": "markdown",
      "source": [
        "#calculos verificacion de potencia del motor#"
      ],
      "metadata": {
        "id": "d92OCAkhf1Qw"
      }
    },
    {
      "cell_type": "markdown",
      "source": [
        "*Cálculo de las RPM del Motor (N)*"
      ],
      "metadata": {
        "id": "EI3B0ah5gUVo"
      }
    },
    {
      "cell_type": "code",
      "source": [
        "from sympy import symbols\n",
        "from IPython.display import display, Math\n",
        "\n",
        "def calcular_rpm_motor(f, P, s):\n",
        "    # Cálculo de la velocidad síncrona (Ecuación 41)\n",
        "    N_s_val = (120 * f) / P\n",
        "    display(Math(r'\\textbf{Ecuación general:} \\quad N_s = \\frac{120 \\cdot f}{P}'))\n",
        "    display(Math(\n",
        "        rf'\\textbf{{Sustitución:}} \\quad N_s = \\frac{{120 \\cdot {f}}}{{{P}}} = {N_s_val:.0f} \\, \\mathrm{{RPM}}'\n",
        "    ))\n",
        "\n",
        "    # Cálculo de la velocidad nominal (Ecuación 42)\n",
        "    N_val = N_s_val * (1 - s)\n",
        "    display(Math(r'\\textbf{Ecuación general:} \\quad N = N_s \\cdot (1 - s)'))\n",
        "    display(Math(\n",
        "        rf'\\textbf{{Sustitución:}} \\quad N = {N_s_val:.0f} \\cdot (1 - {s}) = {N_val:.0f} \\, \\mathrm{{RPM}}'\n",
        "    ))\n",
        "\n",
        "    return N_val\n",
        "\n",
        "# Valores dados\n",
        "f_val = 60  # Frecuencia de la red en Hz\n",
        "P_val = 4  # Número de polos del motor\n",
        "s_val = 0.04  # Deslizamiento del 4%\n",
        "\n",
        "# Calcular las RPM del motor\n",
        "N_motor = calcular_rpm_motor(f_val, P_val, s_val)"
      ],
      "metadata": {
        "colab": {
          "base_uri": "https://localhost:8080/"
        },
        "id": "2MZkHD3OiFLK",
        "outputId": "3aa9c2f2-fc65-42e5-db8a-c10259ab1d48"
      },
      "execution_count": null,
      "outputs": [
        {
          "output_type": "display_data",
          "data": {
            "text/plain": [
              "<IPython.core.display.Math object>"
            ],
            "text/latex": "$\\displaystyle \\textbf{Ecuación general:} \\quad N_s = \\frac{120 \\cdot f}{P}$"
          },
          "metadata": {}
        },
        {
          "output_type": "display_data",
          "data": {
            "text/plain": [
              "<IPython.core.display.Math object>"
            ],
            "text/latex": "$\\displaystyle \\textbf{Sustitución:} \\quad N_s = \\frac{120 \\cdot 60}{4} = 1800 \\, \\mathrm{RPM}$"
          },
          "metadata": {}
        },
        {
          "output_type": "display_data",
          "data": {
            "text/plain": [
              "<IPython.core.display.Math object>"
            ],
            "text/latex": "$\\displaystyle \\textbf{Ecuación general:} \\quad N = N_s \\cdot (1 - s)$"
          },
          "metadata": {}
        },
        {
          "output_type": "display_data",
          "data": {
            "text/plain": [
              "<IPython.core.display.Math object>"
            ],
            "text/latex": "$\\displaystyle \\textbf{Sustitución:} \\quad N = 1800 \\cdot (1 - 0.04) = 1728 \\, \\mathrm{RPM}$"
          },
          "metadata": {}
        }
      ]
    },
    {
      "cell_type": "markdown",
      "source": [
        "*Verificación de la Potencia del Motor (Pm)*"
      ],
      "metadata": {
        "id": "BnYYqcE7iTRP"
      }
    },
    {
      "cell_type": "code",
      "source": [
        "from sympy import symbols\n",
        "from IPython.display import display, Math\n",
        "\n",
        "def verificar_potencia_motor(Pm_hp):\n",
        "    # Factor de conversión de HP a kW\n",
        "    factor_conversion = 0.7457\n",
        "\n",
        "    # Cálculo de la potencia en kW (Ecuación 43)\n",
        "    Pm_kw = Pm_hp * factor_conversion\n",
        "\n",
        "    # Mostrar ecuación y sustitución en formato LaTeX\n",
        "    display(Math(r'\\textbf{Ecuación :} \\quad P_m (kW) = P_m (HP) \\cdot 0.7457'))\n",
        "    display(Math(\n",
        "        rf'\\textbf{{Sustitución:}} \\quad P_m = {Pm_hp} \\cdot 0.7457 = {Pm_kw:.2f} \\, \\mathrm{{kW}}'\n",
        "    ))\n",
        "\n",
        "    return Pm_kw\n",
        "\n",
        "# Valor dado de potencia en HP\n",
        "Pm_hp_val = 6.6  # Potencia en HP\n",
        "\n",
        "# Verificar la potencia del motor en kW\n",
        "Pm_motor = verificar_potencia_motor(Pm_hp_val)"
      ],
      "metadata": {
        "colab": {
          "base_uri": "https://localhost:8080/",
          "height": 60
        },
        "id": "0jx-PKxgjHRE",
        "outputId": "c4083bec-60c9-48d3-e0e7-53dfd3c871de"
      },
      "execution_count": null,
      "outputs": [
        {
          "output_type": "display_data",
          "data": {
            "text/plain": [
              "<IPython.core.display.Math object>"
            ],
            "text/latex": "$\\displaystyle \\textbf{Ecuación :} \\quad P_m (kW) = P_m (HP) \\cdot 0.7457$"
          },
          "metadata": {}
        },
        {
          "output_type": "display_data",
          "data": {
            "text/plain": [
              "<IPython.core.display.Math object>"
            ],
            "text/latex": "$\\displaystyle \\textbf{Sustitución:} \\quad P_m = 6.6 \\cdot 0.7457 = 4.92 \\, \\mathrm{kW}$"
          },
          "metadata": {}
        }
      ]
    },
    {
      "cell_type": "markdown",
      "source": [
        "*Cálculo de la Corriente Nominal (I)*"
      ],
      "metadata": {
        "id": "o-6YjRK1jTrr"
      }
    },
    {
      "cell_type": "code",
      "source": [
        "from sympy import symbols, sqrt\n",
        "from IPython.display import display, Math\n",
        "\n",
        "def calcular_corriente_nominal(P, V, cos_phi):\n",
        "    # Definir símbolo de la corriente\n",
        "    I = symbols('I')\n",
        "\n",
        "    # Ecuación de potencia en sistema trifásico (Ecuación 45)\n",
        "    display(Math(r'\\textbf{Ecuación :} \\quad P = \\sqrt{3} \\cdot V \\cdot I \\cdot \\cos{\\phi}'))\n",
        "\n",
        "    # Despeje de la corriente nominal (Ecuación 46)\n",
        "    I_val = P / (sqrt(3) * V * cos_phi)\n",
        "    display(Math(r'\\textbf{Ecuación :} \\quad I = \\frac{P}{\\sqrt{3} \\cdot V \\cdot \\cos{\\phi}}'))\n",
        "\n",
        "    # Sustitución de valores y resultado\n",
        "    display(Math(rf'\\textbf{{Sustitución:}} \\quad I = \\frac{{{P:.2f}}}{{\\sqrt{{3}} \\cdot {V} \\cdot {cos_phi:.2f}}} = {I_val:.2f} \\, \\mathrm{{A}}'))\n",
        "\n",
        "    return I_val\n",
        "\n",
        "# Valores dados\n",
        "P_val = 4920  # Potencia en kW\n",
        "V_val = 220  # Tensión de línea en V\n",
        "cos_phi_val = 0.89  # Factor de potencia\n",
        "\n",
        "# Calcular la corriente nominal\n",
        "I_motor = calcular_corriente_nominal(P_val, V_val, cos_phi_val)"
      ],
      "metadata": {
        "colab": {
          "base_uri": "https://localhost:8080/",
          "height": 118
        },
        "id": "ax7DicmBjwHS",
        "outputId": "8a0d6d0e-90cd-46a4-ceb1-bef23c26697f"
      },
      "execution_count": null,
      "outputs": [
        {
          "output_type": "display_data",
          "data": {
            "text/plain": [
              "<IPython.core.display.Math object>"
            ],
            "text/latex": "$\\displaystyle \\textbf{Ecuación :} \\quad P = \\sqrt{3} \\cdot V \\cdot I \\cdot \\cos{\\phi}$"
          },
          "metadata": {}
        },
        {
          "output_type": "display_data",
          "data": {
            "text/plain": [
              "<IPython.core.display.Math object>"
            ],
            "text/latex": "$\\displaystyle \\textbf{Ecuación :} \\quad I = \\frac{P}{\\sqrt{3} \\cdot V \\cdot \\cos{\\phi}}$"
          },
          "metadata": {}
        },
        {
          "output_type": "display_data",
          "data": {
            "text/plain": [
              "<IPython.core.display.Math object>"
            ],
            "text/latex": "$\\displaystyle \\textbf{Sustitución:} \\quad I = \\frac{4920.00}{\\sqrt{3} \\cdot 220 \\cdot 0.89} = 14.51 \\, \\mathrm{A}$"
          },
          "metadata": {}
        }
      ]
    },
    {
      "cell_type": "markdown",
      "source": [
        "#calculos sistema de bombeo#"
      ],
      "metadata": {
        "id": "4MdFhtegncv2"
      }
    },
    {
      "cell_type": "markdown",
      "source": [
        "*Determinación del caudal del sistema (Q)*"
      ],
      "metadata": {
        "id": "kWvBsKSHozlm"
      }
    },
    {
      "cell_type": "code",
      "source": [
        "from sympy import symbols\n",
        "from IPython.display import display, Math\n",
        "\n",
        "def calcular_caudal(m, rho):\n",
        "    # Definir símbolos\n",
        "    Q = symbols('Q')\n",
        "\n",
        "    # Ecuación (48): Cálculo del caudal volumétrico\n",
        "    Q_val = m / rho\n",
        "    display(Math(r'\\textbf{Ecuación general:} \\quad Q = \\frac{m}{\\rho}'))\n",
        "    display(Math(\n",
        "        rf'\\textbf{{Sustitución:}} \\quad Q = \\frac{{{m}}}{{{rho}}} = {Q_val:.6f} \\, \\mathrm{{m^3/s}}'\n",
        "    ))\n",
        "\n",
        "    # Conversión a litros por minuto (Ecuación 49)\n",
        "    Q_lpm = Q_val * 60 * 1000\n",
        "    display(Math(r'\\textbf{Ecuación general:} \\quad Q = Q \\cdot 60 \\cdot 1000'))\n",
        "    display(Math(\n",
        "        rf'\\textbf{{Sustitución:}} \\quad Q = {Q_val:.6f} \\cdot 60 \\cdot 1000 = {Q_lpm:.2f} \\, \\mathrm{{L/min}}'\n",
        "    ))\n",
        "\n",
        "    return Q_val, Q_lpm\n",
        "\n",
        "# Valores dados\n",
        "m_val = 0.194  # Flujo másico en kg/s\n",
        "rho_val = 950  # Densidad en kg/m³\n",
        "\n",
        "# Calcular el caudal\n",
        "Q_m3s, Q_Lmin = calcular_caudal(m_val, rho_val)"
      ],
      "metadata": {
        "colab": {
          "base_uri": "https://localhost:8080/",
          "height": 128
        },
        "id": "1IocwfM7pJEb",
        "outputId": "7d832918-4206-429a-bd3e-685923d9efd6"
      },
      "execution_count": null,
      "outputs": [
        {
          "output_type": "display_data",
          "data": {
            "text/plain": [
              "<IPython.core.display.Math object>"
            ],
            "text/latex": "$\\displaystyle \\textbf{Ecuación general:} \\quad Q = \\frac{m}{\\rho}$"
          },
          "metadata": {}
        },
        {
          "output_type": "display_data",
          "data": {
            "text/plain": [
              "<IPython.core.display.Math object>"
            ],
            "text/latex": "$\\displaystyle \\textbf{Sustitución:} \\quad Q = \\frac{0.194}{950} = 0.000204 \\, \\mathrm{m^3/s}$"
          },
          "metadata": {}
        },
        {
          "output_type": "display_data",
          "data": {
            "text/plain": [
              "<IPython.core.display.Math object>"
            ],
            "text/latex": "$\\displaystyle \\textbf{Ecuación general:} \\quad Q = Q \\cdot 60 \\cdot 1000$"
          },
          "metadata": {}
        },
        {
          "output_type": "display_data",
          "data": {
            "text/plain": [
              "<IPython.core.display.Math object>"
            ],
            "text/latex": "$\\displaystyle \\textbf{Sustitución:} \\quad Q = 0.000204 \\cdot 60 \\cdot 1000 = 12.25 \\, \\mathrm{L/min}$"
          },
          "metadata": {}
        }
      ]
    },
    {
      "cell_type": "markdown",
      "source": [
        "*Velocidad del fluido en las tuberías (v)*"
      ],
      "metadata": {
        "id": "gJ44_PyrqsrU"
      }
    },
    {
      "cell_type": "code",
      "source": [
        "from sympy import symbols, pi\n",
        "from IPython.display import display, Math\n",
        "\n",
        "def calcular_velocidad_fluido(Q, D):\n",
        "    # Definir símbolos\n",
        "    v, A = symbols('v A')\n",
        "\n",
        "    # Cálculo del área transversal de la tubería (Ecuación 51)\n",
        "    A_val = (pi * (D**2)) / 4\n",
        "    display(Math(r'\\textbf{Ecuación general:} \\quad A = \\frac{\\pi D^2}{4}'))\n",
        "    display(Math(\n",
        "        rf'\\textbf{{Sustitución:}} \\quad A = \\frac{{\\pi \\cdot ({D})^2}}{4} = {A_val.evalf():.6f} \\, \\mathrm{{m^2}}'\n",
        "    ))\n",
        "\n",
        "    # Cálculo de la velocidad del fluido (Ecuación 50)\n",
        "    v_val = Q / A_val\n",
        "    display(Math(r'\\textbf{Ecuación general:} \\quad v = \\frac{Q}{A}'))\n",
        "    display(Math(\n",
        "        rf'\\textbf{{Sustitución:}} \\quad v = \\frac{{{Q}}}{{{A_val.evalf():.6f}}} = {v_val.evalf():.3f} \\, \\mathrm{{m/s}}'\n",
        "    ))\n",
        "\n",
        "    return v_val.evalf()\n",
        "\n",
        "# Valores dados\n",
        "Q_val = 0.000204  # Caudal en m³/s\n",
        "D_val = 0.036  # Diámetro interno de la tubería en metros\n",
        "\n",
        "# Calcular la velocidad del fluido\n",
        "velocidad_fluido = calcular_velocidad_fluido(Q_val, D_val)"
      ],
      "metadata": {
        "colab": {
          "base_uri": "https://localhost:8080/",
          "height": 159
        },
        "id": "8G5baCh7rBiZ",
        "outputId": "6fa2ab55-1ab4-48d6-ce50-a10ea7875516"
      },
      "execution_count": null,
      "outputs": [
        {
          "output_type": "display_data",
          "data": {
            "text/plain": [
              "<IPython.core.display.Math object>"
            ],
            "text/latex": "$\\displaystyle \\textbf{Ecuación general:} \\quad A = \\frac{\\pi D^2}{4}$"
          },
          "metadata": {}
        },
        {
          "output_type": "display_data",
          "data": {
            "text/plain": [
              "<IPython.core.display.Math object>"
            ],
            "text/latex": "$\\displaystyle \\textbf{Sustitución:} \\quad A = \\frac{\\pi \\cdot (0.036)^2}4 = 0.001018 \\, \\mathrm{m^2}$"
          },
          "metadata": {}
        },
        {
          "output_type": "display_data",
          "data": {
            "text/plain": [
              "<IPython.core.display.Math object>"
            ],
            "text/latex": "$\\displaystyle \\textbf{Ecuación general:} \\quad v = \\frac{Q}{A}$"
          },
          "metadata": {}
        },
        {
          "output_type": "display_data",
          "data": {
            "text/plain": [
              "<IPython.core.display.Math object>"
            ],
            "text/latex": "$\\displaystyle \\textbf{Sustitución:} \\quad v = \\frac{0.000204}{0.001018} = 0.200 \\, \\mathrm{m/s}$"
          },
          "metadata": {}
        }
      ]
    },
    {
      "cell_type": "markdown",
      "source": [
        "*Cálculo de las pérdidas por fricción en las tuberías (hf)*"
      ],
      "metadata": {
        "id": "Zzvg8sINsP9P"
      }
    },
    {
      "cell_type": "code",
      "source": [
        "from sympy import symbols, pi\n",
        "from IPython.display import display, Math\n",
        "\n",
        "def calcular_perdidas_friccion(rho, v, D, mu, L, g=9.81):\n",
        "    # Definir símbolos\n",
        "    Re, f, hf = symbols('Re f hf')\n",
        "\n",
        "    # Cálculo del número de Reynolds (Ecuación 53)\n",
        "    Re_val = (rho * v * D) / mu\n",
        "    display(Math(r'\\textbf{Ecuación general:} \\quad Re = \\frac{\\rho v D}{\\mu}'))\n",
        "    display(Math(\n",
        "        rf'\\textbf{{Sustitución:}} \\quad Re = \\frac{{{rho} \\cdot {v} \\cdot {D}}}{{{mu}}} = {Re_val:.2f}'\n",
        "    ))\n",
        "\n",
        "    # Determinación del factor de fricción para flujo laminar (Ecuación 54)\n",
        "    if Re_val < 2000:\n",
        "        f_val = 64 / Re_val\n",
        "        display(Math(r'\\textbf{Ecuación general:} \\quad f = \\frac{64}{Re}'))\n",
        "        display(Math(\n",
        "            rf'\\textbf{{Sustitución:}} \\quad f = \\frac{{64}}{{{Re_val:.2f}}} = {f_val:.2f}'\n",
        "        ))\n",
        "    else:\n",
        "        f_val = None  # Si el flujo es turbulento, se requiere otra ecuación\n",
        "        display(Math(r'\\textbf{El flujo es turbulento, se necesita otra ecuación para calcular } f.'))\n",
        "\n",
        "    # Cálculo de las pérdidas por fricción (Ecuación 52)\n",
        "    if f_val is not None:\n",
        "        hf_val = f_val * (L / D) * (v**2 / (2 * g))\n",
        "        display(Math(r'\\textbf{Ecuación general:} \\quad h_f = f \\cdot \\frac{L}{D} \\cdot \\frac{v^2}{2g}'))\n",
        "        display(Math(\n",
        "            rf'\\textbf{{Sustitución:}} \\quad h_f = {f_val:.2f} \\cdot \\frac{{{L}}}{{{D}}} \\cdot \\frac{{({v})^2}}{{2 \\cdot {g}}} = {hf_val:.2f} \\, \\mathrm{{m}}'\n",
        "        ))\n",
        "        return hf_val\n",
        "    else:\n",
        "        return None\n",
        "\n",
        "# Valores dados\n",
        "rho_val = 950  # Densidad en kg/m³\n",
        "v_val = 0.084  # Velocidad en m/s\n",
        "D_val = 0.0556  # Diámetro en metros\n",
        "mu_val = 0.4776  # Viscosidad dinámica en Pa·s\n",
        "L_val = 7.15  # Longitud de la tubería en metros\n",
        "\n",
        "# Calcular pérdidas por fricción\n",
        "perdidas_friccion = calcular_perdidas_friccion(rho_val, v_val, D_val, mu_val, L_val)"
      ],
      "metadata": {
        "colab": {
          "base_uri": "https://localhost:8080/",
          "height": 234
        },
        "id": "j8esmvOes2zz",
        "outputId": "b81b28d3-5dc1-4414-d6be-95557a62923e"
      },
      "execution_count": null,
      "outputs": [
        {
          "output_type": "display_data",
          "data": {
            "text/plain": [
              "<IPython.core.display.Math object>"
            ],
            "text/latex": "$\\displaystyle \\textbf{Ecuación general:} \\quad Re = \\frac{\\rho v D}{\\mu}$"
          },
          "metadata": {}
        },
        {
          "output_type": "display_data",
          "data": {
            "text/plain": [
              "<IPython.core.display.Math object>"
            ],
            "text/latex": "$\\displaystyle \\textbf{Sustitución:} \\quad Re = \\frac{950 \\cdot 0.084 \\cdot 0.0556}{0.4776} = 9.29$"
          },
          "metadata": {}
        },
        {
          "output_type": "display_data",
          "data": {
            "text/plain": [
              "<IPython.core.display.Math object>"
            ],
            "text/latex": "$\\displaystyle \\textbf{Ecuación general:} \\quad f = \\frac{64}{Re}$"
          },
          "metadata": {}
        },
        {
          "output_type": "display_data",
          "data": {
            "text/plain": [
              "<IPython.core.display.Math object>"
            ],
            "text/latex": "$\\displaystyle \\textbf{Sustitución:} \\quad f = \\frac{64}{9.29} = 6.89$"
          },
          "metadata": {}
        },
        {
          "output_type": "display_data",
          "data": {
            "text/plain": [
              "<IPython.core.display.Math object>"
            ],
            "text/latex": "$\\displaystyle \\textbf{Ecuación general:} \\quad h_f = f \\cdot \\frac{L}{D} \\cdot \\frac{v^2}{2g}$"
          },
          "metadata": {}
        },
        {
          "output_type": "display_data",
          "data": {
            "text/plain": [
              "<IPython.core.display.Math object>"
            ],
            "text/latex": "$\\displaystyle \\textbf{Sustitución:} \\quad h_f = 6.89 \\cdot \\frac{7.15}{0.0556} \\cdot \\frac{(0.084)^2}{2 \\cdot 9.81} = 0.32 \\, \\mathrm{m}$"
          },
          "metadata": {}
        }
      ]
    },
    {
      "cell_type": "markdown",
      "source": [
        "*Altura manométrica total (H_T)*"
      ],
      "metadata": {
        "id": "YTLrRjSptS1H"
      }
    },
    {
      "cell_type": "code",
      "source": [
        "from sympy import symbols\n",
        "from IPython.display import display, Math\n",
        "\n",
        "def calcular_altura_manometrica(h_f, h_z):\n",
        "    # Definir símbolos\n",
        "    h_a, H_T = symbols('h_a H_T')\n",
        "\n",
        "    # Calcular pérdidas por accesorios (Ecuación 56)\n",
        "    h_a_val = 0.1 * h_f\n",
        "    display(Math(r'\\textbf{Ecuación general:} \\quad h_a = 0.1 \\cdot h_f'))\n",
        "    display(Math(\n",
        "        rf'\\textbf{{Sustitución:}} \\quad h_a = 0.1 \\cdot {h_f} = {h_a_val:.3f} \\, \\mathrm{{m}}'\n",
        "    ))\n",
        "\n",
        "    # Calcular altura manométrica total (Ecuación 55)\n",
        "    H_T_val = h_f + h_z + h_a_val\n",
        "    display(Math(r'\\textbf{Ecuación general:} \\quad H_T = h_f + h_z + h_a'))\n",
        "    display(Math(\n",
        "        rf'\\textbf{{Sustitución:}} \\quad H_T = {h_f} + {h_z} + {h_a_val:.3f} = {H_T_val:.3f} \\, \\mathrm{{m}}'\n",
        "    ))\n",
        "\n",
        "    return H_T_val\n",
        "\n",
        "# Valores dados\n",
        "h_f_val = 0.32  # Pérdidas por fricción en m\n",
        "h_z_val = 2.0  # Altura estática en m\n",
        "\n",
        "# Calcular la altura manométrica total\n",
        "altura_total = calcular_altura_manometrica(h_f_val, h_z_val)"
      ],
      "metadata": {
        "colab": {
          "base_uri": "https://localhost:8080/",
          "height": 103
        },
        "id": "PF7jlpLOtUPs",
        "outputId": "1b45f92a-8274-41da-e985-17242afbed64"
      },
      "execution_count": null,
      "outputs": [
        {
          "output_type": "display_data",
          "data": {
            "text/plain": [
              "<IPython.core.display.Math object>"
            ],
            "text/latex": "$\\displaystyle \\textbf{Ecuación general:} \\quad h_a = 0.1 \\cdot h_f$"
          },
          "metadata": {}
        },
        {
          "output_type": "display_data",
          "data": {
            "text/plain": [
              "<IPython.core.display.Math object>"
            ],
            "text/latex": "$\\displaystyle \\textbf{Sustitución:} \\quad h_a = 0.1 \\cdot 0.32 = 0.032 \\, \\mathrm{m}$"
          },
          "metadata": {}
        },
        {
          "output_type": "display_data",
          "data": {
            "text/plain": [
              "<IPython.core.display.Math object>"
            ],
            "text/latex": "$\\displaystyle \\textbf{Ecuación general:} \\quad H_T = h_f + h_z + h_a$"
          },
          "metadata": {}
        },
        {
          "output_type": "display_data",
          "data": {
            "text/plain": [
              "<IPython.core.display.Math object>"
            ],
            "text/latex": "$\\displaystyle \\textbf{Sustitución:} \\quad H_T = 0.32 + 2.0 + 0.032 = 2.352 \\, \\mathrm{m}$"
          },
          "metadata": {}
        }
      ]
    },
    {
      "cell_type": "markdown",
      "source": [
        "*Potencia hidráulica requerida (P_h)*"
      ],
      "metadata": {
        "id": "Wp8qxbv1vNNg"
      }
    },
    {
      "cell_type": "code",
      "source": [
        "from sympy import symbols\n",
        "from IPython.display import display, Math\n",
        "\n",
        "def calcular_potencia_hidraulica(rho, g, Q, H_T):\n",
        "    # Definir el símbolo de la potencia hidráulica\n",
        "    P_h = symbols('P_h')\n",
        "\n",
        "    # Mostrar la ecuación general\n",
        "    display(Math(r'\\textbf{Ecuación general:} \\quad P_h = \\rho g Q H_T'))\n",
        "\n",
        "    # Calcular la potencia hidráulica\n",
        "    P_h_val = rho * g * Q * H_T\n",
        "\n",
        "    # Mostrar el cálculo con valores sustituidos\n",
        "    display(Math(\n",
        "        rf'\\textbf{{Sustitución:}} \\quad P_h = {rho} \\cdot {g} \\cdot {Q} \\cdot {H_T} = {P_h_val:.2f} \\, \\mathrm{{W}}'\n",
        "    ))\n",
        "\n",
        "    return P_h_val\n",
        "\n",
        "# Valores dados\n",
        "rho_val = 950       # Densidad en kg/m³\n",
        "g_val = 9.81        # Gravedad en m/s²\n",
        "Q_val = 0.000204    # Caudal en m³/s\n",
        "H_T_val = 2.352     # Altura manométrica total en m\n",
        "\n",
        "# Calcular la potencia hidráulica\n",
        "potencia_hidraulica = calcular_potencia_hidraulica(rho_val, g_val, Q_val, H_T_val)\n"
      ],
      "metadata": {
        "colab": {
          "base_uri": "https://localhost:8080/",
          "height": 60
        },
        "id": "45rdyEngvQVx",
        "outputId": "b6ca7c54-5bd7-4ef0-a26b-037074644242"
      },
      "execution_count": null,
      "outputs": [
        {
          "output_type": "display_data",
          "data": {
            "text/plain": [
              "<IPython.core.display.Math object>"
            ],
            "text/latex": "$\\displaystyle \\textbf{Ecuación general:} \\quad P_h = \\rho g Q H_T$"
          },
          "metadata": {}
        },
        {
          "output_type": "display_data",
          "data": {
            "text/plain": [
              "<IPython.core.display.Math object>"
            ],
            "text/latex": "$\\displaystyle \\textbf{Sustitución:} \\quad P_h = 950 \\cdot 9.81 \\cdot 0.000204 \\cdot 2.352 = 4.47 \\, \\mathrm{W}$"
          },
          "metadata": {}
        }
      ]
    },
    {
      "cell_type": "markdown",
      "source": [
        "*Cálculo de la potencia del motor necesaria (P_motor)*"
      ],
      "metadata": {
        "id": "EuwWpwzIwCy-"
      }
    },
    {
      "cell_type": "code",
      "source": [
        "from sympy import symbols\n",
        "from IPython.display import display, Math\n",
        "\n",
        "def calcular_potencia_motor(P_h, eta_bomba, eta_motor):\n",
        "    # Definir el símbolo de la potencia del motor\n",
        "    P_motor = symbols('P_{motor}')\n",
        "\n",
        "    # Mostrar la ecuación general\n",
        "    display(Math(r'\\textbf{Ecuación general:} \\quad P_{motor} = \\frac{P_h}{\\eta_{bomba} \\cdot \\eta_{motor}}'))\n",
        "\n",
        "    # Calcular la potencia del motor\n",
        "    P_motor_val = P_h / (eta_bomba * eta_motor)\n",
        "\n",
        "    # Mostrar el cálculo con valores sustituidos\n",
        "    display(Math(\n",
        "        rf'\\textbf{{Sustitución:}} \\quad P_{{motor}} = \\frac{{{P_h}}}{{{eta_bomba} \\cdot {eta_motor}}} = {P_motor_val:.2f} \\, \\mathrm{{W}}'\n",
        "    ))\n",
        "\n",
        "    return P_motor_val\n",
        "\n",
        "# Valores dados\n",
        "P_h_val = 4.47       # Potencia hidráulica en W\n",
        "eta_bomba_val = 0.7  # Eficiencia de la bomba\n",
        "eta_motor_val = 0.85 # Eficiencia del motor\n",
        "\n",
        "# Calcular la potencia del motor\n",
        "potencia_motor = calcular_potencia_motor(P_h_val, eta_bomba_val, eta_motor_val)\n"
      ],
      "metadata": {
        "colab": {
          "base_uri": "https://localhost:8080/",
          "height": 89
        },
        "id": "f8usQiAKwGIf",
        "outputId": "4cda387f-ab9f-453e-ac40-e15db3ebab29"
      },
      "execution_count": null,
      "outputs": [
        {
          "output_type": "display_data",
          "data": {
            "text/plain": [
              "<IPython.core.display.Math object>"
            ],
            "text/latex": "$\\displaystyle \\textbf{Ecuación general:} \\quad P_{motor} = \\frac{P_h}{\\eta_{bomba} \\cdot \\eta_{motor}}$"
          },
          "metadata": {}
        },
        {
          "output_type": "display_data",
          "data": {
            "text/plain": [
              "<IPython.core.display.Math object>"
            ],
            "text/latex": "$\\displaystyle \\textbf{Sustitución:} \\quad P_{motor} = \\frac{4.47}{0.7 \\cdot 0.85} = 7.51 \\, \\mathrm{W}$"
          },
          "metadata": {}
        }
      ]
    },
    {
      "cell_type": "markdown",
      "source": [
        "*Selección del acople Omega*"
      ],
      "metadata": {
        "id": "2I08kSZ6wcQR"
      }
    },
    {
      "cell_type": "code",
      "source": [
        "from sympy import symbols, pi\n",
        "from IPython.display import display, Math\n",
        "\n",
        "def calcular_torque(P_motor, N):\n",
        "    # Definir los símbolos de torque y velocidad angular\n",
        "    T, omega = symbols('T \\omega')\n",
        "\n",
        "    # Mostrar la ecuación de velocidad angular\n",
        "    display(Math(r'\\textbf{Ecuación general:} \\quad \\omega = \\frac{2\\pi N}{60}'))\n",
        "\n",
        "    # Calcular la velocidad angular\n",
        "    omega_val = (2 * pi * N) / 60\n",
        "\n",
        "    # Mostrar la sustitución de la ecuación de velocidad angular\n",
        "    display(Math(\n",
        "        rf'\\textbf{{Sustitución:}} \\quad \\omega = \\frac{{2\\pi \\cdot {N}}}{{60}} = {omega_val.evalf():.2f} \\, \\mathrm{{rad/s}}'\n",
        "    ))\n",
        "\n",
        "    # Mostrar la ecuación del torque\n",
        "    display(Math(r'\\textbf{Ecuación general:} \\quad T = \\frac{P_{motor}}{\\omega}'))\n",
        "\n",
        "    # Calcular el torque transmitido\n",
        "    T_val = P_motor / omega_val\n",
        "\n",
        "    # Mostrar la sustitución de la ecuación del torque\n",
        "    display(Math(\n",
        "        rf'\\textbf{{Sustitución:}} \\quad T = \\frac{{{P_motor}}}{{{omega_val.evalf():.2f}}} = {T_val.evalf():.4f} \\, \\mathrm{{Nm}}'\n",
        "    ))\n",
        "\n",
        "    return T_val.evalf()\n",
        "\n",
        "# Valores dados\n",
        "P_motor_val = 7.51  # Potencia del motor en W\n",
        "N_val = 3600        # Velocidad del motor en rpm\n",
        "\n",
        "# Calcular el torque transmitido\n",
        "torque_transmitido = calcular_torque(P_motor_val, N_val)\n"
      ],
      "metadata": {
        "colab": {
          "base_uri": "https://localhost:8080/",
          "height": 154
        },
        "id": "ePTICALRww6D",
        "outputId": "da43dc37-96a3-4df5-cac1-863cb804a853"
      },
      "execution_count": null,
      "outputs": [
        {
          "output_type": "display_data",
          "data": {
            "text/plain": [
              "<IPython.core.display.Math object>"
            ],
            "text/latex": "$\\displaystyle \\textbf{Ecuación general:} \\quad \\omega = \\frac{2\\pi N}{60}$"
          },
          "metadata": {}
        },
        {
          "output_type": "display_data",
          "data": {
            "text/plain": [
              "<IPython.core.display.Math object>"
            ],
            "text/latex": "$\\displaystyle \\textbf{Sustitución:} \\quad \\omega = \\frac{2\\pi \\cdot 3600}{60} = 376.99 \\, \\mathrm{rad/s}$"
          },
          "metadata": {}
        },
        {
          "output_type": "display_data",
          "data": {
            "text/plain": [
              "<IPython.core.display.Math object>"
            ],
            "text/latex": "$\\displaystyle \\textbf{Ecuación general:} \\quad T = \\frac{P_{motor}}{\\omega}$"
          },
          "metadata": {}
        },
        {
          "output_type": "display_data",
          "data": {
            "text/plain": [
              "<IPython.core.display.Math object>"
            ],
            "text/latex": "$\\displaystyle \\textbf{Sustitución:} \\quad T = \\frac{7.51}{376.99} = 0.0199 \\, \\mathrm{Nm}$"
          },
          "metadata": {}
        }
      ]
    },
    {
      "cell_type": "markdown",
      "source": [
        "*Análisis del eje entre la bomba y el motor*"
      ],
      "metadata": {
        "id": "Gb3Z-zjIxZb7"
      }
    },
    {
      "cell_type": "code",
      "source": [
        "from sympy import symbols, pi\n",
        "from IPython.display import display, Math\n",
        "\n",
        "def calcular_esfuerzo_torsional(T, d):\n",
        "    # Definir los símbolos de esfuerzo torsional y momento polar de inercia\n",
        "    tau, J = symbols(r'\\tau J')\n",
        "\n",
        "    # Mostrar la ecuación del momento polar de inercia\n",
        "    display(Math(r'\\textbf{Ecuación general:} \\quad J = \\frac{\\pi d^4}{32}'))\n",
        "\n",
        "    # Calcular el momento polar de inercia\n",
        "    J_val = (pi * d**4) / 32\n",
        "\n",
        "    # Mostrar la sustitución numérica en la ecuación de J\n",
        "    display(Math(\n",
        "        rf'\\textbf{{Sustitución:}} \\quad J = \\frac{{\\pi \\left({d}\\right)^4}}{{32}} = {J_val.evalf():.3e} \\, \\mathrm{{m^4}}'\n",
        "    ))\n",
        "\n",
        "    # Mostrar la ecuación del esfuerzo torsional\n",
        "    display(Math(r'\\textbf{Ecuación general:} \\quad \\tau = \\frac{T}{J}'))\n",
        "\n",
        "    # Calcular el esfuerzo torsional\n",
        "    tau_val = T / J_val\n",
        "\n",
        "    # Mostrar la sustitución en la ecuación del esfuerzo torsional\n",
        "    display(Math(\n",
        "        rf'\\textbf{{Sustitución:}} \\quad \\tau = \\frac{{{T}}}{{{J_val.evalf():.3e}}} = {tau_val.evalf():.2f} \\, \\mathrm{{MPa}}'\n",
        "    ))\n",
        "\n",
        "    return tau_val.evalf()\n",
        "\n",
        "# Valores dados\n",
        "T_val = 0.0199  # Torque transmitido en Nm\n",
        "d_val = 0.0127  # Diámetro del eje en m\n",
        "\n",
        "# Calcular el esfuerzo torsional\n",
        "esfuerzo_torsional = calcular_esfuerzo_torsional(T_val, d_val)\n"
      ],
      "metadata": {
        "colab": {
          "base_uri": "https://localhost:8080/",
          "height": 163
        },
        "id": "obZf-C_vxa1K",
        "outputId": "77c55a79-0754-4969-97b1-1d1a574e1d7b"
      },
      "execution_count": null,
      "outputs": [
        {
          "output_type": "display_data",
          "data": {
            "text/plain": [
              "<IPython.core.display.Math object>"
            ],
            "text/latex": "$\\displaystyle \\textbf{Ecuación general:} \\quad J = \\frac{\\pi d^4}{32}$"
          },
          "metadata": {}
        },
        {
          "output_type": "display_data",
          "data": {
            "text/plain": [
              "<IPython.core.display.Math object>"
            ],
            "text/latex": "$\\displaystyle \\textbf{Sustitución:} \\quad J = \\frac{\\pi \\left(0.0127\\right)^4}{32} = 2.554e-9 \\, \\mathrm{m^4}$"
          },
          "metadata": {}
        },
        {
          "output_type": "display_data",
          "data": {
            "text/plain": [
              "<IPython.core.display.Math object>"
            ],
            "text/latex": "$\\displaystyle \\textbf{Ecuación general:} \\quad \\tau = \\frac{T}{J}$"
          },
          "metadata": {}
        },
        {
          "output_type": "display_data",
          "data": {
            "text/plain": [
              "<IPython.core.display.Math object>"
            ],
            "text/latex": "$\\displaystyle \\textbf{Sustitución:} \\quad \\tau = \\frac{0.0199}{2.554e-9} = 7791809.00 \\, \\mathrm{MPa}$"
          },
          "metadata": {}
        }
      ]
    },
    {
      "cell_type": "markdown",
      "source": [
        "*Cálculo de las pérdidas por altura de succión*"
      ],
      "metadata": {
        "id": "yEG-wuLgzDJb"
      }
    },
    {
      "cell_type": "code",
      "source": [
        "from sympy import symbols, pi\n",
        "from IPython.display import display, Math\n",
        "\n",
        "def calcular_npsh(P_atm, h_s, h_f, h_v):\n",
        "    NPSH_a = symbols('NPSH_a')\n",
        "\n",
        "    # Mostrar la ecuación general\n",
        "    display(Math(r'\\textbf{Ecuación general:} \\quad NPSH_a = P_{atm} - h_s - h_f - h_v'))\n",
        "\n",
        "    # Calcular el NPSH_a\n",
        "    NPSH_a_val = P_atm - h_s - h_f - h_v\n",
        "\n",
        "    # Mostrar la sustitución numérica\n",
        "    display(Math(\n",
        "        rf'\\textbf{{Sustitución:}} \\quad NPSH_a = {P_atm} - {h_s} - {h_f} - {h_v} = {NPSH_a_val:.2f} \\, \\mathrm{{m}}'\n",
        "    ))\n",
        "\n",
        "    return NPSH_a_val\n",
        "\n",
        "def calcular_fuerza_axial(rho, Q, v):\n",
        "    F_a = symbols('F_a')\n",
        "\n",
        "    # Mostrar la ecuación general\n",
        "    display(Math(r'\\textbf{Ecuación general:} \\quad F_a = \\rho Q v'))\n",
        "\n",
        "    # Calcular la fuerza axial\n",
        "    F_a_val = rho * Q * v\n",
        "\n",
        "    # Mostrar la sustitución numérica\n",
        "    display(Math(\n",
        "        rf'\\textbf{{Sustitución:}} \\quad F_a = {rho} \\cdot {Q} \\cdot {v} = {F_a_val:.4f} \\, \\mathrm{{N}}'\n",
        "    ))\n",
        "\n",
        "    return F_a_val\n",
        "\n",
        "def calcular_fuerza_radial(Cr, H, D, b, rho):\n",
        "    F_r = symbols('F_r')\n",
        "\n",
        "    # Mostrar la ecuación general\n",
        "    display(Math(r'\\textbf{Ecuación general:} \\quad F_r = C_r H D b \\rho'))\n",
        "\n",
        "    # Calcular la fuerza radial\n",
        "    F_r_val = Cr * H * D * b * rho\n",
        "\n",
        "    # Mostrar la sustitución numérica\n",
        "    display(Math(\n",
        "        rf'\\textbf{{Sustitución:}} \\quad F_r = {Cr} \\cdot {H} \\cdot {D} \\cdot {b} \\cdot {rho} = {F_r_val:.2f} \\, \\mathrm{{N}}'\n",
        "    ))\n",
        "\n",
        "    return F_r_val\n",
        "\n",
        "# Valores dados\n",
        "P_atm_val = 10.3  # Presión atmosférica en m columna de agua\n",
        "h_s_val = 1.15    # Altura de succión en m\n",
        "h_f_val = 0.32    # Pérdida por fricción en m\n",
        "h_v_val = 0.05    # Pérdida por viscosidad en m\n",
        "rho_val = 950     # Densidad del fluido en kg/m³\n",
        "Q_val = 0.000204  # Caudal volumétrico en m³/s\n",
        "v_val = 0.084     # Velocidad del fluido en m/s\n",
        "Cr_val = 0.2      # Coeficiente de carga radial\n",
        "H_val = 5         # Altura manométrica en m\n",
        "D_val = 0.15      # Diámetro del impulsor en m\n",
        "b_val = 0.02      # Ancho del impulsor en m\n",
        "\n",
        "# Cálculos\n",
        "NPSH_a_result = calcular_npsh(P_atm_val, h_s_val, h_f_val, h_v_val)\n",
        "F_a_result = calcular_fuerza_axial(rho_val, Q_val, v_val)\n",
        "F_r_result = calcular_fuerza_radial(Cr_val, H_val, D_val, b_val, rho_val)\n"
      ],
      "metadata": {
        "colab": {
          "base_uri": "https://localhost:8080/",
          "height": 146
        },
        "id": "S-DacLKHzEPG",
        "outputId": "270a0677-0e01-46a0-9e76-c663af7701da"
      },
      "execution_count": null,
      "outputs": [
        {
          "output_type": "display_data",
          "data": {
            "text/plain": [
              "<IPython.core.display.Math object>"
            ],
            "text/latex": "$\\displaystyle \\textbf{Ecuación general:} \\quad NPSH_a = P_{atm} - h_s - h_f - h_v$"
          },
          "metadata": {}
        },
        {
          "output_type": "display_data",
          "data": {
            "text/plain": [
              "<IPython.core.display.Math object>"
            ],
            "text/latex": "$\\displaystyle \\textbf{Sustitución:} \\quad NPSH_a = 10.3 - 1.15 - 0.32 - 0.05 = 8.78 \\, \\mathrm{m}$"
          },
          "metadata": {}
        },
        {
          "output_type": "display_data",
          "data": {
            "text/plain": [
              "<IPython.core.display.Math object>"
            ],
            "text/latex": "$\\displaystyle \\textbf{Ecuación general:} \\quad F_a = \\rho Q v$"
          },
          "metadata": {}
        },
        {
          "output_type": "display_data",
          "data": {
            "text/plain": [
              "<IPython.core.display.Math object>"
            ],
            "text/latex": "$\\displaystyle \\textbf{Sustitución:} \\quad F_a = 950 \\cdot 0.000204 \\cdot 0.084 = 0.0163 \\, \\mathrm{N}$"
          },
          "metadata": {}
        },
        {
          "output_type": "display_data",
          "data": {
            "text/plain": [
              "<IPython.core.display.Math object>"
            ],
            "text/latex": "$\\displaystyle \\textbf{Ecuación general:} \\quad F_r = C_r H D b \\rho$"
          },
          "metadata": {}
        },
        {
          "output_type": "display_data",
          "data": {
            "text/plain": [
              "<IPython.core.display.Math object>"
            ],
            "text/latex": "$\\displaystyle \\textbf{Sustitución:} \\quad F_r = 0.2 \\cdot 5 \\cdot 0.15 \\cdot 0.02 \\cdot 950 = 2.85 \\, \\mathrm{N}$"
          },
          "metadata": {}
        }
      ]
    },
    {
      "cell_type": "markdown",
      "source": [
        "*fuerza axial (F_a) y Fuerza Radial (f_r)*"
      ],
      "metadata": {
        "id": "8_Wwzx25vCuK"
      }
    },
    {
      "cell_type": "code",
      "source": [
        "from sympy import symbols\n",
        "from IPython.display import display, Math\n",
        "\n",
        "# Función para calcular la fuerza axial (F_a)\n",
        "def calcular_fuerza_axial(rho, Q, v):\n",
        "    F_a = rho * Q * v  # Ecuación: F_a = ρ * Q * v\n",
        "    display(Math(r'\\textbf{Fuerza Axial} (F_a): \\quad F_a = \\rho \\cdot Q \\cdot v'))\n",
        "    display(Math(rf'F_a = {rho:.0f} \\times {Q:.6f} \\times {v:.3f} = {F_a:.4f} \\, \\text{{N}}'))\n",
        "    return F_a\n",
        "\n",
        "# Función para calcular la fuerza radial (F_r)\n",
        "def calcular_fuerza_radial(Cr, H, D, b, rho):\n",
        "    F_r = Cr * H * D * b * rho  # Ecuación: F_r = Cr * H * D * b * ρ\n",
        "    display(Math(r'\\textbf{Fuerza Radial} (F_r): \\quad F_r = C_r \\cdot H \\cdot D \\cdot b \\cdot \\rho'))\n",
        "    display(Math(rf'F_r = {Cr:.2f} \\times {H:.0f} \\times {D:.2f} \\times {b:.2f} \\times {rho:.0f} = {F_r:.4f} \\, \\text{{N}}'))\n",
        "    return F_r\n",
        "\n",
        "# Valores dados para la fuerza axial\n",
        "rho_val = 950  # Densidad del fluido en kg/m³\n",
        "Q_val = 0.000204  # Caudal volumétrico en m³/s\n",
        "v_val = 0.084  # Velocidad del fluido n m/s\n",
        "\n",
        "# Calcular la fuerza axial\n",
        "F_a_resultado = calcular_fuerza_axial(rho_val, Q_val, v_val)\n",
        "\n",
        "# Valores dados para la fuerza radial\n",
        "Cr_val = 0.2  # Coeficiente de carga radial\n",
        "H_val = 5  # Altura manométrica en m\n",
        "D_val = 0.15  # Diámetro del impulsor en m\n",
        "b_val = 0.02  # Ancho del impulsor en la salida en m\n",
        "\n",
        "# Calcular la fuerza radial\n",
        "F_r_resultado = calcular_fuerza_radial(Cr_val, H_val, D_val, b_val, rho_val)\n"
      ],
      "metadata": {
        "colab": {
          "base_uri": "https://localhost:8080/",
          "height": 103
        },
        "id": "CQmyi1khvUnh",
        "outputId": "4a349cd9-c50f-42fa-de48-7b4ced232503"
      },
      "execution_count": null,
      "outputs": [
        {
          "output_type": "display_data",
          "data": {
            "text/plain": [
              "<IPython.core.display.Math object>"
            ],
            "text/latex": "$\\displaystyle \\textbf{Fuerza Axial} (F_a): \\quad F_a = \\rho \\cdot Q \\cdot v$"
          },
          "metadata": {}
        },
        {
          "output_type": "display_data",
          "data": {
            "text/plain": [
              "<IPython.core.display.Math object>"
            ],
            "text/latex": "$\\displaystyle F_a = 950 \\times 0.000204 \\times 0.084 = 0.0163 \\, \\text{N}$"
          },
          "metadata": {}
        },
        {
          "output_type": "display_data",
          "data": {
            "text/plain": [
              "<IPython.core.display.Math object>"
            ],
            "text/latex": "$\\displaystyle \\textbf{Fuerza Radial} (F_r): \\quad F_r = C_r \\cdot H \\cdot D \\cdot b \\cdot \\rho$"
          },
          "metadata": {}
        },
        {
          "output_type": "display_data",
          "data": {
            "text/plain": [
              "<IPython.core.display.Math object>"
            ],
            "text/latex": "$\\displaystyle F_r = 0.20 \\times 5 \\times 0.15 \\times 0.02 \\times 950 = 2.8500 \\, \\text{N}$"
          },
          "metadata": {}
        }
      ]
    },
    {
      "cell_type": "markdown",
      "source": [
        "Verificación de la tubería de descarga"
      ],
      "metadata": {
        "id": "Sd7_v-pj0qj9"
      }
    },
    {
      "cell_type": "code",
      "source": [
        "from sympy import symbols\n",
        "from IPython.display import display, Math\n",
        "\n",
        "def verificar_tuberia_descarga(rho, g, h):\n",
        "    # Definir los símbolos para la ecuación de presión\n",
        "    P = symbols('P')\n",
        "\n",
        "    # Mostrar la ecuación general\n",
        "    display(Math(r'\\textbf{Ecuación general:} \\quad P = \\rho g h'))\n",
        "\n",
        "    # Calcular la presión en la tubería\n",
        "    P_val = rho * g * h\n",
        "\n",
        "    # Mostrar la sustitución numérica en la ecuación\n",
        "    display(Math(\n",
        "        rf'\\textbf{{Sustitución:}} \\quad P = \\rho \\times g \\times h = {P_val:.2f} \\, \\mathrm{{Pa}} \\, \\left( {P_val / 1000:.2f} \\, \\mathrm{{kPa}} \\right)'\n",
        "    ))\n",
        "\n",
        "    return P_val\n",
        "\n",
        "# Valores dados\n",
        "rho_val = 950      # Densidad del fluido en kg/m³\n",
        "g_val = 9.81       # Gravedad en m/s²\n",
        "h_val = 69         # Altura equivalente en m\n",
        "\n",
        "# Calcular la presión en la tubería\n",
        "presion_tuberia = verificar_tuberia_descarga(rho_val, g_val, h_val)\n"
      ],
      "metadata": {
        "colab": {
          "base_uri": "https://localhost:8080/",
          "height": 60
        },
        "id": "XRth9RGa0q1J",
        "outputId": "14d8fa0a-c464-43fb-ce52-a4c645aa4e8d"
      },
      "execution_count": null,
      "outputs": [
        {
          "output_type": "display_data",
          "data": {
            "text/plain": [
              "<IPython.core.display.Math object>"
            ],
            "text/latex": "$\\displaystyle \\textbf{Ecuación general:} \\quad P = \\rho g h$"
          },
          "metadata": {}
        },
        {
          "output_type": "display_data",
          "data": {
            "text/plain": [
              "<IPython.core.display.Math object>"
            ],
            "text/latex": "$\\displaystyle \\textbf{Sustitución:} \\quad P = \\rho \\times g \\times h = 643045.50 \\, \\mathrm{Pa} \\, \\left( 643.05 \\, \\mathrm{kPa} \\right)$"
          },
          "metadata": {}
        }
      ]
    },
    {
      "cell_type": "markdown",
      "source": [
        "Factor de seguridad del sistema (FS)"
      ],
      "metadata": {
        "id": "nW3d9Vw02SPs"
      }
    },
    {
      "cell_type": "code",
      "source": [
        "from sympy import symbols\n",
        "from IPython.display import display, Math\n",
        "\n",
        "def calcular_factor_seguridad(sigma_y, sigma):\n",
        "    # Definir los símbolos\n",
        "    FS = symbols('FS')\n",
        "\n",
        "    # Mostrar la ecuación general del factor de seguridad\n",
        "    display(Math(r'\\textbf{Ecuación general:} \\quad FS = \\frac{\\sigma_y}{\\sigma}'))\n",
        "\n",
        "    # Calcular el factor de seguridad\n",
        "    FS_val = sigma_y / sigma\n",
        "\n",
        "    # Mostrar la sustitución numérica en la ecuación\n",
        "    display(Math(\n",
        "        rf'\\textbf{{Sustitución:}} \\quad FS = \\frac{{{sigma_y}}}{{{sigma:.2f}}} = {FS_val:.2f}'\n",
        "    ))\n",
        "\n",
        "    return FS_val\n",
        "\n",
        "# Valores dados\n",
        "sigma_y_val = 250  # Límite elástico en MPa\n",
        "sigma_val = 7.87   # Esfuerzo máximo en MPa\n",
        "\n",
        "# Calcular el factor de seguridad\n",
        "factor_seguridad = calcular_factor_seguridad(sigma_y_val, sigma_val)"
      ],
      "metadata": {
        "colab": {
          "base_uri": "https://localhost:8080/",
          "height": 81
        },
        "id": "MfZVkvAV2SiS",
        "outputId": "9184d930-5336-4cba-9263-36a1800b4578"
      },
      "execution_count": null,
      "outputs": [
        {
          "output_type": "display_data",
          "data": {
            "text/plain": [
              "<IPython.core.display.Math object>"
            ],
            "text/latex": "$\\displaystyle \\textbf{Ecuación general:} \\quad FS = \\frac{\\sigma_y}{\\sigma}$"
          },
          "metadata": {}
        },
        {
          "output_type": "display_data",
          "data": {
            "text/plain": [
              "<IPython.core.display.Math object>"
            ],
            "text/latex": "$\\displaystyle \\textbf{Sustitución:} \\quad FS = \\frac{250}{7.87} = 31.77$"
          },
          "metadata": {}
        }
      ]
    },
    {
      "cell_type": "markdown",
      "source": [
        "#ecuaciones de La tolva de recibo#"
      ],
      "metadata": {
        "id": "__n9G2-v2mIq"
      }
    },
    {
      "cell_type": "markdown",
      "source": [
        "*Cálculo del Volumen de la Tolva (V)*"
      ],
      "metadata": {
        "id": "tGJogBwC2wcd"
      }
    },
    {
      "cell_type": "code",
      "source": [
        "from sympy import symbols\n",
        "from IPython.display import display, Math\n",
        "\n",
        "def calcular_volumen_tolva(Q, rho):\n",
        "    # Definir los símbolos\n",
        "    V = symbols('V')\n",
        "\n",
        "    # Mostrar la ecuación general\n",
        "    display(Math(r'\\textbf{Ecuación general:} \\quad V = \\frac{Q}{\\rho}'))\n",
        "\n",
        "    # Calcular el volumen\n",
        "    V_val = Q / rho\n",
        "\n",
        "    # Mostrar la sustitución numérica\n",
        "    display(Math(\n",
        "        rf'\\textbf{{Sustitución:}} \\quad V = \\frac{{{Q}}}{{{rho}}} = {V_val:.3f} \\, \\mathrm{{m^3}}'\n",
        "    ))\n",
        "\n",
        "    return V_val\n",
        "\n",
        "# Valores dados\n",
        "Q_val = 1000   # Capacidad de almacenamiento en kg\n",
        "rho_val = 1500  # Densidad aparente en kg/m³\n",
        "\n",
        "# Calcular el volumen de la tolva\n",
        "volumen_tolva = calcular_volumen_tolva(Q_val, rho_val)"
      ],
      "metadata": {
        "colab": {
          "base_uri": "https://localhost:8080/",
          "height": 89
        },
        "id": "cJUZcV6520gS",
        "outputId": "da9c652b-7117-480e-b2cc-d5353356fca3"
      },
      "execution_count": null,
      "outputs": [
        {
          "output_type": "display_data",
          "data": {
            "text/plain": [
              "<IPython.core.display.Math object>"
            ],
            "text/latex": "$\\displaystyle \\textbf{Ecuación general:} \\quad V = \\frac{Q}{\\rho}$"
          },
          "metadata": {}
        },
        {
          "output_type": "display_data",
          "data": {
            "text/plain": [
              "<IPython.core.display.Math object>"
            ],
            "text/latex": "$\\displaystyle \\textbf{Sustitución:} \\quad V = \\frac{1000}{1500} = 0.667 \\, \\mathrm{m^3}$"
          },
          "metadata": {}
        }
      ]
    },
    {
      "cell_type": "markdown",
      "source": [
        "*Dimensiones de la Tolva*"
      ],
      "metadata": {
        "id": "bxgDlm2O3aNF"
      }
    },
    {
      "cell_type": "code",
      "source": [
        "from sympy import symbols\n",
        "from IPython.display import display, Math\n",
        "\n",
        "def calcular_volumen_tolva(L, W, H):\n",
        "    \"\"\"\n",
        "    Calcula el volumen de la parte superior de la tolva y muestra el procedimiento en formato LaTeX.\n",
        "    \"\"\"\n",
        "    # Definir símbolos\n",
        "    V, A = symbols('V A')\n",
        "\n",
        "    # Mostrar la ecuación general del volumen de la tolva\n",
        "    display(Math(r'\\textbf{Ecuación general:} \\quad V_{\\mathrm{superior}} = A \\times H'))\n",
        "\n",
        "    # Calcular el área de la base\n",
        "    A_val = L * W\n",
        "\n",
        "    # Mostrar la ecuación del área\n",
        "    display(Math(r'\\textbf{Área de la base:} \\quad A = L \\times W'))\n",
        "    display(Math(rf'\\textbf{{Sustitución:}} \\quad A = {L} \\times {W} = {A_val:.2f} \\mathrm{{m^2}}'))\n",
        "\n",
        "    # Calcular el volumen\n",
        "    V_val = A_val * H\n",
        "\n",
        "    # Mostrar la ecuación del volumen con sustitución numérica\n",
        "    display(Math(rf'\\textbf{{Sustitución:}} \\quad V_{{\\mathrm{{superior}}}} = {A_val:.2f} \\times {H} = {V_val:.2f} \\mathrm{{m^3}}'))\n",
        "\n",
        "    return V_val\n",
        "\n",
        "# Dimensiones de la tolva\n",
        "L_val = 1.0  # Longitud en m\n",
        "W_val = 1.0  # Ancho en m\n",
        "H_val = 1.0  # Altura en m\n",
        "\n",
        "# Calcular el volumen de la tolva\n",
        "volumen_tolva = calcular_volumen_tolva(L_val, W_val, H_val)"
      ],
      "metadata": {
        "colab": {
          "base_uri": "https://localhost:8080/",
          "height": 104
        },
        "id": "iMklUT6A34VF",
        "outputId": "c498ee3c-5e24-4859-96da-97b9e6f73dca"
      },
      "execution_count": null,
      "outputs": [
        {
          "output_type": "display_data",
          "data": {
            "text/plain": [
              "<IPython.core.display.Math object>"
            ],
            "text/latex": "$\\displaystyle \\textbf{Ecuación general:} \\quad V_{\\mathrm{superior}} = A \\times H$"
          },
          "metadata": {}
        },
        {
          "output_type": "display_data",
          "data": {
            "text/plain": [
              "<IPython.core.display.Math object>"
            ],
            "text/latex": "$\\displaystyle \\textbf{Área de la base:} \\quad A = L \\times W$"
          },
          "metadata": {}
        },
        {
          "output_type": "display_data",
          "data": {
            "text/plain": [
              "<IPython.core.display.Math object>"
            ],
            "text/latex": "$\\displaystyle \\textbf{Sustitución:} \\quad A = 1.0 \\times 1.0 = 1.00 \\mathrm{m^2}$"
          },
          "metadata": {}
        },
        {
          "output_type": "display_data",
          "data": {
            "text/plain": [
              "<IPython.core.display.Math object>"
            ],
            "text/latex": "$\\displaystyle \\textbf{Sustitución:} \\quad V_{\\mathrm{superior}} = 1.00 \\times 1.0 = 1.00 \\mathrm{m^3}$"
          },
          "metadata": {}
        }
      ]
    },
    {
      "cell_type": "markdown",
      "source": [
        "*Volumen de la zona de descarga (Vpirámide)*"
      ],
      "metadata": {
        "id": "GFybO_5X4ekn"
      }
    },
    {
      "cell_type": "code",
      "source": [
        "from sympy import symbols\n",
        "from IPython.display import display, Math\n",
        "\n",
        "def calcular_volumen_piramide(A1, A2, H):\n",
        "    # Definir el símbolo para el volumen de la pirámide truncada\n",
        "    V_piramide = symbols('V_{pirámide}')\n",
        "\n",
        "    # Mostrar la ecuación general\n",
        "    display(Math(r'\\textbf{Ecuación general:} \\quad V_{\\text{pirámide}} = \\frac{H}{3} \\times \\left( A_1 + \\sqrt{A_1 A_2} + A_2 \\right)'))\n",
        "\n",
        "    # Calcular el volumen de la pirámide truncada\n",
        "    V_val = (H / 3) * (A1 + (A1 * A2) ** 0.5 + A2)\n",
        "\n",
        "    # Mostrar la sustitución numérica en la ecuación\n",
        "    display(Math(\n",
        "        rf'\\textbf{{Sustitución:}} \\quad V_{{\\text{{pirámide}}}} = \\frac{{{H}}}{{3}} \\times \\left( {A1} + \\sqrt{{{A1} \\times {A2}}} + {A2} \\right) = {V_val:.3f} \\, \\mathrm{{m^3}}'\n",
        "    ))\n",
        "\n",
        "    return V_val\n",
        "\n",
        "# Valores dados\n",
        "A1_val = 1.0  # Área de la base superior en m^2\n",
        "A2_val = 0.09  # Área de la base inferior en m^2 (0.3 * 0.3)\n",
        "H_val = 0.5    # Altura de la pirámide truncada en m\n",
        "\n",
        "# Calcular el volumen de la zona de descarga\n",
        "volumen_piramide = calcular_volumen_piramide(A1_val, A2_val, H_val)\n"
      ],
      "metadata": {
        "colab": {
          "base_uri": "https://localhost:8080/",
          "height": 86
        },
        "id": "ADgmnQHg4e2o",
        "outputId": "98d00bbc-fab9-4a96-9eb9-9add08d2d67b"
      },
      "execution_count": null,
      "outputs": [
        {
          "output_type": "display_data",
          "data": {
            "text/plain": [
              "<IPython.core.display.Math object>"
            ],
            "text/latex": "$\\displaystyle \\textbf{Ecuación general:} \\quad V_{\\text{pirámide}} = \\frac{H}{3} \\times \\left( A_1 + \\sqrt{A_1 A_2} + A_2 \\right)$"
          },
          "metadata": {}
        },
        {
          "output_type": "display_data",
          "data": {
            "text/plain": [
              "<IPython.core.display.Math object>"
            ],
            "text/latex": "$\\displaystyle \\textbf{Sustitución:} \\quad V_{\\text{pirámide}} = \\frac{0.5}{3} \\times \\left( 1.0 + \\sqrt{1.0 \\times 0.09} + 0.09 \\right) = 0.232 \\, \\mathrm{m^3}$"
          },
          "metadata": {}
        }
      ]
    },
    {
      "cell_type": "markdown",
      "source": [
        "*Ángulo de Descarga de la Tolva (θ)*"
      ],
      "metadata": {
        "id": "R5YKlPtp5CUi"
      }
    },
    {
      "cell_type": "code",
      "source": [
        "from sympy import symbols, deg, Rational\n",
        "from IPython.display import display, Math\n",
        "\n",
        "def calcular_angulo_descarga(theta_r):\n",
        "    # Definir los símbolos\n",
        "    theta, theta_r_sym, margen = symbols(r'\\theta \\theta_r \\text{margen}')\n",
        "\n",
        "    # Mostrar la ecuación del ángulo de descarga\n",
        "    display(Math(r'\\textbf{Ecuación general:} \\quad \\theta = \\theta_r + 10^{\\circ}'))\n",
        "\n",
        "    # Calcular el ángulo de descarga\n",
        "    margen_seguridad = 10  # Margen de seguridad en grados\n",
        "    theta_val = theta_r + margen_seguridad\n",
        "\n",
        "    # Mostrar la sustitución numérica en la ecuación\n",
        "    display(Math(\n",
        "        rf'\\textbf{{Sustitución:}} \\quad \\theta = {theta_r}^{chr(176)} + {margen_seguridad}^{chr(176)} = {theta_val}^{chr(176)}'\n",
        "    ))\n",
        "\n",
        "    return theta_val\n",
        "\n",
        "# Valor del ángulo de reposo del material\n",
        "theta_r_val = 35  # en grados\n",
        "\n",
        "# Calcular el ángulo de descarga\n",
        "angulo_descarga = calcular_angulo_descarga(theta_r_val)"
      ],
      "metadata": {
        "colab": {
          "base_uri": "https://localhost:8080/",
          "height": 60
        },
        "id": "gzZ6gGTk5Fa_",
        "outputId": "aabc400b-6e41-463a-96ca-7f7f211df814"
      },
      "execution_count": null,
      "outputs": [
        {
          "output_type": "display_data",
          "data": {
            "text/plain": [
              "<IPython.core.display.Math object>"
            ],
            "text/latex": "$\\displaystyle \\textbf{Ecuación general:} \\quad \\theta = \\theta_r + 10^{\\circ}$"
          },
          "metadata": {}
        },
        {
          "output_type": "display_data",
          "data": {
            "text/plain": [
              "<IPython.core.display.Math object>"
            ],
            "text/latex": "$\\displaystyle \\textbf{Sustitución:} \\quad \\theta = 35^° + 10^° = 45^°$"
          },
          "metadata": {}
        }
      ]
    },
    {
      "cell_type": "markdown",
      "source": [
        "Tamaño de la Boca de Descarga"
      ],
      "metadata": {
        "id": "JcH4xaqh5h-g"
      }
    },
    {
      "cell_type": "code",
      "source": [
        "from sympy import symbols\n",
        "from IPython.display import display, Math\n",
        "\n",
        "def calcular_boca_descarga(k_val, d_p_val):\n",
        "    # Definir los símbolos\n",
        "    D, k, d_p = symbols('D k d_p')\n",
        "\n",
        "    # Mostrar la ecuación general\n",
        "    display(Math(r'\\textbf{Ecuación general:} \\quad D = k \\times d_p'))\n",
        "\n",
        "    # Calcular el diámetro de la boca de descarga\n",
        "    D_val = k_val * d_p_val\n",
        "\n",
        "    # Mostrar la sustitución numérica en la ecuación\n",
        "    display(Math(\n",
        "        rf'\\textbf{{Sustitución:}} \\quad D = {k_val} \\times {d_p_val} = {D_val} \\text{{ mm}} = {D_val / 1000:.2f} \\text{{ m}}'\n",
        "    ))\n",
        "\n",
        "    return D_val\n",
        "\n",
        "# Valores dados\n",
        "d_p_val = 5  # Tamaño de partícula en mm\n",
        "k_val = 6    # Factor de seguridad\n",
        "\n",
        "# Calcular el diámetro mínimo de la boca de descarga\n",
        "diametro_descarga = calcular_boca_descarga(k_val, d_p_val)"
      ],
      "metadata": {
        "colab": {
          "base_uri": "https://localhost:8080/",
          "height": 60
        },
        "id": "Kr53WsFg5jYH",
        "outputId": "0ddaea7a-db6b-4162-ef4c-2f1800519177"
      },
      "execution_count": null,
      "outputs": [
        {
          "output_type": "display_data",
          "data": {
            "text/plain": [
              "<IPython.core.display.Math object>"
            ],
            "text/latex": "$\\displaystyle \\textbf{Ecuación general:} \\quad D = k \\times d_p$"
          },
          "metadata": {}
        },
        {
          "output_type": "display_data",
          "data": {
            "text/plain": [
              "<IPython.core.display.Math object>"
            ],
            "text/latex": "$\\displaystyle \\textbf{Sustitución:} \\quad D = 6 \\times 5 = 30 \\text{ mm} = 0.03 \\text{ m}$"
          },
          "metadata": {}
        }
      ]
    },
    {
      "cell_type": "markdown",
      "source": [
        "*Cálculo del Flujo de Descarga (Q)*"
      ],
      "metadata": {
        "id": "-sWyWkEF6O2F"
      }
    },
    {
      "cell_type": "code",
      "source": [
        "from sympy import symbols, Rational\n",
        "from IPython.display import display, Math\n",
        "\n",
        "def calcular_flujo_descarga(A_val, v_val, rho_val):\n",
        "    # Definir los símbolos\n",
        "    Q, A, v, rho = symbols('Q A v rho')\n",
        "\n",
        "    # Mostrar la ecuación general\n",
        "    display(Math(r'\\textbf{Ecuación general:} \\quad Q = A \\cdot v'))\n",
        "\n",
        "    # Calcular el flujo de descarga volumétrico\n",
        "    Q_val = A_val * v_val\n",
        "\n",
        "    # Mostrar la sustitución numérica en la ecuación\n",
        "    display(Math(\n",
        "        rf'\\textbf{{Sustitución:}} \\quad Q = {A_val} \\times {v_val} = {Q_val}\\ \\mathrm{{m^3/s}}'\n",
        "    ))\n",
        "\n",
        "    # Convertir a kg/h\n",
        "    Q_kg_h = Q_val * rho_val * 3600\n",
        "\n",
        "    # Mostrar la conversión\n",
        "    display(Math(\n",
        "        rf'\\textbf{{Conversión a kg/h:}} \\quad Q = {Q_val} \\times {rho_val} \\times 3600 = {Q_kg_h}\\ \\mathrm{{kg/h}}'\n",
        "    ))\n",
        "\n",
        "    return Q_val, Q_kg_h\n",
        "\n",
        "# Valores dados\n",
        "A_val = 0.03 * 0.03  # Área de la boca de descarga en m²\n",
        "v_val = 1.5  # Velocidad de caída en m/s\n",
        "rho_val = 1500  # Densidad del material en kg/m³\n",
        "\n",
        "# Calcular el flujo de descarga\n",
        "flujo_volumetrico, flujo_masa = calcular_flujo_descarga(A_val, v_val, rho_val)\n"
      ],
      "metadata": {
        "colab": {
          "base_uri": "https://localhost:8080/",
          "height": 82
        },
        "id": "1_rjtK7Q6TK4",
        "outputId": "bfc9635d-aaca-4761-b5af-59c64ad4d6ac"
      },
      "execution_count": null,
      "outputs": [
        {
          "output_type": "display_data",
          "data": {
            "text/plain": [
              "<IPython.core.display.Math object>"
            ],
            "text/latex": "$\\displaystyle \\textbf{Ecuación general:} \\quad Q = A \\cdot v$"
          },
          "metadata": {}
        },
        {
          "output_type": "display_data",
          "data": {
            "text/plain": [
              "<IPython.core.display.Math object>"
            ],
            "text/latex": "$\\displaystyle \\textbf{Sustitución:} \\quad Q = 0.0009 \\times 1.5 = 0.00135\\ \\mathrm{m^3/s}$"
          },
          "metadata": {}
        },
        {
          "output_type": "display_data",
          "data": {
            "text/plain": [
              "<IPython.core.display.Math object>"
            ],
            "text/latex": "$\\displaystyle \\textbf{Conversión a kg/h:} \\quad Q = 0.00135 \\times 1500 \\times 3600 = 7290.0\\ \\mathrm{kg/h}$"
          },
          "metadata": {}
        }
      ]
    },
    {
      "cell_type": "markdown",
      "source": [
        "*Densidad Aparente (ρ)*"
      ],
      "metadata": {
        "id": "8oX6roWj6l5W"
      }
    },
    {
      "cell_type": "code",
      "source": [
        "from sympy import symbols\n",
        "from IPython.display import display, Math\n",
        "\n",
        "def calcular_densidad_aparente(M, V):\n",
        "    # Definir los símbolos\n",
        "    rho, M_sym, V_sym = symbols(r'\\rho M V')\n",
        "\n",
        "    # Mostrar la ecuación de la densidad aparente\n",
        "    display(Math(r'\\textbf{Ecuación general:} \\quad \\rho = \\frac{M}{V}'))\n",
        "\n",
        "    # Calcular la densidad aparente\n",
        "    rho_val = M / V\n",
        "\n",
        "    # Mostrar la sustitución numérica en la ecuación\n",
        "    display(Math(\n",
        "        rf'\\textbf{{Sustitución:}} \\quad \\rho = \\frac{{{M:.2f} \\text{{ kg}}}}{{{V:.6f} \\text{{ m³}}}} = {rho_val:.2f} \\text{{ kg/m³}}'\n",
        "    ))\n",
        "\n",
        "    return rho_val\n",
        "\n",
        "# Valores dados\n",
        "M_val = 1.5  # Masa en kg\n",
        "V_val = 0.001  # Volumen en m³\n",
        "\n",
        "# Calcular la densidad aparente\n",
        "densidad_aparente = calcular_densidad_aparente(M_val, V_val)"
      ],
      "metadata": {
        "colab": {
          "base_uri": "https://localhost:8080/",
          "height": 86
        },
        "id": "kI9pmbPo6oy3",
        "outputId": "06bc112a-0287-42ee-9204-5cdf33073b47"
      },
      "execution_count": null,
      "outputs": [
        {
          "output_type": "display_data",
          "data": {
            "text/plain": [
              "<IPython.core.display.Math object>"
            ],
            "text/latex": "$\\displaystyle \\textbf{Ecuación general:} \\quad \\rho = \\frac{M}{V}$"
          },
          "metadata": {}
        },
        {
          "output_type": "display_data",
          "data": {
            "text/plain": [
              "<IPython.core.display.Math object>"
            ],
            "text/latex": "$\\displaystyle \\textbf{Sustitución:} \\quad \\rho = \\frac{1.50 \\text{ kg}}{0.001000 \\text{ m³}} = 1500.00 \\text{ kg/m³}$"
          },
          "metadata": {}
        }
      ]
    },
    {
      "cell_type": "markdown",
      "source": [
        "*Ángulo de Reposo (θ\n",
        "r)*"
      ],
      "metadata": {
        "id": "lOgR-_xx6_FA"
      }
    },
    {
      "cell_type": "code",
      "source": [
        "from sympy import symbols, atan, deg\n",
        "from IPython.display import display, Math\n",
        "\n",
        "def calcular_angulo_reposo(h, r):\n",
        "    # Definir los símbolos\n",
        "    theta_r, h_sym, r_sym = symbols(r'\\theta_r h r')\n",
        "\n",
        "    # Mostrar la ecuación del ángulo de reposo\n",
        "    display(Math(r'\\textbf{Ecuación general:} \\quad \\theta_r = \\tan^{-1}{\\left(\\frac{h}{r}\\right)}'))\n",
        "\n",
        "    # Calcular el ángulo de reposo\n",
        "    theta_r_val = atan(h / r) * deg(1)\n",
        "\n",
        "    # Mostrar la sustitución numérica en la ecuación\n",
        "    display(Math(\n",
        "        rf'\\textbf{{Sustitución:}} \\quad \\theta_r = \\tan^{{-1}}\\left(\\frac{{{h:.2f}}}{{{r:.2f}}}\\right) = {theta_r_val:.2f}^\\circ'\n",
        "    ))\n",
        "\n",
        "    return theta_r_val\n",
        "\n",
        "# Valores dados\n",
        "h_val = 35  # Altura del montículo en cm\n",
        "r_val = 50  # Radio de la base en cm\n",
        "\n",
        "# Convertir cm a metros\n",
        "h_val /= 100\n",
        "r_val /= 100\n",
        "\n",
        "# Calcular el ángulo de reposo\n",
        "angulo_reposo = calcular_angulo_reposo(h_val, r_val)\n"
      ],
      "metadata": {
        "colab": {
          "base_uri": "https://localhost:8080/",
          "height": 98
        },
        "id": "RqeLGfun7Qmj",
        "outputId": "61ce766c-b700-4c29-cc38-1e741ce0e015"
      },
      "execution_count": null,
      "outputs": [
        {
          "output_type": "display_data",
          "data": {
            "text/plain": [
              "<IPython.core.display.Math object>"
            ],
            "text/latex": "$\\displaystyle \\textbf{Ecuación general:} \\quad \\theta_r = \\tan^{-1}{\\left(\\frac{h}{r}\\right)}$"
          },
          "metadata": {}
        },
        {
          "output_type": "display_data",
          "data": {
            "text/plain": [
              "<IPython.core.display.Math object>"
            ],
            "text/latex": "$\\displaystyle \\textbf{Sustitución:} \\quad \\theta_r = \\tan^{-1}\\left(\\frac{0.35}{0.50}\\right) = 34.99^\\circ$"
          },
          "metadata": {}
        }
      ]
    },
    {
      "cell_type": "markdown",
      "source": [
        "*Altura de la Pirámide Truncada (H)*"
      ],
      "metadata": {
        "id": "bxRSi8d98IVh"
      }
    },
    {
      "cell_type": "code",
      "source": [
        "from sympy import symbols, tan, deg\n",
        "from IPython.display import display, Math\n",
        "\n",
        "def calcular_altura_piramide(A1, A2, theta):\n",
        "    # Definir los símbolos\n",
        "    H, A1_sym, A2_sym, theta_sym = symbols(r'H A_1 A_2 \\theta')\n",
        "\n",
        "    # Mostrar la ecuación de la altura de la pirámide truncada\n",
        "    display(Math(r'\\textbf{Ecuación general:} \\quad H = \\frac{A_1 - A_2}{2 \\tan{\\theta}}'))\n",
        "\n",
        "    # Calcular la altura de la pirámide truncada\n",
        "    H_val = (A1 - A2) / (2 * tan(theta / deg(1)))\n",
        "\n",
        "    # Mostrar la sustitución numérica en la ecuación\n",
        "    display(Math(\n",
        "        rf'\\textbf{{Sustitución:}} \\quad H = \\frac{{{A1:.2f} - {A2:.2f}}}{{2 \\tan{{{theta:.2f}^\\circ}}}} = {H_val:.2f} \\text{{ m}}'\n",
        "    ))\n",
        "\n",
        "    return H_val\n",
        "\n",
        "# Valores dados\n",
        "A1_val = 1.0  # Área de la base superior en m²\n",
        "A2_val = 0.3   # Área de la base inferior en m²\n",
        "theta_val = 45  # Ángulo de inclinación en grados\n",
        "\n",
        "# Calcular la altura de la pirámide truncada\n",
        "altura_piramide = calcular_altura_piramide(A1_val, A2_val, theta_val)\n"
      ],
      "metadata": {
        "colab": {
          "base_uri": "https://localhost:8080/",
          "height": 86
        },
        "id": "WqBxhMUb8KJN",
        "outputId": "a9ffaf6b-eb50-4f99-fc18-d5a3c742196a"
      },
      "execution_count": null,
      "outputs": [
        {
          "output_type": "display_data",
          "data": {
            "text/plain": [
              "<IPython.core.display.Math object>"
            ],
            "text/latex": "$\\displaystyle \\textbf{Ecuación general:} \\quad H = \\frac{A_1 - A_2}{2 \\tan{\\theta}}$"
          },
          "metadata": {}
        },
        {
          "output_type": "display_data",
          "data": {
            "text/plain": [
              "<IPython.core.display.Math object>"
            ],
            "text/latex": "$\\displaystyle \\textbf{Sustitución:} \\quad H = \\frac{1.00 - 0.30}{2 \\tan{45.00^\\circ}} = 0.35 \\text{ m}$"
          },
          "metadata": {}
        }
      ]
    },
    {
      "cell_type": "markdown",
      "source": [
        "*Factor para Sales y Minerales (k)*"
      ],
      "metadata": {
        "id": "r9__a1Qw9Lo9"
      }
    },
    {
      "cell_type": "code",
      "source": [
        "from sympy import symbols\n",
        "from IPython.display import display, Math\n",
        "\n",
        "def calcular_factor_sales_minerales(k, dp):\n",
        "    # Definir los símbolos\n",
        "    D, k_sym, dp_sym = symbols(r'D k d_p')\n",
        "\n",
        "    # Mostrar la ecuación del diámetro de la boca de descarga\n",
        "    display(Math(r'\\textbf{Ecuación general:} \\quad D = k \\cdot d_p'))\n",
        "\n",
        "    # Calcular el diámetro de la boca de descarga\n",
        "    D_val = k * dp\n",
        "\n",
        "    # Mostrar la sustitución numérica en la ecuación\n",
        "    display(Math(\n",
        "        rf'\\textbf{{Sustitución:}} \\quad D = {k} \\times {dp} = {D_val:.2f} \\text{{ mm}} = {D_val / 100:.2f} \\text{{ m}}'\n",
        "    ))\n",
        "\n",
        "    return D_val\n",
        "\n",
        "# Valores dados\n",
        "k_val = 6  # Factor empírico para sales y minerales\n",
        "dp_val = 5  # Tamaño promedio de partícula en mm\n",
        "\n",
        "# Calcular el factor para sales y minerales\n",
        "diametro_descarga = calcular_factor_sales_minerales(k_val, dp_val)"
      ],
      "metadata": {
        "colab": {
          "base_uri": "https://localhost:8080/",
          "height": 60
        },
        "id": "chxJob579Nb6",
        "outputId": "fc2edf4b-757c-4fa8-dd63-73f93848eecc"
      },
      "execution_count": null,
      "outputs": [
        {
          "output_type": "display_data",
          "data": {
            "text/plain": [
              "<IPython.core.display.Math object>"
            ],
            "text/latex": "$\\displaystyle \\textbf{Ecuación general:} \\quad D = k \\cdot d_p$"
          },
          "metadata": {}
        },
        {
          "output_type": "display_data",
          "data": {
            "text/plain": [
              "<IPython.core.display.Math object>"
            ],
            "text/latex": "$\\displaystyle \\textbf{Sustitución:} \\quad D = 6 \\times 5 = 30.00 \\text{ mm} = 0.30 \\text{ m}$"
          },
          "metadata": {}
        }
      ]
    },
    {
      "cell_type": "markdown",
      "source": [
        "#ecuaciones tolva de ensaque#"
      ],
      "metadata": {
        "id": "z8UZmsBaKQ3H"
      }
    },
    {
      "cell_type": "markdown",
      "source": [
        "*Volumen mínimo requerido (Vreq)*"
      ],
      "metadata": {
        "id": "dlXOSkovKbrs"
      }
    },
    {
      "cell_type": "code",
      "source": [
        "from sympy import symbols\n",
        "from IPython.display import display, Math\n",
        "\n",
        "def calcular_volumen_requerido(masa_total, densidad_aparente):\n",
        "    # Definir el símbolo para el volumen requerido\n",
        "    V_req = symbols(r'V_{\\mathrm{req}}')\n",
        "\n",
        "    # Mostrar la ecuación del volumen mínimo requerido\n",
        "    display(Math(r'\\textbf{Ecuación general:} \\quad V_{\\mathrm{req}} = \\frac{\\text{masa total}}{\\text{densidad aparente}}'))\n",
        "\n",
        "    # Calcular el volumen mínimo requerido\n",
        "    V_req_val = masa_total / densidad_aparente\n",
        "\n",
        "    # Mostrar la sustitución numérica en la ecuación\n",
        "    display(Math(\n",
        "        rf'\\textbf{{Sustitución:}} \\quad V_{{\\mathrm{{req}}}} = \\frac{{{masa_total} \\, \\mathrm{{kg}}}}{{{densidad_aparente} \\, \\mathrm{{kg/m^3}}}} = {V_req_val:.3f} \\, \\mathrm{{m^3}}'\n",
        "    ))\n",
        "\n",
        "    return V_req_val\n",
        "\n",
        "# Valores dados\n",
        "masa_total_val = 1000  # Masa total en kg\n",
        "densidad_aparente_val = 1500  # Densidad aparente en kg/m³\n",
        "\n",
        "# Calcular el volumen mínimo requerido\n",
        "volumen_requerido = calcular_volumen_requerido(masa_total_val, densidad_aparente_val)\n"
      ],
      "metadata": {
        "colab": {
          "base_uri": "https://localhost:8080/",
          "height": 94
        },
        "id": "i968QK0GKke-",
        "outputId": "5684a136-a7d7-4f14-f19a-7c13fcf2ab6d"
      },
      "execution_count": null,
      "outputs": [
        {
          "output_type": "display_data",
          "data": {
            "text/plain": [
              "<IPython.core.display.Math object>"
            ],
            "text/latex": "$\\displaystyle \\textbf{Ecuación general:} \\quad V_{\\mathrm{req}} = \\frac{\\text{masa total}}{\\text{densidad aparente}}$"
          },
          "metadata": {}
        },
        {
          "output_type": "display_data",
          "data": {
            "text/plain": [
              "<IPython.core.display.Math object>"
            ],
            "text/latex": "$\\displaystyle \\textbf{Sustitución:} \\quad V_{\\mathrm{req}} = \\frac{1000 \\, \\mathrm{kg}}{1500 \\, \\mathrm{kg/m^3}} = 0.667 \\, \\mathrm{m^3}$"
          },
          "metadata": {}
        }
      ]
    },
    {
      "cell_type": "markdown",
      "source": [
        "*Dimensiones de la Base Superior de la Tolva (A1)*"
      ],
      "metadata": {
        "id": "zVIO-wOBK5Zc"
      }
    },
    {
      "cell_type": "code",
      "source": [
        "from sympy import symbols\n",
        "from IPython.display import display, Math\n",
        "\n",
        "def calcular_area_base_superior(largo, ancho):\n",
        "    # Definir el símbolo para el área de la base superior\n",
        "    A1 = symbols('A1')\n",
        "\n",
        "    # Mostrar la ecuación general\n",
        "    display(Math(r'\\textbf{Ecuación general:} \\quad A1 = \\text{largo} \\times \\text{ancho}'))\n",
        "\n",
        "    # Calcular el área de la base superior\n",
        "    A1_val = largo * ancho\n",
        "\n",
        "    # Mostrar la sustitución numérica en la ecuación\n",
        "    display(Math(\n",
        "        rf'\\textbf{{Sustitución:}} \\quad A1 = {largo} \\times {ancho} = {A1_val:.2f} \\, \\mathrm{{m^2}}'\n",
        "    ))\n",
        "\n",
        "    return A1_val\n",
        "\n",
        "# Valores dados\n",
        "largo_val = 2.36  # Largo de la base superior en metros\n",
        "ancho_val = 1.1   # Ancho de la base superior en metros\n",
        "\n",
        "# Calcular el área de la base superior de la tolva\n",
        "area_base_superior = calcular_area_base_superior(largo_val, ancho_val)\n",
        "\n"
      ],
      "metadata": {
        "colab": {
          "base_uri": "https://localhost:8080/",
          "height": 60
        },
        "id": "D4I2acGpLscm",
        "outputId": "bed7fbce-513e-4327-d435-edc263bc88be"
      },
      "execution_count": null,
      "outputs": [
        {
          "output_type": "display_data",
          "data": {
            "text/plain": [
              "<IPython.core.display.Math object>"
            ],
            "text/latex": "$\\displaystyle \\textbf{Ecuación general:} \\quad A1 = \\text{largo} \\times \\text{ancho}$"
          },
          "metadata": {}
        },
        {
          "output_type": "display_data",
          "data": {
            "text/plain": [
              "<IPython.core.display.Math object>"
            ],
            "text/latex": "$\\displaystyle \\textbf{Sustitución:} \\quad A1 = 2.36 \\times 1.1 = 2.60 \\, \\mathrm{m^2}$"
          },
          "metadata": {}
        }
      ]
    },
    {
      "cell_type": "markdown",
      "source": [
        "*Dimensiones de la base inferior (A2)*"
      ],
      "metadata": {
        "id": "0Lc8O6e_NBPe"
      }
    },
    {
      "cell_type": "code",
      "source": [
        "from sympy import symbols\n",
        "from IPython.display import display, Math\n",
        "\n",
        "def calcular_area_base_inferior(largo, ancho):\n",
        "    # Definir el símbolo para el área de la base inferior\n",
        "    A2 = symbols('A_2')\n",
        "\n",
        "    # Mostrar la ecuación general\n",
        "    display(Math(r'\\textbf{Ecuación general:} \\quad A_2 = \\text{largo} \\times \\text{ancho}'))\n",
        "\n",
        "    # Calcular el área de la base inferior\n",
        "    A2_val = largo * ancho\n",
        "\n",
        "    # Mostrar la sustitución numérica en la ecuación\n",
        "    display(Math(\n",
        "        rf'\\textbf{{Sustitución:}} \\quad A_2 = {largo} \\times {ancho} = {A2_val:.2f} \\, \\mathrm{{m^2}}'\n",
        "    ))\n",
        "\n",
        "    return A2_val\n",
        "\n",
        "# Valores dados\n",
        "largo_val = 0.50  # Largo de la base inferior en metros\n",
        "ancho_val = 0.50  # Ancho de la base inferior en metros\n",
        "\n",
        "# Calcular el área de la base inferior de la tolva\n",
        "area_base_inferior = calcular_area_base_inferior(largo_val, ancho_val)\n",
        "\n"
      ],
      "metadata": {
        "colab": {
          "base_uri": "https://localhost:8080/",
          "height": 60
        },
        "id": "3uoxmZFeNBgN",
        "outputId": "19285123-fbf4-4f2c-84d2-eba58be25c0a"
      },
      "execution_count": null,
      "outputs": [
        {
          "output_type": "display_data",
          "data": {
            "text/plain": [
              "<IPython.core.display.Math object>"
            ],
            "text/latex": "$\\displaystyle \\textbf{Ecuación general:} \\quad A_2 = \\text{largo} \\times \\text{ancho}$"
          },
          "metadata": {}
        },
        {
          "output_type": "display_data",
          "data": {
            "text/plain": [
              "<IPython.core.display.Math object>"
            ],
            "text/latex": "$\\displaystyle \\textbf{Sustitución:} \\quad A_2 = 0.5 \\times 0.5 = 0.25 \\, \\mathrm{m^2}$"
          },
          "metadata": {}
        }
      ]
    },
    {
      "cell_type": "markdown",
      "source": [
        "*Altura Total de la Tolva (H) y Ángulo de Descarga (θ\n",
        "d)*"
      ],
      "metadata": {
        "id": "ZIuEk_pCONlp"
      }
    },
    {
      "cell_type": "code",
      "source": [
        "from sympy import symbols\n",
        "from IPython.display import display, Math\n",
        "\n",
        "def calcular_angulo_descarga_minimo(theta_r, delta):\n",
        "    # Definir el símbolo para el ángulo de descarga\n",
        "    theta_d = symbols(r'\\theta_d')\n",
        "\n",
        "    # Mostrar la ecuación general\n",
        "    display(Math(r'\\textbf{Ecuación general:} \\quad \\theta_d \\geq \\theta_r + \\Delta'))\n",
        "\n",
        "    # Calcular el ángulo de descarga mínimo\n",
        "    theta_d_min = theta_r + delta\n",
        "\n",
        "    # Mostrar la sustitución numérica en la ecuación\n",
        "    display(Math(\n",
        "        rf'\\textbf{{Sustitución:}} \\quad \\theta_d \\geq {theta_r}^\\circ + {delta}^\\circ = {theta_d_min}^\\circ'\n",
        "    ))\n",
        "\n",
        "    return theta_d_min\n",
        "\n",
        "# Valores dados\n",
        "theta_r_val = 45  # Ángulo de reposo del material en grados\n",
        "delta_val = 45    # Margen adicional en grados\n",
        "\n",
        "# Calcular el ángulo de descarga mínimo requerido\n",
        "angulo_descarga_minimo = calcular_angulo_descarga_minimo(theta_r_val, delta_val)\n",
        "\n"
      ],
      "metadata": {
        "colab": {
          "base_uri": "https://localhost:8080/",
          "height": 60
        },
        "id": "FKUvJy-EON3M",
        "outputId": "2951718c-8ee6-470d-d8fb-8bb17499486b"
      },
      "execution_count": null,
      "outputs": [
        {
          "output_type": "display_data",
          "data": {
            "text/plain": [
              "<IPython.core.display.Math object>"
            ],
            "text/latex": "$\\displaystyle \\textbf{Ecuación general:} \\quad \\theta_d \\geq \\theta_r + \\Delta$"
          },
          "metadata": {}
        },
        {
          "output_type": "display_data",
          "data": {
            "text/plain": [
              "<IPython.core.display.Math object>"
            ],
            "text/latex": "$\\displaystyle \\textbf{Sustitución:} \\quad \\theta_d \\geq 45^\\circ + 45^\\circ = 90^\\circ$"
          },
          "metadata": {}
        }
      ]
    },
    {
      "cell_type": "markdown",
      "source": [
        "*Cálculo del Volumen de la Tolva (V)*"
      ],
      "metadata": {
        "id": "KTfFuLSEOdCB"
      }
    },
    {
      "cell_type": "code",
      "source": [
        "from sympy import symbols, sqrt\n",
        "from IPython.display import display, Math\n",
        "\n",
        "def calcular_volumen_tolva(A1, A2, H):\n",
        "    # Definir el símbolo para el volumen de la tolva\n",
        "    V = symbols('V')\n",
        "\n",
        "    # Calcular el término de transición\n",
        "    termino_transicion = sqrt(A1 * A2)\n",
        "\n",
        "    # Mostrar la ecuación general del volumen de la tolva\n",
        "    display(Math(r'\\textbf{Ecuación general:} \\quad V = \\frac{H}{3} \\left( A_1 + A_2 + \\sqrt{A_1 \\cdot A_2} \\right)'))\n",
        "\n",
        "    # Calcular el volumen de la tolva\n",
        "    V_val = (H / 3) * (A1 + A2 + termino_transicion)\n",
        "\n",
        "    # Mostrar la sustitución numérica en la ecuación\n",
        "    display(Math(\n",
        "        rf'\\textbf{{Sustitución:}} \\quad V = \\frac{{{H}}}{{3}} \\left( {A1} + {A2} + {termino_transicion:.3f} \\right) = {V_val:.3f} \\, \\mathrm{{m^3}}'\n",
        "    ))\n",
        "\n",
        "    return V_val\n",
        "\n",
        "def calcular_altura_tolva(V_req, A1, A2):\n",
        "    # Definir el símbolo para la altura de la tolva\n",
        "    H = symbols('H')\n",
        "\n",
        "    # Calcular el término de transición\n",
        "    termino_transicion = sqrt(A1 * A2)\n",
        "\n",
        "    # Mostrar la ecuación general para la altura de la tolva\n",
        "    display(Math(r'\\textbf{Ecuación general:} \\quad H = \\frac{3 \\, V_{\\mathrm{req}}}{A_1 + A_2 + \\sqrt{A_1 \\cdot A_2}}'))\n",
        "\n",
        "    # Calcular la altura de la tolva\n",
        "    H_val = (3 * V_req) / (A1 + A2 + termino_transicion)\n",
        "\n",
        "    # Mostrar la sustitución numérica en la ecuación\n",
        "    display(Math(\n",
        "        rf'\\textbf{{Sustitución:}} \\quad H = \\frac{{3 \\times {V_req}}}{{{A1} + {A2} + {termino_transicion:.3f}}} = {H_val:.2f} \\, \\mathrm{{m}}'\n",
        "    ))\n",
        "\n",
        "    return H_val\n",
        "\n",
        "# Valores dados\n",
        "A1_val = 2.60  # Área de la base superior en m²\n",
        "A2_val = 0.25  # Área de la base inferior en m²\n",
        "V_req_val = 0.833  # Volumen mínimo requerido en m³\n",
        "H_sobredimensionado = 0.70  # Altura sobredimensionada en m\n",
        "\n",
        "# Calcular la altura mínima requerida\n",
        "altura_minima = calcular_altura_tolva(V_req_val, A1_val, A2_val)\n",
        "\n",
        "# Calcular el volumen de la tolva con la altura sobredimensionada\n",
        "volumen_tolva = calcular_volumen_tolva(A1_val, A2_val, H_sobredimensionado)\n",
        "\n"
      ],
      "metadata": {
        "colab": {
          "base_uri": "https://localhost:8080/",
          "height": 160
        },
        "id": "_JuQkz_XOg0P",
        "outputId": "4e02bb99-dcc1-4cbe-b5be-5802bb393ef4"
      },
      "execution_count": null,
      "outputs": [
        {
          "output_type": "display_data",
          "data": {
            "text/plain": [
              "<IPython.core.display.Math object>"
            ],
            "text/latex": "$\\displaystyle \\textbf{Ecuación general:} \\quad H = \\frac{3 \\, V_{\\mathrm{req}}}{A_1 + A_2 + \\sqrt{A_1 \\cdot A_2}}$"
          },
          "metadata": {}
        },
        {
          "output_type": "display_data",
          "data": {
            "text/plain": [
              "<IPython.core.display.Math object>"
            ],
            "text/latex": "$\\displaystyle \\textbf{Sustitución:} \\quad H = \\frac{3 \\times 0.833}{2.6 + 0.25 + 0.806} = 0.68 \\, \\mathrm{m}$"
          },
          "metadata": {}
        },
        {
          "output_type": "display_data",
          "data": {
            "text/plain": [
              "<IPython.core.display.Math object>"
            ],
            "text/latex": "$\\displaystyle \\textbf{Ecuación general:} \\quad V = \\frac{H}{3} \\left( A_1 + A_2 + \\sqrt{A_1 \\cdot A_2} \\right)$"
          },
          "metadata": {}
        },
        {
          "output_type": "display_data",
          "data": {
            "text/plain": [
              "<IPython.core.display.Math object>"
            ],
            "text/latex": "$\\displaystyle \\textbf{Sustitución:} \\quad V = \\frac{0.7}{3} \\left( 2.6 + 0.25 + 0.806 \\right) = 0.853 \\, \\mathrm{m^3}$"
          },
          "metadata": {}
        }
      ]
    },
    {
      "cell_type": "markdown",
      "source": [
        "*Verificación de la Capacidad de Almacenamiento*"
      ],
      "metadata": {
        "id": "qJIuODwESup5"
      }
    },
    {
      "cell_type": "code",
      "source": [
        "from sympy import symbols\n",
        "from IPython.display import display, Math\n",
        "\n",
        "def calcular_capacidad_almacenamiento(V, rho):\n",
        "    # Definir el símbolo para la capacidad de almacenamiento en masa\n",
        "    m_alm = symbols('m_{\\mathrm{alm}}')\n",
        "\n",
        "    # Mostrar la ecuación general\n",
        "    display(Math(r'\\textbf{Ecuación general:} \\quad m_{\\mathrm{alm}} = V \\times \\rho'))\n",
        "\n",
        "    # Calcular la capacidad de almacenamiento en masa\n",
        "    m_alm_val = V * rho\n",
        "\n",
        "    # Mostrar la sustitución numérica en la ecuación\n",
        "    display(Math(\n",
        "        rf'\\textbf{{Sustitución:}} \\quad m_{{\\mathrm{{alm}}}} = {V} \\, \\mathrm{{m^3}} \\times {rho} \\, \\mathrm{{kg/m^3}} = {m_alm_val:.0f} \\, \\mathrm{{kg}}'\n",
        "    ))\n",
        "\n",
        "    return m_alm_val\n",
        "\n",
        "# Valores dados\n",
        "V_val = 0.853  # Volumen total de la tolva en m³\n",
        "rho_val = 1200  # Densidad del material en kg/m³\n",
        "\n",
        "# Calcular la capacidad de almacenamiento en masa\n",
        "capacidad_almacenamiento = calcular_capacidad_almacenamiento(V_val, rho_val)\n",
        "\n"
      ],
      "metadata": {
        "colab": {
          "base_uri": "https://localhost:8080/",
          "height": 60
        },
        "id": "dckFWxYzSu7f",
        "outputId": "1718558e-0425-4297-d691-fb3061f22db0"
      },
      "execution_count": null,
      "outputs": [
        {
          "output_type": "display_data",
          "data": {
            "text/plain": [
              "<IPython.core.display.Math object>"
            ],
            "text/latex": "$\\displaystyle \\textbf{Ecuación general:} \\quad m_{\\mathrm{alm}} = V \\times \\rho$"
          },
          "metadata": {}
        },
        {
          "output_type": "display_data",
          "data": {
            "text/plain": [
              "<IPython.core.display.Math object>"
            ],
            "text/latex": "$\\displaystyle \\textbf{Sustitución:} \\quad m_{\\mathrm{alm}} = 0.853 \\, \\mathrm{m^3} \\times 1200 \\, \\mathrm{kg/m^3} = 1024 \\, \\mathrm{kg}$"
          },
          "metadata": {}
        }
      ]
    },
    {
      "cell_type": "markdown",
      "source": [
        "*Diseño del Molde Cilíndrico de Descarga*"
      ],
      "metadata": {
        "id": "EPd3wzZGS4zL"
      }
    },
    {
      "cell_type": "code",
      "source": [
        "from sympy import symbols, pi\n",
        "from IPython.display import display, Math\n",
        "\n",
        "def calcular_area_molde_cilindrico(Dm):\n",
        "    # Definir el símbolo para el área del molde cilíndrico\n",
        "    A_m = symbols('A_m')\n",
        "\n",
        "    # Mostrar la ecuación general\n",
        "    display(Math(r'\\textbf{Ecuación general:} \\quad A_m = \\pi \\left( \\frac{D_m}{2} \\right)^2'))\n",
        "\n",
        "    # Calcular el área del molde cilíndrico\n",
        "    A_m_val = pi * (Dm / 2) ** 2\n",
        "\n",
        "    # Mostrar la sustitución numérica en la ecuación\n",
        "    display(Math(\n",
        "        rf'\\textbf{{Sustitución:}} \\quad A_m = \\pi \\left( \\frac{{{Dm}}}{{2}} \\right)^2 = {A_m_val.evalf():.5f} \\, \\mathrm{{m^2}}'\n",
        "    ))\n",
        "\n",
        "    return A_m_val.evalf()\n",
        "\n",
        "# Valores dados\n",
        "Dm_val = 0.15  # Diámetro del molde cilíndrico en metros\n",
        "\n",
        "# Calcular el área del molde cilíndrico de descarga\n",
        "area_molde = calcular_area_molde_cilindrico(Dm_val)\n",
        "\n"
      ],
      "metadata": {
        "colab": {
          "base_uri": "https://localhost:8080/",
          "height": 105
        },
        "id": "K-cbCCuES65R",
        "outputId": "7d25e0ae-9ce9-4a0a-fed9-ac561634cda2"
      },
      "execution_count": null,
      "outputs": [
        {
          "output_type": "display_data",
          "data": {
            "text/plain": [
              "<IPython.core.display.Math object>"
            ],
            "text/latex": "$\\displaystyle \\textbf{Ecuación general:} \\quad A_m = \\pi \\left( \\frac{D_m}{2} \\right)^2$"
          },
          "metadata": {}
        },
        {
          "output_type": "display_data",
          "data": {
            "text/plain": [
              "<IPython.core.display.Math object>"
            ],
            "text/latex": "$\\displaystyle \\textbf{Sustitución:} \\quad A_m = \\pi \\left( \\frac{0.15}{2} \\right)^2 = 0.01767 \\, \\mathrm{m^2}$"
          },
          "metadata": {}
        }
      ]
    },
    {
      "cell_type": "markdown",
      "source": [
        "*Cálculo del Caudal de Descarga Teórico (Q)*"
      ],
      "metadata": {
        "id": "5VDE-2WYT1mV"
      }
    },
    {
      "cell_type": "code",
      "source": [
        "from sympy import symbols, sqrt\n",
        "from IPython.display import display, Math\n",
        "\n",
        "def calcular_caudal_descarga(Cd, Am, g, Heff):\n",
        "    # Definir el símbolo para el caudal de descarga\n",
        "    Q = symbols('Q')\n",
        "\n",
        "    # Mostrar la ecuación general\n",
        "    display(Math(r'\\textbf{Ecuación :} \\quad Q = C_d \\cdot A_m \\cdot \\sqrt{2 \\cdot g \\cdot H_{\\mathrm{eff}}}'))\n",
        "\n",
        "    # Calcular el caudal de descarga teórico\n",
        "    Q_val = Cd * Am * sqrt(2 * g * Heff)\n",
        "\n",
        "    # Mostrar la sustitución numérica en la ecuación\n",
        "    display(Math(\n",
        "        rf'\\textbf{{Sustitución:}} \\quad Q = {Cd} \\cdot {Am} \\cdot \\sqrt{{2 \\cdot {g} \\cdot {Heff}}} = {Q_val.evalf():.4f} \\, \\mathrm{{m^3/s}}'\n",
        "    ))\n",
        "\n",
        "    return Q_val.evalf()\n",
        "\n",
        "# Valores dados\n",
        "Cd_val = 0.65  # Coeficiente de descarga\n",
        "Am_val = 0.01767  # Área del molde en m²\n",
        "g_val = 9.81  # Aceleración debida a la gravedad en m/s²\n",
        "Heff_val = 0.50  # Altura efectiva del material en metros\n",
        "\n",
        "# Calcular el caudal de descarga teórico\n",
        "caudal_descarga = calcular_caudal_descarga(Cd_val, Am_val, g_val, Heff_val)\n",
        "\n"
      ],
      "metadata": {
        "colab": {
          "base_uri": "https://localhost:8080/",
          "height": 63
        },
        "id": "V-2UV0wUT14I",
        "outputId": "76f2596f-a557-401f-9d81-129c91a15cad"
      },
      "execution_count": null,
      "outputs": [
        {
          "output_type": "display_data",
          "data": {
            "text/plain": [
              "<IPython.core.display.Math object>"
            ],
            "text/latex": "$\\displaystyle \\textbf{Ecuación :} \\quad Q = C_d \\cdot A_m \\cdot \\sqrt{2 \\cdot g \\cdot H_{\\mathrm{eff}}}$"
          },
          "metadata": {}
        },
        {
          "output_type": "display_data",
          "data": {
            "text/plain": [
              "<IPython.core.display.Math object>"
            ],
            "text/latex": "$\\displaystyle \\textbf{Sustitución:} \\quad Q = 0.65 \\cdot 0.01767 \\cdot \\sqrt{2 \\cdot 9.81 \\cdot 0.5} = 0.0360 \\, \\mathrm{m^3/s}$"
          },
          "metadata": {}
        }
      ]
    },
    {
      "cell_type": "markdown",
      "source": [
        "# resistencia de materiales#"
      ],
      "metadata": {
        "id": "4zaMKAkfS28c"
      }
    },
    {
      "cell_type": "markdown",
      "source": [
        "*área superficial de la mezcladora*"
      ],
      "metadata": {
        "id": "2FnfAbeUTB2F"
      }
    },
    {
      "cell_type": "code",
      "source": [
        "from sympy import symbols\n",
        "from IPython.display import display, Math\n",
        "\n",
        "def calcular_area_superficial(L, A, H):\n",
        "    # Definir el símbolo del área superficial\n",
        "    As = symbols(r'A_s')\n",
        "\n",
        "    # Mostrar la ecuación general\n",
        "    display(Math(r'\\textbf{Ecuación general:} \\quad A_s = 2 \\cdot (L \\cdot A + L \\cdot H + A \\cdot H)'))\n",
        "\n",
        "    # Calcular el área superficial\n",
        "    As_val = 2 * (L * A + L * H + A * H)\n",
        "\n",
        "    # Mostrar la sustitución numérica\n",
        "    display(Math(\n",
        "        rf'\\textbf{{Sustitución:}} \\quad A_s = 2 \\cdot ({L:.2f} \\cdot {A:.2f} + {L:.2f} \\cdot {H:.2f} + {A:.2f} \\cdot {H:.2f}) = {As_val:.3f} \\, \\mathrm{{m^2}}'\n",
        "    ))\n",
        "\n",
        "    return As_val\n",
        "\n",
        "# Valores dados (editable)\n",
        "L_val = 2.25  # Largo en m\n",
        "A_val = 1.15  # Ancho en m\n",
        "H_val = 1.37  # Altura en m\n",
        "\n",
        "# Calcular el área superficial total\n",
        "area_superficial = calcular_area_superficial(L_val, A_val, H_val)\n"
      ],
      "metadata": {
        "colab": {
          "base_uri": "https://localhost:8080/",
          "height": 60
        },
        "id": "vGfsCVFhS_u7",
        "outputId": "9c94d4f4-481d-408e-9764-83179c4abbd7"
      },
      "execution_count": null,
      "outputs": [
        {
          "output_type": "display_data",
          "data": {
            "text/plain": [
              "<IPython.core.display.Math object>"
            ],
            "text/latex": "$\\displaystyle \\textbf{Ecuación general:} \\quad A_s = 2 \\cdot (L \\cdot A + L \\cdot H + A \\cdot H)$"
          },
          "metadata": {}
        },
        {
          "output_type": "display_data",
          "data": {
            "text/plain": [
              "<IPython.core.display.Math object>"
            ],
            "text/latex": "$\\displaystyle \\textbf{Sustitución:} \\quad A_s = 2 \\cdot (2.25 \\cdot 1.15 + 2.25 \\cdot 1.37 + 1.15 \\cdot 1.37) = 14.491 \\, \\mathrm{m^2}$"
          },
          "metadata": {}
        }
      ]
    },
    {
      "cell_type": "markdown",
      "source": [
        "*volumen de la mezcladora*"
      ],
      "metadata": {
        "id": "yGXx7X3MVVRH"
      }
    },
    {
      "cell_type": "code",
      "source": [
        "from sympy import symbols\n",
        "from IPython.display import display, Math\n",
        "\n",
        "def calcular_volumen_mezcladora(As, e_mez):\n",
        "    # Definir el símbolo del volumen de la mezcladora\n",
        "    V_mez = symbols(r'V_{\\mathrm{mezcladora}}')\n",
        "\n",
        "    # Mostrar la ecuación general\n",
        "    display(Math(r'\\textbf{Ecuación general:} \\quad V_{\\mathrm{mezcladora}} = A_s \\cdot e_{\\mathrm{mez}}'))\n",
        "\n",
        "    # Calcular el volumen\n",
        "    V_mez_val = As * e_mez\n",
        "\n",
        "    # Mostrar la sustitución numérica\n",
        "    display(Math(\n",
        "        rf'\\textbf{{Sustitución:}} \\quad V_{{\\mathrm{{mezcladora}}}} = {As:.3f} \\cdot {e_mez:.3f} = {V_mez_val:.5f} \\, \\mathrm{{m^3}}'\n",
        "    ))\n",
        "\n",
        "    return V_mez_val\n",
        "\n",
        "# Valores dados (editables)\n",
        "As_val = 14.491  # Área superficial en m²\n",
        "e_mez_val = 0.03  # Espesor de lámina en m\n",
        "\n",
        "# Calcular el volumen de la mezcladora\n",
        "volumen_mezcladora = calcular_volumen_mezcladora(As_val, e_mez_val)\n"
      ],
      "metadata": {
        "colab": {
          "base_uri": "https://localhost:8080/",
          "height": 60
        },
        "id": "SopCqUc6VZWa",
        "outputId": "a82b8371-6e54-4da2-9873-d16ebd7e5335"
      },
      "execution_count": null,
      "outputs": [
        {
          "output_type": "display_data",
          "data": {
            "text/plain": [
              "<IPython.core.display.Math object>"
            ],
            "text/latex": "$\\displaystyle \\textbf{Ecuación general:} \\quad V_{\\mathrm{mezcladora}} = A_s \\cdot e_{\\mathrm{mez}}$"
          },
          "metadata": {}
        },
        {
          "output_type": "display_data",
          "data": {
            "text/plain": [
              "<IPython.core.display.Math object>"
            ],
            "text/latex": "$\\displaystyle \\textbf{Sustitución:} \\quad V_{\\mathrm{mezcladora}} = 14.491 \\cdot 0.030 = 0.43473 \\, \\mathrm{m^3}$"
          },
          "metadata": {}
        }
      ]
    },
    {
      "cell_type": "markdown",
      "source": [
        "*masa de la mezcladora*"
      ],
      "metadata": {
        "id": "iuA18omiWHho"
      }
    },
    {
      "cell_type": "code",
      "source": [
        "from sympy import symbols\n",
        "from IPython.display import display, Math\n",
        "\n",
        "def calcular_peso_mezcladora(volumen, densidad):\n",
        "    # Definir el símbolo del peso\n",
        "    P = symbols(r'P')\n",
        "\n",
        "    # Mostrar la ecuación general\n",
        "    display(Math(r'\\textbf{Ecuación general:} \\quad m = V \\cdot \\rho'))\n",
        "\n",
        "    # Calcular el peso\n",
        "    P_val = volumen * densidad\n",
        "\n",
        "    # Mostrar la sustitución numérica\n",
        "    display(Math(\n",
        "        rf'\\textbf{{Sustitución:}} \\quad m = {volumen:.5f} \\cdot {densidad} = {P_val:.0f} \\, \\mathrm{{kg}}'\n",
        "    ))\n",
        "\n",
        "    return P_val\n",
        "\n",
        "# Valores dados (editables)\n",
        "volumen_mezcladora_val = 0.43473  # Volumen de la mezcladora en m³\n",
        "densidad_acero_val = 7860  # Densidad del acero AISI 302 en kg/m³\n",
        "\n",
        "# Calcular el peso de la mezcladora\n",
        "peso_mezcladora = calcular_peso_mezcladora(volumen_mezcladora_val, densidad_acero_val)\n"
      ],
      "metadata": {
        "colab": {
          "base_uri": "https://localhost:8080/",
          "height": 60
        },
        "id": "6cgbqGj0WKz3",
        "outputId": "5be4e78e-198d-4c7c-f63a-d0e79e986ffb"
      },
      "execution_count": null,
      "outputs": [
        {
          "output_type": "display_data",
          "data": {
            "text/plain": [
              "<IPython.core.display.Math object>"
            ],
            "text/latex": "$\\displaystyle \\textbf{Ecuación general:} \\quad m = V \\cdot \\rho$"
          },
          "metadata": {}
        },
        {
          "output_type": "display_data",
          "data": {
            "text/plain": [
              "<IPython.core.display.Math object>"
            ],
            "text/latex": "$\\displaystyle \\textbf{Sustitución:} \\quad m = 0.43473 \\cdot 7860 = 3417 \\, \\mathrm{kg}$"
          },
          "metadata": {}
        }
      ]
    },
    {
      "cell_type": "markdown",
      "source": [
        "*volumen del tambor de mezcla y masa del tambor de mezcla*"
      ],
      "metadata": {
        "id": "z1rrk2HcWTIN"
      }
    },
    {
      "cell_type": "code",
      "source": [
        "from sympy import symbols, pi\n",
        "from IPython.display import display, Math\n",
        "\n",
        "def calcular_volumen_tambor(L, r, e):\n",
        "    # Mostrar ecuación general\n",
        "    display(Math(r'\\textbf{Ecuación general:} \\quad V_{\\mathrm{tambor}} = \\pi \\cdot L \\cdot \\left[ r^2 - (r - e)^2 \\right]'))\n",
        "\n",
        "    # Calcular el volumen del tambor\n",
        "    V_tambor = pi * L * (r**2 - (r - e)**2)\n",
        "\n",
        "    # Mostrar la sustitución numérica\n",
        "    display(Math(\n",
        "        rf'\\textbf{{Sustitución:}} \\quad V_{{\\mathrm{{tambor}}}} = \\pi \\cdot {L} \\cdot \\left[{r}^2 - ({r} - {e})^2 \\right] = {V_tambor.evalf():.3f} \\, \\mathrm{{m^3}}'\n",
        "    ))\n",
        "\n",
        "    return V_tambor\n",
        "\n",
        "def calcular_peso_tambor(volumen, densidad):\n",
        "    # Mostrar ecuación del peso\n",
        "    display(Math(r'\\textbf{Ecuación:} \\quad m = V \\cdot \\rho'))\n",
        "\n",
        "    # Calcular el peso del tambor\n",
        "    P_val = volumen * densidad\n",
        "\n",
        "    # Mostrar la sustitución\n",
        "    display(Math(\n",
        "        rf'\\textbf{{Sustitución:}} \\quad m = {volumen.evalf():.3f} \\cdot {densidad} = {P_val.evalf():.0f} \\, \\mathrm{{kg}}'\n",
        "    ))\n",
        "\n",
        "    return P_val\n",
        "\n",
        "# Valores editables\n",
        "L_val = 2.25  # Longitud del tambor en m\n",
        "r_val = 0.575  # Radio externo del tambor en m\n",
        "e_val = 0.06  # Espesor de la lámina en m\n",
        "densidad_material_val = 7860  # Densidad del acero AISI 302 en kg/m³\n",
        "\n",
        "# Cálculos\n",
        "volumen_tambor = calcular_volumen_tambor(L_val, r_val, e_val)\n",
        "peso_tambor = calcular_peso_tambor(volumen_tambor, densidad_material_val)\n"
      ],
      "metadata": {
        "colab": {
          "base_uri": "https://localhost:8080/",
          "height": 102
        },
        "id": "_eWKhb0HWXo6",
        "outputId": "1f6d6e35-4e1b-4898-ac80-22cb25006acc"
      },
      "execution_count": null,
      "outputs": [
        {
          "output_type": "display_data",
          "data": {
            "text/plain": [
              "<IPython.core.display.Math object>"
            ],
            "text/latex": "$\\displaystyle \\textbf{Ecuación general:} \\quad V_{\\mathrm{tambor}} = \\pi \\cdot L \\cdot \\left[ r^2 - (r - e)^2 \\right]$"
          },
          "metadata": {}
        },
        {
          "output_type": "display_data",
          "data": {
            "text/plain": [
              "<IPython.core.display.Math object>"
            ],
            "text/latex": "$\\displaystyle \\textbf{Sustitución:} \\quad V_{\\mathrm{tambor}} = \\pi \\cdot 2.25 \\cdot \\left[0.575^2 - (0.575 - 0.06)^2 \\right] = 0.462 \\, \\mathrm{m^3}$"
          },
          "metadata": {}
        },
        {
          "output_type": "display_data",
          "data": {
            "text/plain": [
              "<IPython.core.display.Math object>"
            ],
            "text/latex": "$\\displaystyle \\textbf{Ecuación:} \\quad m = V \\cdot \\rho$"
          },
          "metadata": {}
        },
        {
          "output_type": "display_data",
          "data": {
            "text/plain": [
              "<IPython.core.display.Math object>"
            ],
            "text/latex": "$\\displaystyle \\textbf{Sustitución:} \\quad m = 0.462 \\cdot 7860 = 3634 \\, \\mathrm{kg}$"
          },
          "metadata": {}
        }
      ]
    },
    {
      "cell_type": "markdown",
      "source": [
        "*area superficial de la tolva de ensaque*"
      ],
      "metadata": {
        "id": "NUPoMfGBKV-L"
      }
    },
    {
      "cell_type": "code",
      "source": [
        "from IPython.display import display, Math\n",
        "\n",
        "def calcular_area_base_superior(l, a):\n",
        "    display(Math(r'\\textbf{Área base superior:} \\quad A_1 = l \\cdot a'))\n",
        "    A1 = l * a\n",
        "    display(Math(rf'\\textbf{{Sustitución:}} \\quad A_1 = {l} \\cdot {a} = {A1:.3f} \\, \\mathrm{{m^2}}'))\n",
        "    return A1\n",
        "\n",
        "def calcular_area_base_inferior(l, a):\n",
        "    display(Math(r'\\textbf{Área base inferior:} \\quad A_2 = l \\cdot a'))\n",
        "    A2 = l * a\n",
        "    display(Math(rf'\\textbf{{Sustitución:}} \\quad A_2 = {l} \\cdot {a} = {A2:.5f} \\, \\mathrm{{m^2}}'))\n",
        "    return A2\n",
        "\n",
        "def calcular_area_lados_trapecio(b_mayor, b_menor, h, etiqueta):\n",
        "    display(Math(rf'\\textbf{{Área lateral {etiqueta}:}} \\quad A = \\left( \\frac{{b_1 + b_2}}{{2}} \\right) \\cdot h'))\n",
        "    base_promedio = (b_mayor + b_menor) / 2\n",
        "    A = base_promedio * h\n",
        "    A_total = A * 2\n",
        "    display(Math(rf'\\textbf{{Sustitución:}} \\quad A = \\left( \\frac{{{b_mayor} + {b_menor}}}{{2}} \\right) \\cdot {h} = {base_promedio:.4f} \\cdot {h} = {A:.3f} \\, \\mathrm{{m^2}} \\times 2 = {A_total:.3f} \\, \\mathrm{{m^2}}'))\n",
        "    return A_total\n",
        "\n",
        "def calcular_area_total(A1, A2, A_largos, A_cortos):\n",
        "    display(Math(r'\\textbf{Área superficial total:} \\quad A_{\\text{total}} = A_1 + A_2 + A_{\\text{lados largos}} + A_{\\text{lados cortos}}'))\n",
        "    A_total = A1 + A2 + A_largos + A_cortos\n",
        "    display(Math(rf'\\textbf{{Sustitución:}} \\quad A_{{\\text{{total}}}} = {A1:.3f} + {A2:.5f} + {A_largos:.3f} + {A_cortos:.3f} = \\boxed{{{A_total:.3f}}} \\, \\mathrm{{m^2}}'))\n",
        "    return A_total\n",
        "\n",
        "# Datos editables\n",
        "l_sup = 2.3          # largo base superior\n",
        "a_sup = 1.13         # ancho base superior\n",
        "l_inf = 0.5          # largo base inferior\n",
        "a_inf = 0.53944      # ancho base inferior\n",
        "altura_inclinada = 1.34536\n",
        "\n",
        "# Cálculos\n",
        "A1 = calcular_area_base_superior(l_sup, a_sup)\n",
        "A2 = calcular_area_base_inferior(l_inf, a_inf)\n",
        "A_largos = calcular_area_lados_trapecio(l_sup, l_inf, altura_inclinada, \"largos\")\n",
        "A_cortos = calcular_area_lados_trapecio(a_sup, a_inf, altura_inclinada, \"cortos\")\n",
        "A_total = calcular_area_total(A1, A2, A_largos, A_cortos)\n"
      ],
      "metadata": {
        "colab": {
          "base_uri": "https://localhost:8080/",
          "height": 312
        },
        "id": "TLODuGEsLGaH",
        "outputId": "5f7061b1-404b-40db-f818-f1d0a1516c93"
      },
      "execution_count": null,
      "outputs": [
        {
          "output_type": "display_data",
          "data": {
            "text/plain": [
              "<IPython.core.display.Math object>"
            ],
            "text/latex": "$\\displaystyle \\textbf{Área base superior:} \\quad A_1 = l \\cdot a$"
          },
          "metadata": {}
        },
        {
          "output_type": "display_data",
          "data": {
            "text/plain": [
              "<IPython.core.display.Math object>"
            ],
            "text/latex": "$\\displaystyle \\textbf{Sustitución:} \\quad A_1 = 2.3 \\cdot 1.13 = 2.599 \\, \\mathrm{m^2}$"
          },
          "metadata": {}
        },
        {
          "output_type": "display_data",
          "data": {
            "text/plain": [
              "<IPython.core.display.Math object>"
            ],
            "text/latex": "$\\displaystyle \\textbf{Área base inferior:} \\quad A_2 = l \\cdot a$"
          },
          "metadata": {}
        },
        {
          "output_type": "display_data",
          "data": {
            "text/plain": [
              "<IPython.core.display.Math object>"
            ],
            "text/latex": "$\\displaystyle \\textbf{Sustitución:} \\quad A_2 = 0.5 \\cdot 0.53944 = 0.26972 \\, \\mathrm{m^2}$"
          },
          "metadata": {}
        },
        {
          "output_type": "display_data",
          "data": {
            "text/plain": [
              "<IPython.core.display.Math object>"
            ],
            "text/latex": "$\\displaystyle \\textbf{Área lateral largos:} \\quad A = \\left( \\frac{b_1 + b_2}{2} \\right) \\cdot h$"
          },
          "metadata": {}
        },
        {
          "output_type": "display_data",
          "data": {
            "text/plain": [
              "<IPython.core.display.Math object>"
            ],
            "text/latex": "$\\displaystyle \\textbf{Sustitución:} \\quad A = \\left( \\frac{2.3 + 0.5}{2} \\right) \\cdot 1.34536 = 1.4000 \\cdot 1.34536 = 1.884 \\, \\mathrm{m^2} \\times 2 = 3.767 \\, \\mathrm{m^2}$"
          },
          "metadata": {}
        },
        {
          "output_type": "display_data",
          "data": {
            "text/plain": [
              "<IPython.core.display.Math object>"
            ],
            "text/latex": "$\\displaystyle \\textbf{Área lateral cortos:} \\quad A = \\left( \\frac{b_1 + b_2}{2} \\right) \\cdot h$"
          },
          "metadata": {}
        },
        {
          "output_type": "display_data",
          "data": {
            "text/plain": [
              "<IPython.core.display.Math object>"
            ],
            "text/latex": "$\\displaystyle \\textbf{Sustitución:} \\quad A = \\left( \\frac{1.13 + 0.53944}{2} \\right) \\cdot 1.34536 = 0.8347 \\cdot 1.34536 = 1.123 \\, \\mathrm{m^2} \\times 2 = 2.246 \\, \\mathrm{m^2}$"
          },
          "metadata": {}
        },
        {
          "output_type": "display_data",
          "data": {
            "text/plain": [
              "<IPython.core.display.Math object>"
            ],
            "text/latex": "$\\displaystyle \\textbf{Área superficial total:} \\quad A_{\\text{total}} = A_1 + A_2 + A_{\\text{lados largos}} + A_{\\text{lados cortos}}$"
          },
          "metadata": {}
        },
        {
          "output_type": "display_data",
          "data": {
            "text/plain": [
              "<IPython.core.display.Math object>"
            ],
            "text/latex": "$\\displaystyle \\textbf{Sustitución:} \\quad A_{\\text{total}} = 2.599 + 0.26972 + 3.767 + 2.246 = \\boxed{8.882} \\, \\mathrm{m^2}$"
          },
          "metadata": {}
        }
      ]
    },
    {
      "cell_type": "markdown",
      "source": [
        "*masa de la tolva de ensaque*"
      ],
      "metadata": {
        "id": "GhX83YTiONBt"
      }
    },
    {
      "cell_type": "code",
      "source": [
        "from IPython.display import display, Math\n",
        "\n",
        "def calcular_masa_tolva(A_total, espesor, densidad_acero):\n",
        "    display(Math(r'\\textbf{Volumen del acero:} \\quad V = A_{\\text{total}} \\cdot e'))\n",
        "    V = A_total * espesor\n",
        "    display(Math(rf'\\textbf{{Sustitución:}} \\quad V = {A_total:.3f} \\cdot {espesor} = {V:.4f} \\, \\mathrm{{m^3}}'))\n",
        "\n",
        "    display(Math(r'\\textbf{Masa:} \\quad m = \\rho \\cdot V'))\n",
        "    masa = densidad_acero * V\n",
        "    display(Math(rf'\\textbf{{Sustitución:}} \\quad m = {densidad_acero} \\cdot {V:.4f} = {masa:.2f} \\, \\mathrm{{kg}}'))\n",
        "\n",
        "    return masa\n",
        "\n",
        "# Parámetros\n",
        "espesor = 0.003      # 3 mm en metros\n",
        "densidad_acero = 7860  # kg/m³\n",
        "A_total = 8.882       # m² (resultado anterior)\n",
        "\n",
        "# Cálculo de la masa\n",
        "masa_tolva = calcular_masa_tolva(A_total, espesor, densidad_acero)\n"
      ],
      "metadata": {
        "colab": {
          "base_uri": "https://localhost:8080/",
          "height": 102
        },
        "id": "spmPZGkqO_kc",
        "outputId": "b8d59a7c-329b-470b-8832-4f6d0c7ff1a5"
      },
      "execution_count": null,
      "outputs": [
        {
          "output_type": "display_data",
          "data": {
            "text/plain": [
              "<IPython.core.display.Math object>"
            ],
            "text/latex": "$\\displaystyle \\textbf{Volumen del acero:} \\quad V = A_{\\text{total}} \\cdot e$"
          },
          "metadata": {}
        },
        {
          "output_type": "display_data",
          "data": {
            "text/plain": [
              "<IPython.core.display.Math object>"
            ],
            "text/latex": "$\\displaystyle \\textbf{Sustitución:} \\quad V = 8.882 \\cdot 0.003 = 0.0266 \\, \\mathrm{m^3}$"
          },
          "metadata": {}
        },
        {
          "output_type": "display_data",
          "data": {
            "text/plain": [
              "<IPython.core.display.Math object>"
            ],
            "text/latex": "$\\displaystyle \\textbf{Masa:} \\quad m = \\rho \\cdot V$"
          },
          "metadata": {}
        },
        {
          "output_type": "display_data",
          "data": {
            "text/plain": [
              "<IPython.core.display.Math object>"
            ],
            "text/latex": "$\\displaystyle \\textbf{Sustitución:} \\quad m = 7860 \\cdot 0.0266 = 209.44 \\, \\mathrm{kg}$"
          },
          "metadata": {}
        }
      ]
    },
    {
      "cell_type": "markdown",
      "source": [
        "*masa de la boquilla donde sale el producto*"
      ],
      "metadata": {
        "id": "V3oqNcS_cQP1"
      }
    },
    {
      "cell_type": "code",
      "source": [
        "from IPython.display import display, Math\n",
        "import math\n",
        "\n",
        "def calcular_masa_boquilla(d_ext, d_int, h_boquilla, densidad_acero):\n",
        "    display(Math(r'\\textbf{Masa de la boquilla:} \\quad m = \\rho \\cdot A \\cdot e'))\n",
        "    r_ext = d_ext / 2\n",
        "    r_int = d_int / 2\n",
        "    r_prom = (r_ext + r_int) / 2\n",
        "    A = 2 * math.pi * r_prom * h_boquilla\n",
        "    espesor = r_ext - r_int\n",
        "    volumen = A * espesor\n",
        "    masa = densidad_acero * volumen\n",
        "    display(Math(rf'\\textbf{{Sustitución:}} \\quad m = {densidad_acero} \\cdot {A:.4f} \\cdot {espesor:.5f} = \\boxed{{{masa:.2f}}} \\, \\mathrm{{kg}}'))\n",
        "    return masa\n",
        "\n",
        "# Datos de la boquilla\n",
        "d_ext = 0.150        # metros\n",
        "d_int = 0.13943      # metros\n",
        "h_boquilla = 0.56745 # metros\n",
        "densidad_acero = 7860  # kg/m³\n",
        "\n",
        "# Cálculo de masa\n",
        "masa_boquilla = calcular_masa_boquilla(d_ext, d_int, h_boquilla, densidad_acero)\n",
        "\n"
      ],
      "metadata": {
        "colab": {
          "base_uri": "https://localhost:8080/",
          "height": 61
        },
        "outputId": "f369a379-b8e2-4c54-daca-6cd569e4c531",
        "id": "r5XCtCcQcS5A"
      },
      "execution_count": null,
      "outputs": [
        {
          "output_type": "display_data",
          "data": {
            "text/plain": [
              "<IPython.core.display.Math object>"
            ],
            "text/latex": "$\\displaystyle \\textbf{Masa de la boquilla:} \\quad m = \\rho \\cdot A \\cdot e$"
          },
          "metadata": {}
        },
        {
          "output_type": "display_data",
          "data": {
            "text/plain": [
              "<IPython.core.display.Math object>"
            ],
            "text/latex": "$\\displaystyle \\textbf{Sustitución:} \\quad m = 7860 \\cdot 0.2580 \\cdot 0.00528 = \\boxed{10.72} \\, \\mathrm{kg}$"
          },
          "metadata": {}
        }
      ]
    },
    {
      "cell_type": "markdown",
      "source": [
        "*peso total de la mezcladora*"
      ],
      "metadata": {
        "id": "gUe9_ChtX2IH"
      }
    },
    {
      "cell_type": "code",
      "source": [
        "from sympy import symbols\n",
        "from IPython.display import display, Math\n",
        "\n",
        "def calcular_peso_total(peso_mezcladora, peso_tambor, peso_motorreductor, masa_maxima, masa_tolva, masa_boq, g):\n",
        "    # Mostrar la ecuación general\n",
        "    display(Math(\n",
        "        r'\\textbf{Ecuación general:} \\quad P_{\\mathrm{total}} = (P_{\\mathrm{mezcladora}} + P_{\\mathrm{tambor}} + P_{\\mathrm{motorreductor}} + M_{\\mathrm{max}} + M_{\\mathrm{tolva}} + M_{\\mathrm{boquilla}}) \\cdot g'\n",
        "    ))\n",
        "\n",
        "    # Suma de masas\n",
        "    masa_total = peso_mezcladora + peso_tambor + peso_motorreductor + masa_maxima + masa_tolva + masa_boq\n",
        "\n",
        "    # Cálculo del peso total\n",
        "    P_total = masa_total * g\n",
        "\n",
        "    # Mostrar la sustitución numérica\n",
        "    display(Math(\n",
        "        rf'\\textbf{{Sustitución:}} \\quad P_{{\\mathrm{{total}}}} = ({peso_mezcladora} + {peso_tambor} + {peso_motorreductor} + {masa_maxima} + {masa_tolva} + {masa_boq}) \\cdot {g} = {P_total:.1f} \\, \\mathrm{{N}}'\n",
        "    ))\n",
        "\n",
        "    return P_total\n",
        "\n",
        "# Valores editables\n",
        "peso_mezcladora_val = 3417  # en kg\n",
        "peso_tambor_val = 3634      # en kg\n",
        "peso_motorreductor_val = 380  # en kg\n",
        "masa_maxima_val = 1000       # en kg\n",
        "masa_tolva_val = 209.44      # en kg\n",
        "masa_boq_val = 10.72         # en kg\n",
        "g_val = 9.81                 # gravedad en m/s²\n",
        "\n",
        "# Calcular el peso total en Newtons\n",
        "peso_total = calcular_peso_total(peso_mezcladora_val, peso_tambor_val, peso_motorreductor_val, masa_maxima_val, masa_tolva_val, masa_boq_val, g_val)\n"
      ],
      "metadata": {
        "colab": {
          "base_uri": "https://localhost:8080/",
          "height": 60
        },
        "id": "OMWtr8RCdz4v",
        "outputId": "6d601c6a-278d-4f18-f5ef-382a1f90b871"
      },
      "execution_count": null,
      "outputs": [
        {
          "output_type": "display_data",
          "data": {
            "text/plain": [
              "<IPython.core.display.Math object>"
            ],
            "text/latex": "$\\displaystyle \\textbf{Ecuación general:} \\quad P_{\\mathrm{total}} = (P_{\\mathrm{mezcladora}} + P_{\\mathrm{tambor}} + P_{\\mathrm{motorreductor}} + M_{\\mathrm{max}} + M_{\\mathrm{tolva}} + M_{\\mathrm{boquilla}}) \\cdot g$"
          },
          "metadata": {}
        },
        {
          "output_type": "display_data",
          "data": {
            "text/plain": [
              "<IPython.core.display.Math object>"
            ],
            "text/latex": "$\\displaystyle \\textbf{Sustitución:} \\quad P_{\\mathrm{total}} = (3417 + 3634 + 380 + 1000 + 209.44 + 10.72) \\cdot 9.81 = 84867.9 \\, \\mathrm{N}$"
          },
          "metadata": {}
        }
      ]
    },
    {
      "cell_type": "markdown",
      "source": [
        "*área de la sección transversal de las columnas*"
      ],
      "metadata": {
        "id": "WK19UDIjYjCS"
      }
    },
    {
      "cell_type": "code",
      "source": [
        "from IPython.display import display, Math\n",
        "\n",
        "def calcular_area_columna_tipo_H(b_f_mm, t_f_mm, h_mm, t_w_mm):\n",
        "    # Convertir a metros\n",
        "    b_f = b_f_mm / 1000\n",
        "    t_f = t_f_mm / 1000\n",
        "    h = h_mm / 1000\n",
        "    t_w = t_w_mm / 1000\n",
        "\n",
        "    # Mostrar la fórmula general\n",
        "    display(Math(r'\\textbf{Ecuación general:} \\quad A = 2 \\cdot (b_f \\cdot t_f) + (h - 2 \\cdot t_f) \\cdot t_w'))\n",
        "\n",
        "    # Calcular área\n",
        "    A = 2 * (b_f * t_f) + (h - 2 * t_f) * t_w\n",
        "\n",
        "    # Convertir a mm² para mostrar\n",
        "    A_mm2 = A * 1e6\n",
        "\n",
        "    # Mostrar sustitución numérica\n",
        "    display(Math(\n",
        "        rf'\\textbf{{Sustitución:}} \\quad A = 2 \\cdot ({b_f:.3f} \\cdot {t_f:.3f}) + ({h:.3f} - 2 \\cdot {t_f:.3f}) \\cdot {t_w:.3f} = {A_mm2:.0f} \\, \\mathrm{{mm^2}} = {A:.6f} \\, \\mathrm{{m^2}}'\n",
        "    ))\n",
        "\n",
        "    return A\n",
        "\n",
        "# Valores de entrada (en mm)\n",
        "b_f_val = 65     # Ancho de ala\n",
        "t_f_val = 30     # Espesor de ala\n",
        "h_val = 200      # Altura total de la sección\n",
        "t_w_val = 25     # Espesor del alma\n",
        "\n",
        "# Calcular\n",
        "area_columna = calcular_area_columna_tipo_H(b_f_val, t_f_val, h_val, t_w_val)\n"
      ],
      "metadata": {
        "colab": {
          "base_uri": "https://localhost:8080/",
          "height": 60
        },
        "id": "PC3jgsCOQe2g",
        "outputId": "e0aecf89-8915-40a8-e9ca-006ce4c41ef7"
      },
      "execution_count": null,
      "outputs": [
        {
          "output_type": "display_data",
          "data": {
            "text/plain": [
              "<IPython.core.display.Math object>"
            ],
            "text/latex": "$\\displaystyle \\textbf{Ecuación general:} \\quad A = 2 \\cdot (b_f \\cdot t_f) + (h - 2 \\cdot t_f) \\cdot t_w$"
          },
          "metadata": {}
        },
        {
          "output_type": "display_data",
          "data": {
            "text/plain": [
              "<IPython.core.display.Math object>"
            ],
            "text/latex": "$\\displaystyle \\textbf{Sustitución:} \\quad A = 2 \\cdot (0.065 \\cdot 0.030) + (0.200 - 2 \\cdot 0.030) \\cdot 0.025 = 7400 \\, \\mathrm{mm^2} = 0.007400 \\, \\mathrm{m^2}$"
          },
          "metadata": {}
        }
      ]
    },
    {
      "cell_type": "markdown",
      "source": [
        "*esfuerzo real por compresion*"
      ],
      "metadata": {
        "id": "frsMvzb-ZKDe"
      }
    },
    {
      "cell_type": "code",
      "source": [
        "from IPython.display import display, Math\n",
        "\n",
        "def calcular_esfuerzo_compresion(P, A, sigma_resistencia, FS):\n",
        "    # Mostrar ecuación general\n",
        "    display(Math(r'\\textbf{Ecuación general:} \\quad \\sigma_{\\mathrm{real}} = \\frac{P}{A}'))\n",
        "\n",
        "    # Calcular esfuerzo real en MPa\n",
        "    sigma_real = P / A / 1e6  # Convertir N/m² a MPa\n",
        "\n",
        "    # Mostrar sustitución\n",
        "    display(Math(\n",
        "        rf'\\textbf{{Sustitución:}} \\quad \\sigma_{{\\mathrm{{real}}}} = \\frac{{{P} \\, \\mathrm{{N}}}}{{{A:.6f} \\, \\mathrm{{m^2}}}} = {sigma_real:.2f} \\, \\mathrm{{MPa}}'\n",
        "    ))\n",
        "\n",
        "    # Calcular esfuerzo admisible\n",
        "    sigma_adm = sigma_resistencia / FS\n",
        "\n",
        "    # Mostrar esfuerzo admisible\n",
        "    display(Math(\n",
        "        rf'\\textbf{{Esfuerzo admisible:}} \\quad \\sigma_{{\\mathrm{{adm}}}} = \\frac{{{sigma_resistencia} \\, \\mathrm{{MPa}}}}{{{FS}}} = {sigma_adm:.2f} \\, \\mathrm{{MPa}}'\n",
        "    ))\n",
        "\n",
        "    # Evaluación de seguridad\n",
        "    if sigma_real < sigma_adm:\n",
        "        display(Math(r'\\textcolor{green}{\\textbf{Resultado:}} \\quad \\sigma_{\\mathrm{real}} < \\sigma_{\\mathrm{adm}} \\Rightarrow \\text{No hay riesgo de aplastamiento.}'))\n",
        "    else:\n",
        "        display(Math(r'\\textcolor{red}{\\textbf{Advertencia:}} \\quad \\sigma_{\\mathrm{real}} \\geq \\sigma_{\\mathrm{adm}} \\Rightarrow \\text{Revisar diseño.}'))\n",
        "\n",
        "    return sigma_real, sigma_adm\n",
        "\n",
        "# Variables editables\n",
        "P_val = 21216.975  # Peso por columna en N\n",
        "A_val_m2 = 0.074   # Área de la sección transversal en m²\n",
        "sigma_resistencia_val = 260  # Límite de resistencia del AISI 302 en MPa\n",
        "FS_val = 3  # Factor de seguridad\n",
        "\n",
        "# Calcular y comparar esfuerzos\n",
        "sigma_real, sigma_adm = calcular_esfuerzo_compresion(P_val, A_val_m2, sigma_resistencia_val, FS_val)\n"
      ],
      "metadata": {
        "colab": {
          "base_uri": "https://localhost:8080/",
          "height": 142
        },
        "id": "qV8uXsHaZOAj",
        "outputId": "9e374734-3e72-473c-9c07-21160f3962c3"
      },
      "execution_count": null,
      "outputs": [
        {
          "output_type": "display_data",
          "data": {
            "text/plain": [
              "<IPython.core.display.Math object>"
            ],
            "text/latex": "$\\displaystyle \\textbf{Ecuación general:} \\quad \\sigma_{\\mathrm{real}} = \\frac{P}{A}$"
          },
          "metadata": {}
        },
        {
          "output_type": "display_data",
          "data": {
            "text/plain": [
              "<IPython.core.display.Math object>"
            ],
            "text/latex": "$\\displaystyle \\textbf{Sustitución:} \\quad \\sigma_{\\mathrm{real}} = \\frac{21216.975 \\, \\mathrm{N}}{0.074000 \\, \\mathrm{m^2}} = 0.29 \\, \\mathrm{MPa}$"
          },
          "metadata": {}
        },
        {
          "output_type": "display_data",
          "data": {
            "text/plain": [
              "<IPython.core.display.Math object>"
            ],
            "text/latex": "$\\displaystyle \\textbf{Esfuerzo admisible:} \\quad \\sigma_{\\mathrm{adm}} = \\frac{260 \\, \\mathrm{MPa}}{3} = 86.67 \\, \\mathrm{MPa}$"
          },
          "metadata": {}
        },
        {
          "output_type": "display_data",
          "data": {
            "text/plain": [
              "<IPython.core.display.Math object>"
            ],
            "text/latex": "$\\displaystyle \\textcolor{green}{\\textbf{Resultado:}} \\quad \\sigma_{\\mathrm{real}} < \\sigma_{\\mathrm{adm}} \\Rightarrow \\text{No hay riesgo de aplastamiento.}$"
          },
          "metadata": {}
        }
      ]
    },
    {
      "cell_type": "markdown",
      "source": [
        "*momento de inercia de las columnas*"
      ],
      "metadata": {
        "id": "PqJWOlMcaIY7"
      }
    },
    {
      "cell_type": "code",
      "source": [
        "from IPython.display import display, Math\n",
        "\n",
        "def calcular_momento_inercia_H(b_f_mm, t_f_mm, h_mm, t_w_mm):\n",
        "    # Convertir a metros\n",
        "    b_f = b_f_mm / 1000  # Ancho del ala en metros\n",
        "    t_f = t_f_mm / 1000  # Espesor del ala en metros\n",
        "    h = h_mm / 1000      # Altura total de la sección en metros\n",
        "    t_w = t_w_mm / 1000  # Espesor del alma en metros\n",
        "\n",
        "    # Mostrar fórmula general\n",
        "    display(Math(r'\\textbf{Ecuación general:} \\quad I_y = 2 \\cdot \\left( \\frac{t_f \\cdot b_f^3}{12} \\right) + \\frac{t_w \\cdot (h - 2 t_f)^3}{12}'))\n",
        "\n",
        "    # Cálculo del momento de inercia (en m⁴)\n",
        "    I_ala = 2 * ((t_f * b_f**3) / 12)\n",
        "    I_alma = (t_w * (h - 2 * t_f)**3) / 12\n",
        "    I_total = I_ala + I_alma\n",
        "\n",
        "    # Mostrar sustitución numérica\n",
        "    # Usamos el formato de notación con \"× 10^\"\n",
        "    display(Math(\n",
        "        rf'\\textbf{{Sustitución:}} \\quad I_y = 2 \\cdot \\left( \\frac{{{t_f:.3f} \\cdot {b_f:.3f}^3}}{{12}} \\right) + \\frac{{{t_w:.3f} \\cdot ({h:.3f} - 2 \\cdot {t_f:.3f})^3}}{{12}} = {I_total:.2e} \\, \\mathrm{{m^4}}'\n",
        "    ))\n",
        "\n",
        "    # Convertir a notación x 10^\n",
        "    I_total_formateado = f\"{I_total:.2e}\".replace(\"e\", \"×10^\")\n",
        "\n",
        "    display(Math(\n",
        "        rf'\\textbf{{Resultado final:}} \\quad I_y = {I_total_formateado} \\, \\mathrm{{m^4}}'\n",
        "    ))\n",
        "\n",
        "    return I_total\n",
        "\n",
        "# Valores de entrada en mm\n",
        "b_f = 65     # Ancho del ala (en mm)\n",
        "t_f = 30     # Espesor del ala (en mm)\n",
        "h = 200      # Altura total de la sección (en mm)\n",
        "t_w = 25     # Espesor del alma (en mm)\n",
        "\n",
        "# Ejecutar\n",
        "I_columna_H = calcular_momento_inercia_H(b_f, t_f, h, t_w)\n"
      ],
      "metadata": {
        "colab": {
          "base_uri": "https://localhost:8080/",
          "height": 130
        },
        "id": "gvJbcounUn4r",
        "outputId": "caa0dd6b-a679-4c65-814e-25e97c6a1f79"
      },
      "execution_count": null,
      "outputs": [
        {
          "output_type": "display_data",
          "data": {
            "text/plain": [
              "<IPython.core.display.Math object>"
            ],
            "text/latex": "$\\displaystyle \\textbf{Ecuación general:} \\quad I_y = 2 \\cdot \\left( \\frac{t_f \\cdot b_f^3}{12} \\right) + \\frac{t_w \\cdot (h - 2 t_f)^3}{12}$"
          },
          "metadata": {}
        },
        {
          "output_type": "display_data",
          "data": {
            "text/plain": [
              "<IPython.core.display.Math object>"
            ],
            "text/latex": "$\\displaystyle \\textbf{Sustitución:} \\quad I_y = 2 \\cdot \\left( \\frac{0.030 \\cdot 0.065^3}{12} \\right) + \\frac{0.025 \\cdot (0.200 - 2 \\cdot 0.030)^3}{12} = 7.09e-06 \\, \\mathrm{m^4}$"
          },
          "metadata": {}
        },
        {
          "output_type": "display_data",
          "data": {
            "text/plain": [
              "<IPython.core.display.Math object>"
            ],
            "text/latex": "$\\displaystyle \\textbf{Resultado final:} \\quad I_y = 7.09×10^-06 \\, \\mathrm{m^4}$"
          },
          "metadata": {}
        }
      ]
    },
    {
      "cell_type": "markdown",
      "source": [
        "*lonjitud efectiva de las columnas*"
      ],
      "metadata": {
        "id": "0v6CDvBwam23"
      }
    },
    {
      "cell_type": "code",
      "source": [
        "from IPython.display import display, Math\n",
        "\n",
        "def calcular_longitud_efectiva(k, L):\n",
        "    # Mostrar ecuación general\n",
        "    display(Math(r'\\textbf{Ecuación general:} \\quad L_e = k \\cdot L'))\n",
        "\n",
        "    # Calcular longitud efectiva\n",
        "    L_e = k * L\n",
        "\n",
        "    # Mostrar sustitución\n",
        "    display(Math(\n",
        "        rf'\\textbf{{Sustitución:}} \\quad L_e = {k} \\cdot {L} = {L_e:.3f} \\, \\mathrm{{m}}'\n",
        "    ))\n",
        "\n",
        "    return L_e\n",
        "\n",
        "# Variables editables\n",
        "k_val = 0.5       # Factor de empotramiento (ambos extremos empotrados)\n",
        "L_val = 2.456     # Longitud de la columna en metros\n",
        "\n",
        "# Calcular longitud efectiva\n",
        "longitud_efectiva = calcular_longitud_efectiva(k_val, L_val)\n"
      ],
      "metadata": {
        "colab": {
          "base_uri": "https://localhost:8080/",
          "height": 60
        },
        "id": "ToPFL8VvatG0",
        "outputId": "560b1996-f352-4c74-8956-bdf4db8e653f"
      },
      "execution_count": null,
      "outputs": [
        {
          "output_type": "display_data",
          "data": {
            "text/plain": [
              "<IPython.core.display.Math object>"
            ],
            "text/latex": "$\\displaystyle \\textbf{Ecuación general:} \\quad L_e = k \\cdot L$"
          },
          "metadata": {}
        },
        {
          "output_type": "display_data",
          "data": {
            "text/plain": [
              "<IPython.core.display.Math object>"
            ],
            "text/latex": "$\\displaystyle \\textbf{Sustitución:} \\quad L_e = 0.5 \\cdot 2.456 = 1.228 \\, \\mathrm{m}$"
          },
          "metadata": {}
        }
      ]
    },
    {
      "cell_type": "markdown",
      "source": [
        "*carga crítica de pandeo que tiene en cuenta el modula de elasticidad (E) del acero AISI 302*"
      ],
      "metadata": {
        "id": "a7uN4eoKbI2v"
      }
    },
    {
      "cell_type": "code",
      "source": [
        "from IPython.display import display, Math\n",
        "from math import pi, log10, floor\n",
        "\n",
        "def notacion_cientifica_latex(valor):\n",
        "    log_val = floor(log10(abs(valor)))\n",
        "    exponente = 3 * (log_val // 3)  # Ajuste a múltiplos de 3 (notación de ingeniería)\n",
        "    base = valor / (10 ** exponente)\n",
        "    return f\"{base:.2f} \\\\times 10^{{{exponente}}}\"\n",
        "\n",
        "def calcular_carga_critica(E, I, Le):\n",
        "    display(Math(r'\\textbf{Ecuación general:} \\quad P_{cr} = \\frac{\\pi^2 \\cdot E \\cdot I}{L_e^2}'))\n",
        "\n",
        "    P_cr = (pi ** 2) * E * I / Le ** 2\n",
        "\n",
        "    E_str = notacion_cientifica_latex(E)\n",
        "    I_str = notacion_cientifica_latex(I)\n",
        "    P_cr_str = notacion_cientifica_latex(P_cr)\n",
        "\n",
        "    display(Math(\n",
        "        rf'\\textbf{{Sustitución:}} \\quad P_{{cr}} = \\frac{{\\pi^2 \\cdot {E_str} \\cdot {I_str}}}{{{Le:.3f}^2}} = {P_cr_str} \\, \\mathrm{{N}}'\n",
        "    ))\n",
        "\n",
        "    return P_cr\n",
        "\n",
        "# Valores editables\n",
        "E_val = 193e9      # 193 ×10⁹ Pa\n",
        "I_val = 7.09e-6    # 7.09 ×10⁻⁶ m⁴\n",
        "Le_val = 1.228     # Longitud efectiva en m\n",
        "\n",
        "carga_critica = calcular_carga_critica(E_val, I_val, Le_val)"
      ],
      "metadata": {
        "colab": {
          "base_uri": "https://localhost:8080/",
          "height": 95
        },
        "id": "ikDhERpaYNm_",
        "outputId": "535c38fd-d6ad-439e-8cf7-304c579fe561"
      },
      "execution_count": null,
      "outputs": [
        {
          "output_type": "display_data",
          "data": {
            "text/plain": [
              "<IPython.core.display.Math object>"
            ],
            "text/latex": "$\\displaystyle \\textbf{Ecuación general:} \\quad P_{cr} = \\frac{\\pi^2 \\cdot E \\cdot I}{L_e^2}$"
          },
          "metadata": {}
        },
        {
          "output_type": "display_data",
          "data": {
            "text/plain": [
              "<IPython.core.display.Math object>"
            ],
            "text/latex": "$\\displaystyle \\textbf{Sustitución:} \\quad P_{cr} = \\frac{\\pi^2 \\cdot 193.00 \\times 10^{9} \\cdot 7.09 \\times 10^{-6}}{1.228^2} = 8.96 \\times 10^{6} \\, \\mathrm{N}$"
          },
          "metadata": {}
        }
      ]
    },
    {
      "cell_type": "code",
      "source": [
        "# Datos proporcionados\n",
        "carga_real = 21216.975  # en N\n",
        "carga_critica_pandeo = 8.96 * 10**6  # en N\n",
        "\n",
        "# Cálculo del porcentaje\n",
        "porcentaje = (carga_real / carga_critica_pandeo) * 100\n",
        "\n",
        "# Mostrar el resultado\n",
        "print(f\"La carga real representa el {porcentaje:.4f}% de la carga crítica de pandeo.\")\n"
      ],
      "metadata": {
        "colab": {
          "base_uri": "https://localhost:8080/"
        },
        "id": "e6MEsv2djRrJ",
        "outputId": "c266478a-5dcb-49bd-ecba-687e69daabd2"
      },
      "execution_count": null,
      "outputs": [
        {
          "output_type": "stream",
          "name": "stdout",
          "text": [
            "La carga real representa el 0.2368% de la carga crítica de pandeo.\n"
          ]
        }
      ]
    },
    {
      "cell_type": "markdown",
      "source": [
        "*peso del tanque de dosificación*"
      ],
      "metadata": {
        "id": "73drOPWtlZ9d"
      }
    },
    {
      "cell_type": "code",
      "source": [
        "from IPython.display import display, Math\n",
        "\n",
        "def calcular_peso_por_columna(masa_total, n_columnas, g):\n",
        "    # Mostrar ecuación general\n",
        "    display(Math(r'\\textbf{Ecuación general:} \\quad P = \\left( \\frac{m}{n} \\right) \\cdot g'))\n",
        "\n",
        "    # Calcular masa por columna\n",
        "    masa_columna = masa_total / n_columnas\n",
        "\n",
        "    # Calcular peso\n",
        "    peso = masa_columna * g\n",
        "\n",
        "    # Mostrar sustitución\n",
        "    display(Math(\n",
        "        rf'\\textbf{{Sustitución:}} \\quad P = \\left( \\frac{{{masa_total}}}{{{n_columnas}}} \\right) \\cdot {g} = {peso:.2f} \\, \\mathrm{{N}}'\n",
        "    ))\n",
        "\n",
        "    return peso\n",
        "\n",
        "# Variables editables\n",
        "masa_total_val = 700     # Masa total del tanque en kg\n",
        "n_columnas_val = 4       # Número de columnas\n",
        "gravedad_val = 9.81      # Gravedad en m/s²\n",
        "\n",
        "# Calcular peso por columna\n",
        "peso_por_columna = calcular_peso_por_columna(masa_total_val, n_columnas_val, gravedad_val)\n"
      ],
      "metadata": {
        "colab": {
          "base_uri": "https://localhost:8080/",
          "height": 89
        },
        "id": "LlDHFipqlZgy",
        "outputId": "d3aa2863-b403-4aa6-8912-7f403b216958"
      },
      "execution_count": null,
      "outputs": [
        {
          "output_type": "display_data",
          "data": {
            "text/plain": [
              "<IPython.core.display.Math object>"
            ],
            "text/latex": "$\\displaystyle \\textbf{Ecuación general:} \\quad P = \\left( \\frac{m}{n} \\right) \\cdot g$"
          },
          "metadata": {}
        },
        {
          "output_type": "display_data",
          "data": {
            "text/plain": [
              "<IPython.core.display.Math object>"
            ],
            "text/latex": "$\\displaystyle \\textbf{Sustitución:} \\quad P = \\left( \\frac{700}{4} \\right) \\cdot 9.81 = 1716.75 \\, \\mathrm{N}$"
          },
          "metadata": {}
        }
      ]
    },
    {
      "cell_type": "markdown",
      "source": [
        "*área de las columnas del tanque de dosificación*"
      ],
      "metadata": {
        "id": "DufZDJpZmBkB"
      }
    },
    {
      "cell_type": "code",
      "source": [
        "from IPython.display import display, Math\n",
        "\n",
        "def calcular_area_columna(L, e):\n",
        "    # Mostrar ecuación general\n",
        "    display(Math(r'\\textbf{Ecuación general:} \\quad A = L \\cdot e'))\n",
        "\n",
        "    # Calcular área\n",
        "    A = L * e\n",
        "\n",
        "    # Mostrar sustitución\n",
        "    display(Math(\n",
        "        rf'\\textbf{{Sustitución:}} \\quad A = {L} \\cdot {e} = {A:.4f} \\, \\mathrm{{m^2}}'\n",
        "    ))\n",
        "\n",
        "    return A\n",
        "\n",
        "# Variables editables\n",
        "L_val = 0.1   # Longitud de la columna en metros\n",
        "e_val = 0.2   # Espesor de la columna en metros\n",
        "\n",
        "# Calcular área\n",
        "area_columna = calcular_area_columna(L_val, e_val)\n"
      ],
      "metadata": {
        "colab": {
          "base_uri": "https://localhost:8080/",
          "height": 60
        },
        "id": "W0PnsueGmClB",
        "outputId": "17dfc4db-28fa-420a-d996-5879d7d52d26"
      },
      "execution_count": null,
      "outputs": [
        {
          "output_type": "display_data",
          "data": {
            "text/plain": [
              "<IPython.core.display.Math object>"
            ],
            "text/latex": "$\\displaystyle \\textbf{Ecuación general:} \\quad A = L \\cdot e$"
          },
          "metadata": {}
        },
        {
          "output_type": "display_data",
          "data": {
            "text/plain": [
              "<IPython.core.display.Math object>"
            ],
            "text/latex": "$\\displaystyle \\textbf{Sustitución:} \\quad A = 0.1 \\cdot 0.2 = 0.0200 \\, \\mathrm{m^2}$"
          },
          "metadata": {}
        }
      ]
    },
    {
      "cell_type": "markdown",
      "source": [
        "*esfuerzo axial del tanque de dosifiacion*"
      ],
      "metadata": {
        "id": "-CrIIOaxmKSG"
      }
    },
    {
      "cell_type": "code",
      "source": [
        "from IPython.display import display, Math\n",
        "\n",
        "def calcular_esfuerzo_axial(peso, area):\n",
        "    # Mostrar ecuación general\n",
        "    display(Math(r'\\textbf{Ecuación general:} \\quad \\sigma_{\\text{axial}} = \\frac{P}{A}'))\n",
        "\n",
        "    # Calcular esfuerzo axial\n",
        "    sigma = peso / area  # Resultado en Pascales (N/m^2)\n",
        "\n",
        "    # Convertir a MPa\n",
        "    sigma_mpa = sigma / 1e6\n",
        "\n",
        "    # Mostrar sustitución\n",
        "    display(Math(\n",
        "        rf'\\textbf{{Sustitución:}} \\quad \\sigma_{{\\text{{axial}}}} = \\frac{{{peso}}}{{{area}}} = {sigma_mpa:.6f} \\, \\mathrm{{MPa}}'\n",
        "    ))\n",
        "\n",
        "    return sigma_mpa\n",
        "\n",
        "# Variables editables\n",
        "peso_val = 1716.75    # Peso por columna en Newtons\n",
        "area_val = 0.02       # Área de la columna en m^2\n",
        "\n",
        "# Calcular esfuerzo axial\n",
        "esfuerzo_axial = calcular_esfuerzo_axial(peso_val, area_val)\n",
        "\n"
      ],
      "metadata": {
        "colab": {
          "base_uri": "https://localhost:8080/",
          "height": 86
        },
        "id": "LCd0ZgAemQZf",
        "outputId": "f5190226-cca7-448f-bf4a-907602a0d28c"
      },
      "execution_count": null,
      "outputs": [
        {
          "output_type": "display_data",
          "data": {
            "text/plain": [
              "<IPython.core.display.Math object>"
            ],
            "text/latex": "$\\displaystyle \\textbf{Ecuación general:} \\quad \\sigma_{\\text{axial}} = \\frac{P}{A}$"
          },
          "metadata": {}
        },
        {
          "output_type": "display_data",
          "data": {
            "text/plain": [
              "<IPython.core.display.Math object>"
            ],
            "text/latex": "$\\displaystyle \\textbf{Sustitución:} \\quad \\sigma_{\\text{axial}} = \\frac{1716.75}{0.02} = 0.085837 \\, \\mathrm{MPa}$"
          },
          "metadata": {}
        }
      ]
    },
    {
      "cell_type": "markdown",
      "source": [
        "*area  total de la plataforma*"
      ],
      "metadata": {
        "id": "rUEPFB7JYCSA"
      }
    },
    {
      "cell_type": "markdown",
      "source": [
        "![imagen_2025-05-08_064510632.png](data:image/png;base64,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)"
      ],
      "metadata": {
        "id": "-P7sAPcRtj18"
      }
    },
    {
      "cell_type": "code",
      "source": [
        "from IPython.display import display, Math\n",
        "\n",
        "def calcular_area_total():\n",
        "    # Dimensiones en mm\n",
        "    A1 = 4200 * 1010.29               # Rectángulo izquierdo vertical\n",
        "    A2 = 764.73 * 2934.22             # Rectángulo superior central\n",
        "    A3 = 2755.14 * 1654.22            # Rectángulo medio central\n",
        "    A4 = 50 * 1184.22             # Rectángulo inferior izquierdo\n",
        "    A5 = 3840 * 1350            # Rectángulo inferior derecho\n",
        "    A6 = 1010.29 * 750          # Rectángulo vertical derecho\n",
        "\n",
        "    # Mostrar cálculo individual\n",
        "    display(Math(rf'\\textbf{{Área₁}} = 1350 \\cdot 3480 = {A1:,.0f} \\, \\mathrm{{mm^2}}'))\n",
        "    display(Math(rf'\\textbf{{Área₂}} = 2755.14 \\cdot 470 \\approx {A2:,.0f} \\, \\mathrm{{mm^2}}'))\n",
        "    display(Math(rf'\\textbf{{Área₃}} = 2755.14 \\cdot 1280 \\approx {A3:,.0f} \\, \\mathrm{{mm^2}}'))\n",
        "    display(Math(rf'\\textbf{{Área₄}} = 750 \\cdot 2934.22 \\approx {A4:,.0f} \\, \\mathrm{{mm^2}}'))\n",
        "    display(Math(rf'\\textbf{{Área₅}} = 4200 \\cdot 1010.29 \\approx {A5:,.0f} \\, \\mathrm{{mm^2}}'))\n",
        "    display(Math(rf'\\textbf{{Área₆}} = 764.73 \\cdot 2934.22 \\approx {A6:,.0f} \\, \\mathrm{{mm^2}}'))\n",
        "\n",
        "    # Área total en mm²\n",
        "    area_total_mm2 = A1 + A2 + A3 + A4 + A5 + A6\n",
        "    display(Math(rf'\\textbf{{Área Total en mm²}} = {area_total_mm2:,.0f} \\, \\mathrm{{mm^2}}'))\n",
        "\n",
        "    # Convertir a m²\n",
        "    area_total_m2 = area_total_mm2 / 1e6\n",
        "    display(Math(rf'\\textbf{{Área Total en m²}} = \\boxed{{{area_total_m2:.2f}}} \\, \\mathrm{{m^2}}'))\n",
        "\n",
        "    return area_total_m2\n",
        "\n",
        "# Ejecutar función\n",
        "area_plataforma_m2 = calcular_area_total()\n"
      ],
      "metadata": {
        "colab": {
          "base_uri": "https://localhost:8080/",
          "height": 189
        },
        "id": "Rl2OH6VI-zEB",
        "outputId": "630620cb-e0fa-4a05-b45a-81209ef55af5"
      },
      "execution_count": null,
      "outputs": [
        {
          "output_type": "display_data",
          "data": {
            "text/plain": [
              "<IPython.core.display.Math object>"
            ],
            "text/latex": "$\\displaystyle \\textbf{Área₁} = 1350 \\cdot 3480 = 4,243,218 \\, \\mathrm{mm^2}$"
          },
          "metadata": {}
        },
        {
          "output_type": "display_data",
          "data": {
            "text/plain": [
              "<IPython.core.display.Math object>"
            ],
            "text/latex": "$\\displaystyle \\textbf{Área₂} = 2755.14 \\cdot 470 \\approx 2,243,886 \\, \\mathrm{mm^2}$"
          },
          "metadata": {}
        },
        {
          "output_type": "display_data",
          "data": {
            "text/plain": [
              "<IPython.core.display.Math object>"
            ],
            "text/latex": "$\\displaystyle \\textbf{Área₃} = 2755.14 \\cdot 1280 \\approx 4,557,608 \\, \\mathrm{mm^2}$"
          },
          "metadata": {}
        },
        {
          "output_type": "display_data",
          "data": {
            "text/plain": [
              "<IPython.core.display.Math object>"
            ],
            "text/latex": "$\\displaystyle \\textbf{Área₄} = 750 \\cdot 2934.22 \\approx 59,211 \\, \\mathrm{mm^2}$"
          },
          "metadata": {}
        },
        {
          "output_type": "display_data",
          "data": {
            "text/plain": [
              "<IPython.core.display.Math object>"
            ],
            "text/latex": "$\\displaystyle \\textbf{Área₅} = 4200 \\cdot 1010.29 \\approx 5,184,000 \\, \\mathrm{mm^2}$"
          },
          "metadata": {}
        },
        {
          "output_type": "display_data",
          "data": {
            "text/plain": [
              "<IPython.core.display.Math object>"
            ],
            "text/latex": "$\\displaystyle \\textbf{Área₆} = 764.73 \\cdot 2934.22 \\approx 757,718 \\, \\mathrm{mm^2}$"
          },
          "metadata": {}
        },
        {
          "output_type": "display_data",
          "data": {
            "text/plain": [
              "<IPython.core.display.Math object>"
            ],
            "text/latex": "$\\displaystyle \\textbf{Área Total en mm²} = 17,045,640 \\, \\mathrm{mm^2}$"
          },
          "metadata": {}
        },
        {
          "output_type": "display_data",
          "data": {
            "text/plain": [
              "<IPython.core.display.Math object>"
            ],
            "text/latex": "$\\displaystyle \\textbf{Área Total en m²} = \\boxed{17.05} \\, \\mathrm{m^2}$"
          },
          "metadata": {}
        }
      ]
    },
    {
      "cell_type": "markdown",
      "source": [
        "*volumen de la plataforma*"
      ],
      "metadata": {
        "id": "lOBnv_GcYm7P"
      }
    },
    {
      "cell_type": "code",
      "source": [
        "from sympy import symbols\n",
        "from IPython.display import display, Math\n",
        "\n",
        "def calcular_volumen_mezcladora(As, e_mez):\n",
        "    # Definir el símbolo del volumen de la plataforma\n",
        "    V_mez = symbols(r'V_{\\mathrm{plataforma}}')\n",
        "\n",
        "    # Mostrar la ecuación general\n",
        "    display(Math(r'\\textbf{Ecuación general:} \\quad V_{\\mathrm{plataforma}} = A_s \\cdot e_{\\mathrm{mez}}'))\n",
        "\n",
        "    # Calcular el volumen\n",
        "    V_mez_val = As * e_mez\n",
        "\n",
        "    # Mostrar la sustitución numérica\n",
        "    display(Math(\n",
        "        rf'\\textbf{{Sustitución:}} \\quad V_{{\\mathrm{{plataforma}}}} = {As:.3f} \\cdot {e_mez:.3f} = {V_mez_val:.5f} \\, \\mathrm{{m^3}}'\n",
        "    ))\n",
        "\n",
        "    return V_mez_val\n",
        "\n",
        "# Valores dados (editables)\n",
        "As_val = 17.05  # Área superficial en m²\n",
        "e_mez_val = 0.05  # Espesor de lámina en m\n",
        "\n",
        "# Calcular el volumen de la plataforma\n",
        "volumen_plataforma = calcular_volumen_mezcladora(As_val, e_mez_val)\n"
      ],
      "metadata": {
        "colab": {
          "base_uri": "https://localhost:8080/",
          "height": 60
        },
        "outputId": "97136cd8-3ff4-46c0-d159-b6dd28710373",
        "id": "mvNnk2IpYqHc"
      },
      "execution_count": null,
      "outputs": [
        {
          "output_type": "display_data",
          "data": {
            "text/plain": [
              "<IPython.core.display.Math object>"
            ],
            "text/latex": "$\\displaystyle \\textbf{Ecuación general:} \\quad V_{\\mathrm{plataforma}} = A_s \\cdot e_{\\mathrm{mez}}$"
          },
          "metadata": {}
        },
        {
          "output_type": "display_data",
          "data": {
            "text/plain": [
              "<IPython.core.display.Math object>"
            ],
            "text/latex": "$\\displaystyle \\textbf{Sustitución:} \\quad V_{\\mathrm{plataforma}} = 17.050 \\cdot 0.050 = 0.85250 \\, \\mathrm{m^3}$"
          },
          "metadata": {}
        }
      ]
    },
    {
      "cell_type": "markdown",
      "source": [
        "*masa de la plataforma*"
      ],
      "metadata": {
        "id": "C2u4yvCmZ0VR"
      }
    },
    {
      "cell_type": "code",
      "source": [
        "from sympy import symbols\n",
        "from IPython.display import display, Math\n",
        "\n",
        "def calcular_masa_mezcladora(volumen, densidad):\n",
        "    # Definir el símbolo de la masa\n",
        "    m = symbols(r'm')\n",
        "\n",
        "    # Mostrar la ecuación general\n",
        "    display(Math(r'\\textbf{Ecuación general:} \\quad m = V \\cdot \\rho'))\n",
        "\n",
        "    # Calcular la masa\n",
        "    masa = volumen * densidad\n",
        "\n",
        "    # Mostrar la sustitución numérica\n",
        "    display(Math(\n",
        "        rf'\\textbf{{Sustitución:}} \\quad m = {volumen:.5f} \\cdot {densidad} = \\boxed{{{masa:.0f}}} \\, \\mathrm{{kg}}'\n",
        "    ))\n",
        "\n",
        "    return masa\n",
        "\n",
        "# Valores dados (editables)\n",
        "volumen_mezcladora_val = 0.85  # Volumen de la mezcladora en m³\n",
        "densidad_acero_val = 7850      # Densidad del acero A36 en kg/m³\n",
        "\n",
        "# Calcular la masa de la mezcladora\n",
        "masa_mezcladora = calcular_masa_mezcladora(volumen_mezcladora_val, densidad_acero_val)\n"
      ],
      "metadata": {
        "colab": {
          "base_uri": "https://localhost:8080/",
          "height": 61
        },
        "id": "biMvnUa8fF-S",
        "outputId": "5cc14e2b-47ec-428f-c652-d709e18244dc"
      },
      "execution_count": null,
      "outputs": [
        {
          "output_type": "display_data",
          "data": {
            "text/plain": [
              "<IPython.core.display.Math object>"
            ],
            "text/latex": "$\\displaystyle \\textbf{Ecuación general:} \\quad m = V \\cdot \\rho$"
          },
          "metadata": {}
        },
        {
          "output_type": "display_data",
          "data": {
            "text/plain": [
              "<IPython.core.display.Math object>"
            ],
            "text/latex": "$\\displaystyle \\textbf{Sustitución:} \\quad m = 0.85000 \\cdot 7850 = \\boxed{6672} \\, \\mathrm{kg}$"
          },
          "metadata": {}
        }
      ]
    },
    {
      "cell_type": "markdown",
      "source": [
        "*peso de la plataforma*"
      ],
      "metadata": {
        "id": "ErAqNU5fi9IM"
      }
    },
    {
      "cell_type": "code",
      "source": [
        "from sympy import symbols\n",
        "from IPython.display import display, Math\n",
        "\n",
        "def calcular_peso_total_componentes(masa_plataforma, masa_tanque, masa_carga_viva, gravedad):\n",
        "    # Mostrar ecuación general de la masa total\n",
        "    display(Math(r'\\textbf{Masa total:} \\quad m_{\\mathrm{total}} = m_{\\mathrm{plataforma}} + m_{\\mathrm{tanque}} + m_{\\mathrm{carga\\_viva}}'))\n",
        "\n",
        "    masa_total = masa_plataforma + masa_tanque + masa_carga_viva\n",
        "\n",
        "    # Sustitución de masa total\n",
        "    display(Math(\n",
        "        rf'\\textbf{{Sustitución:}} \\quad m_{{\\mathrm{{total}}}} = {masa_plataforma} + {masa_tanque} + {masa_carga_viva} = \\boxed{{{masa_total:.1f}}} \\, \\mathrm{{kg}}'\n",
        "    ))\n",
        "\n",
        "    # Calcular el peso total\n",
        "    display(Math(r'\\textbf{Ecuación del peso:} \\quad P = m_{\\mathrm{total}} \\cdot g'))\n",
        "\n",
        "    peso_total = masa_total * gravedad\n",
        "\n",
        "    # Sustitución en la ecuación del peso\n",
        "    display(Math(\n",
        "        rf'\\textbf{{Sustitución:}} \\quad P = {masa_total:.1f} \\cdot {gravedad} = \\boxed{{{peso_total:.2f}}} \\, \\mathrm{{N}}'\n",
        "    ))\n",
        "\n",
        "    return peso_total\n",
        "\n",
        "# Nuevos valores de masa en kg\n",
        "masa_plataforma = 6672\n",
        "masa_tanque = 700\n",
        "masa_carga_viva = 290\n",
        "gravedad = 9.81  # m/s²\n",
        "\n",
        "# Ejecutar función\n",
        "peso_total_componentes = calcular_peso_total_componentes(\n",
        "    masa_plataforma, masa_tanque, masa_carga_viva, gravedad\n",
        ")\n"
      ],
      "metadata": {
        "colab": {
          "base_uri": "https://localhost:8080/",
          "height": 106
        },
        "id": "4-aCslDJ2U46",
        "outputId": "3071e333-63cc-4142-c93c-59a6f8c315ea"
      },
      "execution_count": null,
      "outputs": [
        {
          "output_type": "display_data",
          "data": {
            "text/plain": [
              "<IPython.core.display.Math object>"
            ],
            "text/latex": "$\\displaystyle \\textbf{Masa total:} \\quad m_{\\mathrm{total}} = m_{\\mathrm{plataforma}} + m_{\\mathrm{tanque}} + m_{\\mathrm{carga\\_viva}}$"
          },
          "metadata": {}
        },
        {
          "output_type": "display_data",
          "data": {
            "text/plain": [
              "<IPython.core.display.Math object>"
            ],
            "text/latex": "$\\displaystyle \\textbf{Sustitución:} \\quad m_{\\mathrm{total}} = 6672 + 700 + 290 = \\boxed{7662.0} \\, \\mathrm{kg}$"
          },
          "metadata": {}
        },
        {
          "output_type": "display_data",
          "data": {
            "text/plain": [
              "<IPython.core.display.Math object>"
            ],
            "text/latex": "$\\displaystyle \\textbf{Ecuación del peso:} \\quad P = m_{\\mathrm{total}} \\cdot g$"
          },
          "metadata": {}
        },
        {
          "output_type": "display_data",
          "data": {
            "text/plain": [
              "<IPython.core.display.Math object>"
            ],
            "text/latex": "$\\displaystyle \\textbf{Sustitución:} \\quad P = 7662.0 \\cdot 9.81 = \\boxed{75164.22} \\, \\mathrm{N}$"
          },
          "metadata": {}
        }
      ]
    },
    {
      "cell_type": "markdown",
      "source": [
        "*área de las columnas del la plataforma*"
      ],
      "metadata": {
        "id": "Gr8_OMQu3Wf_"
      }
    },
    {
      "cell_type": "code",
      "source": [
        "from IPython.display import display, Math\n",
        "\n",
        "def calcular_area_columna(L, e):\n",
        "    # Mostrar ecuación general\n",
        "    display(Math(r'\\textbf{Ecuación general:} \\quad A = L \\cdot e'))\n",
        "\n",
        "    # Calcular área\n",
        "    A = L * e\n",
        "\n",
        "    # Mostrar sustitución\n",
        "    display(Math(\n",
        "        rf'\\textbf{{Sustitución:}} \\quad A = {L} \\cdot {e} = {A:.4f} \\, \\mathrm{{m^2}}'\n",
        "    ))\n",
        "\n",
        "    return A\n",
        "\n",
        "# Variables editables\n",
        "L_val = 0.065   # Longitud de la columna en metros\n",
        "e_val = 0.2   # Espesor de la columna en metros\n",
        "\n",
        "# Calcular área\n",
        "area_columna = calcular_area_columna(L_val, e_val)\n"
      ],
      "metadata": {
        "colab": {
          "base_uri": "https://localhost:8080/",
          "height": 60
        },
        "outputId": "fabefb6a-e975-4db9-918e-8f9bbd9f2caf",
        "id": "YsHtgcrh3dZ2"
      },
      "execution_count": null,
      "outputs": [
        {
          "output_type": "display_data",
          "data": {
            "text/plain": [
              "<IPython.core.display.Math object>"
            ],
            "text/latex": "$\\displaystyle \\textbf{Ecuación general:} \\quad A = L \\cdot e$"
          },
          "metadata": {}
        },
        {
          "output_type": "display_data",
          "data": {
            "text/plain": [
              "<IPython.core.display.Math object>"
            ],
            "text/latex": "$\\displaystyle \\textbf{Sustitución:} \\quad A = 0.065 \\cdot 0.2 = 0.0130 \\, \\mathrm{m^2}$"
          },
          "metadata": {}
        }
      ]
    },
    {
      "cell_type": "markdown",
      "source": [
        "*esfuerzo real por compresion de la plataforma*"
      ],
      "metadata": {
        "id": "kp3Fy-DBkuRd"
      }
    },
    {
      "cell_type": "code",
      "source": [
        "from IPython.display import display, Math\n",
        "\n",
        "def calcular_esfuerzo_compresion(P, A, sigma_resistencia, FS):\n",
        "    # Mostrar ecuación general\n",
        "    display(Math(r'\\textbf{Ecuación general:} \\quad \\sigma_{\\mathrm{real}} = \\frac{P}{A}'))\n",
        "\n",
        "    # Calcular esfuerzo real en MPa\n",
        "    sigma_real = P / A / 1e6  # Convertir N/m² a MPa\n",
        "\n",
        "    # Mostrar sustitución\n",
        "    display(Math(\n",
        "        rf'\\textbf{{Sustitución:}} \\quad \\sigma_{{\\mathrm{{real}}}} = \\frac{{{P} \\, \\mathrm{{N}}}}{{{A:.6f} \\, \\mathrm{{m^2}}}} = {sigma_real:.2f} \\, \\mathrm{{MPa}}'\n",
        "    ))\n",
        "\n",
        "    # Calcular esfuerzo admisible\n",
        "    sigma_adm = sigma_resistencia / FS\n",
        "\n",
        "    # Mostrar esfuerzo admisible\n",
        "    display(Math(\n",
        "        rf'\\textbf{{Esfuerzo admisible:}} \\quad \\sigma_{{\\mathrm{{adm}}}} = \\frac{{{sigma_resistencia} \\, \\mathrm{{MPa}}}}{{{FS}}} = {sigma_adm:.2f} \\, \\mathrm{{MPa}}'\n",
        "    ))\n",
        "\n",
        "    # Evaluación de seguridad\n",
        "    if sigma_real < sigma_adm:\n",
        "        display(Math(r'\\textcolor{green}{\\textbf{Resultado:}} \\quad \\sigma_{\\mathrm{real}} < \\sigma_{\\mathrm{adm}} \\Rightarrow \\text{No hay riesgo de aplastamiento.}'))\n",
        "    else:\n",
        "        display(Math(r'\\textcolor{red}{\\textbf{Advertencia:}} \\quad \\sigma_{\\mathrm{real}} \\geq \\sigma_{\\mathrm{adm}} \\Rightarrow \\text{Revisar diseño.}'))\n",
        "\n",
        "    return sigma_real, sigma_adm\n",
        "\n",
        "# Variables editables\n",
        "P_val = 18791.05  # Peso por columna en N\n",
        "A_val_m2 = 0.013   # Área de la sección transversal en m²\n",
        "sigma_resistencia_val = 250  # Límite de resistencia del AISI 302 en MPa\n",
        "FS_val = 3  # Factor de seguridad\n",
        "\n",
        "# Calcular y comparar esfuerzos\n",
        "sigma_real, sigma_adm = calcular_esfuerzo_compresion(P_val, A_val_m2, sigma_resistencia_val, FS_val)\n"
      ],
      "metadata": {
        "colab": {
          "base_uri": "https://localhost:8080/",
          "height": 142
        },
        "outputId": "31dd93bb-e602-467a-c882-92029dff00e5",
        "id": "kAWPAC8lkyYz"
      },
      "execution_count": null,
      "outputs": [
        {
          "output_type": "display_data",
          "data": {
            "text/plain": [
              "<IPython.core.display.Math object>"
            ],
            "text/latex": "$\\displaystyle \\textbf{Ecuación general:} \\quad \\sigma_{\\mathrm{real}} = \\frac{P}{A}$"
          },
          "metadata": {}
        },
        {
          "output_type": "display_data",
          "data": {
            "text/plain": [
              "<IPython.core.display.Math object>"
            ],
            "text/latex": "$\\displaystyle \\textbf{Sustitución:} \\quad \\sigma_{\\mathrm{real}} = \\frac{18791.05 \\, \\mathrm{N}}{0.013000 \\, \\mathrm{m^2}} = 1.45 \\, \\mathrm{MPa}$"
          },
          "metadata": {}
        },
        {
          "output_type": "display_data",
          "data": {
            "text/plain": [
              "<IPython.core.display.Math object>"
            ],
            "text/latex": "$\\displaystyle \\textbf{Esfuerzo admisible:} \\quad \\sigma_{\\mathrm{adm}} = \\frac{250 \\, \\mathrm{MPa}}{3} = 83.33 \\, \\mathrm{MPa}$"
          },
          "metadata": {}
        },
        {
          "output_type": "display_data",
          "data": {
            "text/plain": [
              "<IPython.core.display.Math object>"
            ],
            "text/latex": "$\\displaystyle \\textcolor{green}{\\textbf{Resultado:}} \\quad \\sigma_{\\mathrm{real}} < \\sigma_{\\mathrm{adm}} \\Rightarrow \\text{No hay riesgo de aplastamiento.}$"
          },
          "metadata": {}
        }
      ]
    },
    {
      "cell_type": "markdown",
      "source": [
        "*inercia de las columnas de la plataforma*"
      ],
      "metadata": {
        "id": "ZcVwT59unkEN"
      }
    },
    {
      "cell_type": "code",
      "source": [
        "from IPython.display import display, Math\n",
        "import math\n",
        "\n",
        "def calcular_inercia_rectangular(b_m, h_m):\n",
        "    # Mostrar ecuación general\n",
        "    display(Math(r'\\textbf{Ecuación general:} \\quad I_y = \\frac{b \\cdot h^3}{12}'))\n",
        "\n",
        "    # Calcular inercia en m^4\n",
        "    I = (b_m * h_m**3) / 12\n",
        "\n",
        "    # Formato científico (mantisa × 10^exponente)\n",
        "    exponent = int(math.floor(math.log10(abs(I)))) if I != 0 else 0\n",
        "    mantissa = I / (10**exponent)\n",
        "\n",
        "    # Mostrar sustitución\n",
        "    display(Math(\n",
        "        rf'''\\textbf{{Sustitución:}} \\quad I_y = \\frac{{{b_m:.3f} \\cdot ({h_m:.3f})^3}}{{12}}\n",
        "        = {mantissa:.2f} \\times 10^{{{exponent}}} \\, \\mathrm{{m^4}}'''\n",
        "    ))\n",
        "\n",
        "    return I\n",
        "\n",
        "# Valores de entrada en metros\n",
        "base_m = 0.065   # espesor o base de la columna en metros\n",
        "altura_m = 0.200 # altura o longitud en metros\n",
        "\n",
        "# Calcular inercia\n",
        "Iy = calcular_inercia_rectangular(base_m, altura_m)\n"
      ],
      "metadata": {
        "colab": {
          "base_uri": "https://localhost:8080/",
          "height": 91
        },
        "id": "_Tmis9tHpM1c",
        "outputId": "0990471b-35d8-4f01-da28-f36ced80cab6"
      },
      "execution_count": null,
      "outputs": [
        {
          "output_type": "display_data",
          "data": {
            "text/plain": [
              "<IPython.core.display.Math object>"
            ],
            "text/latex": "$\\displaystyle \\textbf{Ecuación general:} \\quad I_y = \\frac{b \\cdot h^3}{12}$"
          },
          "metadata": {}
        },
        {
          "output_type": "display_data",
          "data": {
            "text/plain": [
              "<IPython.core.display.Math object>"
            ],
            "text/latex": "$\\displaystyle \\textbf{Sustitución:} \\quad I_y = \\frac{0.065 \\cdot (0.200)^3}{12} \n        = 4.33 \\times 10^{-5} \\, \\mathrm{m^4}$"
          },
          "metadata": {}
        }
      ]
    },
    {
      "cell_type": "markdown",
      "source": [
        "*lonjitud efectiva de la la plataforma*"
      ],
      "metadata": {
        "id": "QIu3po35ptxd"
      }
    },
    {
      "cell_type": "code",
      "source": [
        "from IPython.display import display, Math\n",
        "\n",
        "def calcular_longitud_efectiva(k, L):\n",
        "    # Mostrar ecuación general\n",
        "    display(Math(r'\\textbf{Ecuación general:} \\quad L_e = k \\cdot L'))\n",
        "\n",
        "    # Calcular longitud efectiva\n",
        "    Le = k * L\n",
        "\n",
        "    # Mostrar sustitución\n",
        "    display(Math(\n",
        "        rf'''\\textbf{{Sustitución:}} \\quad L_e = {k} \\cdot {L} \\, \\mathrm{{m}} = {Le:.3f} \\, \\mathrm{{m}}'''\n",
        "    ))\n",
        "\n",
        "    return Le\n",
        "\n",
        "# Variables de entrada\n",
        "k_val = 0.5     # Factor de empotramiento (para ambos extremos)\n",
        "L_val = 2.406   # Longitud de la columna en metros\n",
        "import math\n",
        "\n",
        "# Datos conocidos\n",
        "E = 200e9  # Pa (módulo de elasticidad del acero A36)\n",
        "I = 43.33e-5  # m^4 (momento de inercia)\n",
        "Le = 1.203  # m (longitud efectiva)\n",
        "P_real = 21216.975  # N (carga real)\n",
        "\n",
        "# Cálculo de carga crítica de pandeo\n",
        "Pcr = (math.pi ** 2 * E * I) / (Le ** 2)\n",
        "\n",
        "# Comparación con carga real\n",
        "porcentaje = (P_real / Pcr) * 100\n",
        "\n",
        "# Resultados\n",
        "print(f\"Carga crítica de pandeo (Pcr): {Pcr:.2f} N\")\n",
        "print(f\"Porcentaje de la carga real respecto a Pcr: {porcentaje:.4f}%\")\n",
        "\n",
        "# Evaluación de riesgo\n",
        "if porcentaje < 100:\n",
        "    print(\"No existe riesgo de pandeo.\")\n",
        "else:\n",
        "    print(\"Existe riesgo de pandeo.\")\n",
        "\n",
        "# Calcular longitud efectiva\n",
        "Le_val = calcular_longitud_efectiva(k_val, L_val)\n"
      ],
      "metadata": {
        "colab": {
          "base_uri": "https://localhost:8080/",
          "height": 112
        },
        "id": "b8_A_2kVp0RN",
        "outputId": "618809fb-60d3-4717-bb65-e87d4354644e"
      },
      "execution_count": null,
      "outputs": [
        {
          "output_type": "stream",
          "name": "stdout",
          "text": [
            "Carga crítica de pandeo (Pcr): 590999584.30 N\n",
            "Porcentaje de la carga real respecto a Pcr: 0.0036%\n",
            "No existe riesgo de pandeo.\n"
          ]
        },
        {
          "output_type": "display_data",
          "data": {
            "text/plain": [
              "<IPython.core.display.Math object>"
            ],
            "text/latex": "$\\displaystyle \\textbf{Ecuación general:} \\quad L_e = k \\cdot L$"
          },
          "metadata": {}
        },
        {
          "output_type": "display_data",
          "data": {
            "text/plain": [
              "<IPython.core.display.Math object>"
            ],
            "text/latex": "$\\displaystyle \\textbf{Sustitución:} \\quad L_e = 0.5 \\cdot 2.406 \\, \\mathrm{m} = 1.203 \\, \\mathrm{m}$"
          },
          "metadata": {}
        }
      ]
    },
    {
      "cell_type": "markdown",
      "source": [
        "*carga critica por pandeo para la plataforma*"
      ],
      "metadata": {
        "id": "ezoQ9l8o4nzW"
      }
    },
    {
      "cell_type": "code",
      "source": [
        "from IPython.display import display, Math\n",
        "from math import pi, floor, log10\n",
        "\n",
        "def notacion_especifica(valor, formato=None):\n",
        "    if formato == 'E':\n",
        "        # Mostrar módulo de elasticidad en Pa (ya está en Pa)\n",
        "        return r\"2.0 \\times 10^{11}\"\n",
        "    elif formato == 'I':\n",
        "        # Mostrar inercia\n",
        "        return r\"43.33 \\times 10^{-5}\"\n",
        "    else:\n",
        "        if abs(valor) >= 1e4 or abs(valor) <= 1e-4:\n",
        "            exponente = int(floor(log10(abs(valor))))\n",
        "            base = valor / (10 ** exponente)\n",
        "            return f\"{base:.2f} \\\\times 10^{{{exponente}}}\"\n",
        "        return f\"{valor:.2f}\"\n",
        "\n",
        "def calcular_carga_critica(E, I, Le):\n",
        "    display(Math(r'\\textbf{Ecuación general:} \\quad P_{cr} = \\frac{\\pi^2 \\cdot E \\cdot I}{L_e^2}'))\n",
        "\n",
        "    P_cr = (pi ** 2) * E * I / Le ** 2\n",
        "\n",
        "    E_str = notacion_especifica(E, 'E')  # Se muestra en Pa\n",
        "    I_str = notacion_especifica(I, 'I')\n",
        "    P_cr_str = notacion_especifica(P_cr)\n",
        "\n",
        "    display(Math(\n",
        "        rf'\\textbf{{Sustitución:}} \\quad P_{{cr}} = \\frac{{\\pi^2 \\cdot {E_str} \\cdot {I_str}}}{{{Le:.3f}^2}}'\n",
        "    ))\n",
        "\n",
        "    display(Math(rf'\\textbf{{Resultado:}} \\quad P_{{cr}} = {P_cr_str} \\, \\mathrm{{N}}'))\n",
        "\n",
        "    return P_cr\n",
        "\n",
        "# Valores editables\n",
        "E_val = 2.0e11     # MPa (en Pa ya)\n",
        "I_val = 43.33e-5   # m^4\n",
        "Le_val = 1.203     # m\n",
        "\n",
        "carga_critica = calcular_carga_critica(E_val, I_val, Le_val)\n"
      ],
      "metadata": {
        "colab": {
          "base_uri": "https://localhost:8080/",
          "height": 116
        },
        "id": "6eOGkYyH9uZ_",
        "outputId": "353b6fd2-8220-47db-a127-9ba8d55202bb"
      },
      "execution_count": null,
      "outputs": [
        {
          "output_type": "display_data",
          "data": {
            "text/plain": [
              "<IPython.core.display.Math object>"
            ],
            "text/latex": "$\\displaystyle \\textbf{Ecuación general:} \\quad P_{cr} = \\frac{\\pi^2 \\cdot E \\cdot I}{L_e^2}$"
          },
          "metadata": {}
        },
        {
          "output_type": "display_data",
          "data": {
            "text/plain": [
              "<IPython.core.display.Math object>"
            ],
            "text/latex": "$\\displaystyle \\textbf{Sustitución:} \\quad P_{cr} = \\frac{\\pi^2 \\cdot 2.0 \\times 10^{11} \\cdot 43.33 \\times 10^{-5}}{1.203^2}$"
          },
          "metadata": {}
        },
        {
          "output_type": "display_data",
          "data": {
            "text/plain": [
              "<IPython.core.display.Math object>"
            ],
            "text/latex": "$\\displaystyle \\textbf{Resultado:} \\quad P_{cr} = 5.91 \\times 10^{8} \\, \\mathrm{N}$"
          },
          "metadata": {}
        }
      ]
    },
    {
      "cell_type": "code",
      "source": [
        "# Datos proporcionados\n",
        "carga_real = 21216.975  # en N\n",
        "carga_critica_pandeo = 5.91 * 10**6  # en N (carga crítica de pandeo calculada previamente)\n",
        "\n",
        "# Cálculo del porcentaje\n",
        "porcentaje = (carga_real / carga_critica_pandeo) * 100\n",
        "\n",
        "# Mostrar el resultado\n",
        "print(f\"La carga real representa el {porcentaje:.4f}% de la carga crítica de pandeo.\")\n"
      ],
      "metadata": {
        "id": "aqjpQIqs-_8b",
        "outputId": "b73cf9d0-fb5d-44a1-932c-c6d1b8d0310a",
        "colab": {
          "base_uri": "https://localhost:8080/"
        }
      },
      "execution_count": null,
      "outputs": [
        {
          "output_type": "stream",
          "name": "stdout",
          "text": [
            "La carga real representa el 0.3590% de la carga crítica de pandeo.\n"
          ]
        }
      ]
    }
  ]
}